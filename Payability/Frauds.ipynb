{
 "cells": [
  {
   "cell_type": "markdown",
   "metadata": {},
   "source": [
    "# Imort libraries"
   ]
  },
  {
   "cell_type": "code",
   "execution_count": 285,
   "metadata": {},
   "outputs": [
    {
     "name": "stdout",
     "output_type": "stream",
     "text": [
      "\u001b[34m==>\u001b[0m \u001b[1mDownloading https://ghcr.io/v2/homebrew/core/libomp/manifests/12.0.0\u001b[0m\n",
      "######################################################################## 100.0%\n",
      "\u001b[34m==>\u001b[0m \u001b[1mDownloading https://ghcr.io/v2/homebrew/core/libomp/blobs/sha256:fe1e5c0fa8f\u001b[0m\n",
      "\u001b[34m==>\u001b[0m \u001b[1mDownloading from https://pkg-containers.githubusercontent.com/ghcr1/blobs/sh\u001b[0m\n",
      "######################################################################## 100.0%\n",
      "\u001b[34m==>\u001b[0m \u001b[1mPouring libomp--12.0.0.big_sur.bottle.tar.gz\u001b[0m\n",
      "🍺  /usr/local/Cellar/libomp/12.0.0: 9 files, 1.5MB\n"
     ]
    }
   ],
   "source": [
    "!brew install libomp"
   ]
  },
  {
   "cell_type": "code",
   "execution_count": 1,
   "metadata": {},
   "outputs": [],
   "source": [
    "import pandas as pd\n",
    "import numpy as np\n",
    "from sklearn.ensemble import RandomForestClassifier\n",
    "import keras\n",
    "import tensorflow\n",
    "from sklearn.preprocessing import StandardScaler\n",
    "from sklearn import preprocessing\n",
    "from sklearn.model_selection import train_test_split\n",
    "from sklearn.metrics import accuracy_score, classification_report\n",
    "import matplotlib.pyplot as plt\n",
    "import seaborn as sns\n",
    "from keras import Sequential\n",
    "from keras.layers import Dense, Dropout, BatchNormalization, Flatten, Conv1D, Input\n",
    "from tensorflow.python.keras import regularizers\n",
    "from keras.models import Model\n",
    "import lightgbm as lgbm"
   ]
  },
  {
   "cell_type": "markdown",
   "metadata": {},
   "source": [
    "# Import data & label data"
   ]
  },
  {
   "cell_type": "code",
   "execution_count": 3,
   "metadata": {},
   "outputs": [
    {
     "name": "stderr",
     "output_type": "stream",
     "text": [
      "/opt/anaconda3/lib/python3.8/site-packages/IPython/core/interactiveshell.py:3146: DtypeWarning: Columns (8) have mixed types.Specify dtype option on import or set low_memory=False.\n",
      "  has_raised = await self.run_ast_nodes(code_ast.body, cell_name,\n"
     ]
    }
   ],
   "source": [
    "#Import data and label data\n",
    "frauds = pd.read_csv('data/frauds.csv')\n",
    "nonfrauds = pd.read_csv('data/nonfrauds.csv')\n",
    "\n",
    "frauds['user_transaction_time'] = pd.to_datetime(frauds['user_transaction_time'])\n",
    "frauds['date'] = frauds['user_transaction_time'].dt.date\n",
    "\n",
    "nonfrauds['user_transaction_time'] = pd.to_datetime(nonfrauds['user_transaction_time'])\n",
    "nonfrauds['date'] = nonfrauds['user_transaction_time'].dt.date\n",
    "\n",
    "frauds['is_fraud'] = 1\n",
    "nonfrauds['is_fraud'] = 0"
   ]
  },
  {
   "cell_type": "code",
   "execution_count": 4,
   "metadata": {},
   "outputs": [],
   "source": [
    "# Sampling for each day by taking 1% of good transactions and 100% of frauds\n",
    "\n",
    "frauds_date = sorted(list(set(frauds['date'])))\n",
    "nonfraud = pd.DataFrame()\n",
    "\n",
    "for date in frauds_date:\n",
    "    dftemp = nonfrauds.loc[nonfrauds['date'] == date]\n",
    "    dftemp = dftemp.sample(frac = 0.02, random_state = 0)\n",
    "    nonfraud = nonfraud.append(dftemp)\n",
    "\n",
    "df = frauds.append(nonfraud)"
   ]
  },
  {
   "cell_type": "code",
   "execution_count": 5,
   "metadata": {},
   "outputs": [
    {
     "data": {
      "text/html": [
       "<div>\n",
       "<style scoped>\n",
       "    .dataframe tbody tr th:only-of-type {\n",
       "        vertical-align: middle;\n",
       "    }\n",
       "\n",
       "    .dataframe tbody tr th {\n",
       "        vertical-align: top;\n",
       "    }\n",
       "\n",
       "    .dataframe thead th {\n",
       "        text-align: right;\n",
       "    }\n",
       "</style>\n",
       "<table border=\"1\" class=\"dataframe\">\n",
       "  <thead>\n",
       "    <tr style=\"text-align: right;\">\n",
       "      <th></th>\n",
       "      <th>key</th>\n",
       "      <th>user_transaction_time</th>\n",
       "      <th>channel</th>\n",
       "      <th>transaction_risk_score</th>\n",
       "      <th>processing_type</th>\n",
       "      <th>cc_amount</th>\n",
       "      <th>ledger_balance</th>\n",
       "      <th>cc_acceptor_state</th>\n",
       "      <th>acceptor_state</th>\n",
       "      <th>cc_acceptor_country</th>\n",
       "      <th>cardholder_presence</th>\n",
       "      <th>card_presence</th>\n",
       "      <th>partial_approval_capable</th>\n",
       "      <th>pin_present</th>\n",
       "      <th>date</th>\n",
       "      <th>is_fraud</th>\n",
       "    </tr>\n",
       "  </thead>\n",
       "  <tbody>\n",
       "    <tr>\n",
       "      <th>0</th>\n",
       "      <td>9d851f1b-00b3-4b02-9494-beda8866d6f7</td>\n",
       "      <td>2020-12-29 16:13:49+00:00</td>\n",
       "      <td>ECOMMERCE</td>\n",
       "      <td>82.0</td>\n",
       "      <td>MANUAL</td>\n",
       "      <td>14.99</td>\n",
       "      <td>134.91</td>\n",
       "      <td>NaN</td>\n",
       "      <td>NaN</td>\n",
       "      <td>HK</td>\n",
       "      <td>0.0</td>\n",
       "      <td>0.0</td>\n",
       "      <td>0.0</td>\n",
       "      <td>False</td>\n",
       "      <td>2020-12-29</td>\n",
       "      <td>1</td>\n",
       "    </tr>\n",
       "    <tr>\n",
       "      <th>1</th>\n",
       "      <td>dc13ebc6-a527-46d0-b424-6642d47c8a11</td>\n",
       "      <td>2020-12-29 16:13:32+00:00</td>\n",
       "      <td>ECOMMERCE</td>\n",
       "      <td>82.0</td>\n",
       "      <td>MANUAL</td>\n",
       "      <td>14.99</td>\n",
       "      <td>359.76</td>\n",
       "      <td>NaN</td>\n",
       "      <td>NaN</td>\n",
       "      <td>HK</td>\n",
       "      <td>0.0</td>\n",
       "      <td>0.0</td>\n",
       "      <td>0.0</td>\n",
       "      <td>False</td>\n",
       "      <td>2020-12-29</td>\n",
       "      <td>1</td>\n",
       "    </tr>\n",
       "    <tr>\n",
       "      <th>2</th>\n",
       "      <td>5e8f4d8f-a720-4a3d-ac55-f8953db3b527</td>\n",
       "      <td>2020-12-29 16:13:13+00:00</td>\n",
       "      <td>ECOMMERCE</td>\n",
       "      <td>82.0</td>\n",
       "      <td>MANUAL</td>\n",
       "      <td>14.99</td>\n",
       "      <td>419.72</td>\n",
       "      <td>NaN</td>\n",
       "      <td>NaN</td>\n",
       "      <td>HK</td>\n",
       "      <td>0.0</td>\n",
       "      <td>0.0</td>\n",
       "      <td>0.0</td>\n",
       "      <td>False</td>\n",
       "      <td>2020-12-29</td>\n",
       "      <td>1</td>\n",
       "    </tr>\n",
       "    <tr>\n",
       "      <th>3</th>\n",
       "      <td>74e6ff6d-f341-4300-8cac-30ab9e5ed5cf</td>\n",
       "      <td>2020-12-29 16:12:56+00:00</td>\n",
       "      <td>ECOMMERCE</td>\n",
       "      <td>82.0</td>\n",
       "      <td>MANUAL</td>\n",
       "      <td>14.99</td>\n",
       "      <td>149.90</td>\n",
       "      <td>NaN</td>\n",
       "      <td>NaN</td>\n",
       "      <td>HK</td>\n",
       "      <td>0.0</td>\n",
       "      <td>0.0</td>\n",
       "      <td>0.0</td>\n",
       "      <td>False</td>\n",
       "      <td>2020-12-29</td>\n",
       "      <td>1</td>\n",
       "    </tr>\n",
       "    <tr>\n",
       "      <th>4</th>\n",
       "      <td>c63d2508-f935-4092-bde1-434e1acbd0ef</td>\n",
       "      <td>2020-12-29 16:12:38+00:00</td>\n",
       "      <td>ECOMMERCE</td>\n",
       "      <td>82.0</td>\n",
       "      <td>MANUAL</td>\n",
       "      <td>14.99</td>\n",
       "      <td>164.89</td>\n",
       "      <td>NaN</td>\n",
       "      <td>NaN</td>\n",
       "      <td>HK</td>\n",
       "      <td>0.0</td>\n",
       "      <td>0.0</td>\n",
       "      <td>0.0</td>\n",
       "      <td>False</td>\n",
       "      <td>2020-12-29</td>\n",
       "      <td>1</td>\n",
       "    </tr>\n",
       "    <tr>\n",
       "      <th>...</th>\n",
       "      <td>...</td>\n",
       "      <td>...</td>\n",
       "      <td>...</td>\n",
       "      <td>...</td>\n",
       "      <td>...</td>\n",
       "      <td>...</td>\n",
       "      <td>...</td>\n",
       "      <td>...</td>\n",
       "      <td>...</td>\n",
       "      <td>...</td>\n",
       "      <td>...</td>\n",
       "      <td>...</td>\n",
       "      <td>...</td>\n",
       "      <td>...</td>\n",
       "      <td>...</td>\n",
       "      <td>...</td>\n",
       "    </tr>\n",
       "    <tr>\n",
       "      <th>973141</th>\n",
       "      <td>2a02da06-f749-4487-a3fe-0b8cea967f1c</td>\n",
       "      <td>2020-12-29 22:39:38+00:00</td>\n",
       "      <td>ECOMMERCE</td>\n",
       "      <td>3.0</td>\n",
       "      <td>CARD_ON_FILE</td>\n",
       "      <td>71.74</td>\n",
       "      <td>366.89</td>\n",
       "      <td>FL</td>\n",
       "      <td>12</td>\n",
       "      <td>US</td>\n",
       "      <td>0.0</td>\n",
       "      <td>0.0</td>\n",
       "      <td>0.0</td>\n",
       "      <td>False</td>\n",
       "      <td>2020-12-29</td>\n",
       "      <td>0</td>\n",
       "    </tr>\n",
       "    <tr>\n",
       "      <th>274308</th>\n",
       "      <td>c8fdbf82-51ae-4825-a6d4-dc8971cb5766</td>\n",
       "      <td>2020-12-29 00:47:18+00:00</td>\n",
       "      <td>ECOMMERCE</td>\n",
       "      <td>3.0</td>\n",
       "      <td>MANUAL</td>\n",
       "      <td>22.20</td>\n",
       "      <td>16064.28</td>\n",
       "      <td>AR</td>\n",
       "      <td>5</td>\n",
       "      <td>US</td>\n",
       "      <td>0.0</td>\n",
       "      <td>0.0</td>\n",
       "      <td>0.0</td>\n",
       "      <td>False</td>\n",
       "      <td>2020-12-29</td>\n",
       "      <td>0</td>\n",
       "    </tr>\n",
       "    <tr>\n",
       "      <th>701812</th>\n",
       "      <td>8dbe69a8-04cc-40be-a19f-43128a86420c</td>\n",
       "      <td>2020-12-29 16:26:22+00:00</td>\n",
       "      <td>OTHER</td>\n",
       "      <td>24.0</td>\n",
       "      <td>CHIP</td>\n",
       "      <td>20.00</td>\n",
       "      <td>763.38</td>\n",
       "      <td>CA</td>\n",
       "      <td>6</td>\n",
       "      <td>US</td>\n",
       "      <td>1.0</td>\n",
       "      <td>1.0</td>\n",
       "      <td>1.0</td>\n",
       "      <td>False</td>\n",
       "      <td>2020-12-29</td>\n",
       "      <td>0</td>\n",
       "    </tr>\n",
       "    <tr>\n",
       "      <th>273846</th>\n",
       "      <td>a07b0828-c909-4a7e-901d-c169cde8cd18</td>\n",
       "      <td>2020-12-29 08:09:59+00:00</td>\n",
       "      <td>ECOMMERCE</td>\n",
       "      <td>2.0</td>\n",
       "      <td>MANUAL</td>\n",
       "      <td>10.66</td>\n",
       "      <td>15931.11</td>\n",
       "      <td>AR</td>\n",
       "      <td>5</td>\n",
       "      <td>US</td>\n",
       "      <td>0.0</td>\n",
       "      <td>0.0</td>\n",
       "      <td>0.0</td>\n",
       "      <td>False</td>\n",
       "      <td>2020-12-29</td>\n",
       "      <td>0</td>\n",
       "    </tr>\n",
       "    <tr>\n",
       "      <th>1206587</th>\n",
       "      <td>ddb187dc-18e8-4d0b-90a1-9655ba811194</td>\n",
       "      <td>2020-12-29 17:45:43+00:00</td>\n",
       "      <td>ECOMMERCE</td>\n",
       "      <td>7.0</td>\n",
       "      <td>MANUAL</td>\n",
       "      <td>59.92</td>\n",
       "      <td>26574.43</td>\n",
       "      <td>IL</td>\n",
       "      <td>17</td>\n",
       "      <td>US</td>\n",
       "      <td>0.0</td>\n",
       "      <td>0.0</td>\n",
       "      <td>0.0</td>\n",
       "      <td>False</td>\n",
       "      <td>2020-12-29</td>\n",
       "      <td>0</td>\n",
       "    </tr>\n",
       "  </tbody>\n",
       "</table>\n",
       "<p>7977 rows × 16 columns</p>\n",
       "</div>"
      ],
      "text/plain": [
       "                                          key     user_transaction_time  \\\n",
       "0        9d851f1b-00b3-4b02-9494-beda8866d6f7 2020-12-29 16:13:49+00:00   \n",
       "1        dc13ebc6-a527-46d0-b424-6642d47c8a11 2020-12-29 16:13:32+00:00   \n",
       "2        5e8f4d8f-a720-4a3d-ac55-f8953db3b527 2020-12-29 16:13:13+00:00   \n",
       "3        74e6ff6d-f341-4300-8cac-30ab9e5ed5cf 2020-12-29 16:12:56+00:00   \n",
       "4        c63d2508-f935-4092-bde1-434e1acbd0ef 2020-12-29 16:12:38+00:00   \n",
       "...                                       ...                       ...   \n",
       "973141   2a02da06-f749-4487-a3fe-0b8cea967f1c 2020-12-29 22:39:38+00:00   \n",
       "274308   c8fdbf82-51ae-4825-a6d4-dc8971cb5766 2020-12-29 00:47:18+00:00   \n",
       "701812   8dbe69a8-04cc-40be-a19f-43128a86420c 2020-12-29 16:26:22+00:00   \n",
       "273846   a07b0828-c909-4a7e-901d-c169cde8cd18 2020-12-29 08:09:59+00:00   \n",
       "1206587  ddb187dc-18e8-4d0b-90a1-9655ba811194 2020-12-29 17:45:43+00:00   \n",
       "\n",
       "           channel  transaction_risk_score processing_type  cc_amount  \\\n",
       "0        ECOMMERCE                    82.0          MANUAL      14.99   \n",
       "1        ECOMMERCE                    82.0          MANUAL      14.99   \n",
       "2        ECOMMERCE                    82.0          MANUAL      14.99   \n",
       "3        ECOMMERCE                    82.0          MANUAL      14.99   \n",
       "4        ECOMMERCE                    82.0          MANUAL      14.99   \n",
       "...            ...                     ...             ...        ...   \n",
       "973141   ECOMMERCE                     3.0    CARD_ON_FILE      71.74   \n",
       "274308   ECOMMERCE                     3.0          MANUAL      22.20   \n",
       "701812       OTHER                    24.0            CHIP      20.00   \n",
       "273846   ECOMMERCE                     2.0          MANUAL      10.66   \n",
       "1206587  ECOMMERCE                     7.0          MANUAL      59.92   \n",
       "\n",
       "         ledger_balance cc_acceptor_state acceptor_state cc_acceptor_country  \\\n",
       "0                134.91               NaN            NaN                  HK   \n",
       "1                359.76               NaN            NaN                  HK   \n",
       "2                419.72               NaN            NaN                  HK   \n",
       "3                149.90               NaN            NaN                  HK   \n",
       "4                164.89               NaN            NaN                  HK   \n",
       "...                 ...               ...            ...                 ...   \n",
       "973141           366.89                FL             12                  US   \n",
       "274308         16064.28                AR              5                  US   \n",
       "701812           763.38                CA              6                  US   \n",
       "273846         15931.11                AR              5                  US   \n",
       "1206587        26574.43                IL             17                  US   \n",
       "\n",
       "         cardholder_presence  card_presence  partial_approval_capable  \\\n",
       "0                        0.0            0.0                       0.0   \n",
       "1                        0.0            0.0                       0.0   \n",
       "2                        0.0            0.0                       0.0   \n",
       "3                        0.0            0.0                       0.0   \n",
       "4                        0.0            0.0                       0.0   \n",
       "...                      ...            ...                       ...   \n",
       "973141                   0.0            0.0                       0.0   \n",
       "274308                   0.0            0.0                       0.0   \n",
       "701812                   1.0            1.0                       1.0   \n",
       "273846                   0.0            0.0                       0.0   \n",
       "1206587                  0.0            0.0                       0.0   \n",
       "\n",
       "        pin_present        date  is_fraud  \n",
       "0             False  2020-12-29         1  \n",
       "1             False  2020-12-29         1  \n",
       "2             False  2020-12-29         1  \n",
       "3             False  2020-12-29         1  \n",
       "4             False  2020-12-29         1  \n",
       "...             ...         ...       ...  \n",
       "973141        False  2020-12-29         0  \n",
       "274308        False  2020-12-29         0  \n",
       "701812        False  2020-12-29         0  \n",
       "273846        False  2020-12-29         0  \n",
       "1206587       False  2020-12-29         0  \n",
       "\n",
       "[7977 rows x 16 columns]"
      ]
     },
     "execution_count": 5,
     "metadata": {},
     "output_type": "execute_result"
    }
   ],
   "source": [
    "df"
   ]
  },
  {
   "cell_type": "markdown",
   "metadata": {},
   "source": [
    "# Data Exploration"
   ]
  },
  {
   "cell_type": "code",
   "execution_count": 4,
   "metadata": {},
   "outputs": [
    {
     "name": "stdout",
     "output_type": "stream",
     "text": [
      "Percentage of non frauds: 4.989344365049518%\n"
     ]
    },
    {
     "data": {
      "image/png": "[encoded data removed]",
      "text/plain": [
       "<Figure size 720x360 with 1 Axes>"
      ]
     },
     "metadata": {
      "needs_background": "light"
     },
     "output_type": "display_data"
    }
   ],
   "source": [
    "xaxis = ['Non Frauds', 'Frauds']\n",
    "yaxis = list(df.is_fraud.value_counts())\n",
    "plt.figure(figsize=(10,5))\n",
    "plt.bar(xaxis,yaxis,color='skyblue')\n",
    "plt.title(\"Frauds vs Non frauds\", fontsize = 20)\n",
    "plt.ylabel('Count', fontsize = 15)\n",
    "print(\"Percentage of non frauds: \" + str(df.is_fraud.value_counts(1)[1]*100) + \"%\")"
   ]
  },
  {
   "cell_type": "code",
   "execution_count": 5,
   "metadata": {},
   "outputs": [
    {
     "data": {
      "text/plain": [
       "Text(0, 0.5, 'Count of Non Frauds')"
      ]
     },
     "execution_count": 5,
     "metadata": {},
     "output_type": "execute_result"
    },
    {
     "data": {
      "image/png": "[encoded data removed]",
      "text/plain": [
       "<Figure size 720x360 with 1 Axes>"
      ]
     },
     "metadata": {
      "needs_background": "light"
     },
     "output_type": "display_data"
    }
   ],
   "source": [
    "grpby_df = nonfraud.groupby(['transaction_risk_score']).count()\n",
    "xaxis = list(grpby_df.index)\n",
    "yaxis = list(grpby_df['key'])\n",
    "plt.figure(figsize=(10,5))\n",
    "plt.bar(xaxis,yaxis,color='skyblue')\n",
    "plt.title('Distribution of Non frauds', fontsize=20)\n",
    "plt.xlabel(r'Transaction risk score',fontsize=15)\n",
    "plt.ylabel(r'Count of Non Frauds', fontsize=15)"
   ]
  },
  {
   "cell_type": "code",
   "execution_count": 6,
   "metadata": {},
   "outputs": [
    {
     "data": {
      "text/plain": [
       "Text(0, 0.5, 'Count of Frauds')"
      ]
     },
     "execution_count": 6,
     "metadata": {},
     "output_type": "execute_result"
    },
    {
     "data": {
      "image/png": "[encoded data removed]",
      "text/plain": [
       "<Figure size 720x360 with 1 Axes>"
      ]
     },
     "metadata": {
      "needs_background": "light"
     },
     "output_type": "display_data"
    }
   ],
   "source": [
    "grpby_df = frauds.groupby(['transaction_risk_score']).count()\n",
    "xaxis = list(grpby_df.index)\n",
    "yaxis = list(grpby_df['key'])\n",
    "plt.figure(figsize=(10,5))\n",
    "plt.bar(xaxis,yaxis,color='lightcoral')\n",
    "plt.title('Distribution of Frauds', fontsize=20)\n",
    "plt.xlabel(r'Transaction_risk_score',fontsize=15)\n",
    "plt.ylabel(r'Count of Frauds', fontsize=15)"
   ]
  },
  {
   "cell_type": "code",
   "execution_count": 7,
   "metadata": {},
   "outputs": [
    {
     "data": {
      "image/png": "[encoded data removed]",
      "text/plain": [
       "<Figure size 720x360 with 1 Axes>"
      ]
     },
     "metadata": {
      "needs_background": "light"
     },
     "output_type": "display_data"
    }
   ],
   "source": [
    "p0 = df[df['is_fraud'] == 0]['transaction_risk_score']\n",
    "p1 = df[df['is_fraud'] == 1]['transaction_risk_score']\n",
    "\n",
    "plt.figure(figsize=(10,5))\n",
    "sns.histplot(p0, kde=False, bins=50, color='skyblue')\n",
    "sns.histplot(p1, kde=False, bins=50, color='lightcoral')\n",
    "\n",
    "plt.title(\"Distribution of transaction risk score per true class\", fontsize=20)\n",
    "plt.legend([\"class: 0\", \"class: 1\"], fontsize = 15)\n",
    "plt.show()"
   ]
  },
  {
   "cell_type": "markdown",
   "metadata": {},
   "source": [
    "# Preprocessing"
   ]
  },
  {
   "cell_type": "markdown",
   "metadata": {},
   "source": [
    "## Fill in NA's"
   ]
  },
  {
   "cell_type": "code",
   "execution_count": 8,
   "metadata": {},
   "outputs": [],
   "source": [
    "df['transaction_risk_score'] = df['transaction_risk_score'].fillna(df['transaction_risk_score'].mean())\n",
    "df['channel'] = df['channel'].fillna('OTHER')\n",
    "df['processing_type'] = df['processing_type'].fillna('UNKNOWN')\n",
    "df[['cc_amount','ledger_balance','cardholder_presence','card_presence',\n",
    "    'partial_approval_capable']] = df[['cc_amount','ledger_balance','cardholder_presence','card_presence',\n",
    "                                       'partial_approval_capable']].fillna(0)\n",
    "df['cc_acceptor_state'] = df['cc_acceptor_state'].fillna('UNKNOWN')"
   ]
  },
  {
   "cell_type": "markdown",
   "metadata": {},
   "source": [
    "## Encode categorical variables and create new data frame from those"
   ]
  },
  {
   "cell_type": "code",
   "execution_count": 9,
   "metadata": {},
   "outputs": [],
   "source": [
    "cat_cols = ['channel','processing_type','cc_acceptor_state','cc_acceptor_country']\n",
    "for c in cat_cols:\n",
    "    df[c] = df[c].astype('category').cat.codes"
   ]
  },
  {
   "cell_type": "code",
   "execution_count": 13,
   "metadata": {},
   "outputs": [],
   "source": [
    "df2 = df[['transaction_risk_score','cc_amount','ledger_balance','cardholder_presence','card_presence', 'date',\n",
    "          'partial_approval_capable','channel','processing_type','cc_acceptor_state','cc_acceptor_country','is_fraud']]\n",
    "df2 = df2.sort_values(by='date')\n",
    "#df2 = df2.drop(\"date\",axis=1)"
   ]
  },
  {
   "cell_type": "code",
   "execution_count": 14,
   "metadata": {},
   "outputs": [
    {
     "data": {
      "text/html": [
       "<div>\n",
       "<style scoped>\n",
       "    .dataframe tbody tr th:only-of-type {\n",
       "        vertical-align: middle;\n",
       "    }\n",
       "\n",
       "    .dataframe tbody tr th {\n",
       "        vertical-align: top;\n",
       "    }\n",
       "\n",
       "    .dataframe thead th {\n",
       "        text-align: right;\n",
       "    }\n",
       "</style>\n",
       "<table border=\"1\" class=\"dataframe\">\n",
       "  <thead>\n",
       "    <tr style=\"text-align: right;\">\n",
       "      <th></th>\n",
       "      <th>transaction_risk_score</th>\n",
       "      <th>cc_amount</th>\n",
       "      <th>ledger_balance</th>\n",
       "      <th>cardholder_presence</th>\n",
       "      <th>card_presence</th>\n",
       "      <th>date</th>\n",
       "      <th>partial_approval_capable</th>\n",
       "      <th>channel</th>\n",
       "      <th>processing_type</th>\n",
       "      <th>cc_acceptor_state</th>\n",
       "      <th>cc_acceptor_country</th>\n",
       "      <th>is_fraud</th>\n",
       "    </tr>\n",
       "  </thead>\n",
       "  <tbody>\n",
       "    <tr>\n",
       "      <th>904811</th>\n",
       "      <td>32.000000</td>\n",
       "      <td>10.00</td>\n",
       "      <td>14.66</td>\n",
       "      <td>1.0</td>\n",
       "      <td>1.0</td>\n",
       "      <td>2018-12-25</td>\n",
       "      <td>1.0</td>\n",
       "      <td>2</td>\n",
       "      <td>1</td>\n",
       "      <td>6</td>\n",
       "      <td>20</td>\n",
       "      <td>0</td>\n",
       "    </tr>\n",
       "    <tr>\n",
       "      <th>904680</th>\n",
       "      <td>18.000000</td>\n",
       "      <td>7.19</td>\n",
       "      <td>0.00</td>\n",
       "      <td>0.0</td>\n",
       "      <td>0.0</td>\n",
       "      <td>2018-12-25</td>\n",
       "      <td>0.0</td>\n",
       "      <td>0</td>\n",
       "      <td>4</td>\n",
       "      <td>6</td>\n",
       "      <td>20</td>\n",
       "      <td>0</td>\n",
       "    </tr>\n",
       "    <tr>\n",
       "      <th>1383059</th>\n",
       "      <td>26.000000</td>\n",
       "      <td>225.36</td>\n",
       "      <td>152.58</td>\n",
       "      <td>0.0</td>\n",
       "      <td>0.0</td>\n",
       "      <td>2018-12-25</td>\n",
       "      <td>0.0</td>\n",
       "      <td>0</td>\n",
       "      <td>4</td>\n",
       "      <td>24</td>\n",
       "      <td>20</td>\n",
       "      <td>0</td>\n",
       "    </tr>\n",
       "    <tr>\n",
       "      <th>904802</th>\n",
       "      <td>16.000000</td>\n",
       "      <td>60.98</td>\n",
       "      <td>332.72</td>\n",
       "      <td>0.0</td>\n",
       "      <td>0.0</td>\n",
       "      <td>2018-12-25</td>\n",
       "      <td>0.0</td>\n",
       "      <td>0</td>\n",
       "      <td>4</td>\n",
       "      <td>6</td>\n",
       "      <td>20</td>\n",
       "      <td>0</td>\n",
       "    </tr>\n",
       "    <tr>\n",
       "      <th>1704339</th>\n",
       "      <td>26.000000</td>\n",
       "      <td>31.33</td>\n",
       "      <td>49.95</td>\n",
       "      <td>1.0</td>\n",
       "      <td>1.0</td>\n",
       "      <td>2018-12-25</td>\n",
       "      <td>1.0</td>\n",
       "      <td>2</td>\n",
       "      <td>3</td>\n",
       "      <td>47</td>\n",
       "      <td>20</td>\n",
       "      <td>0</td>\n",
       "    </tr>\n",
       "    <tr>\n",
       "      <th>...</th>\n",
       "      <td>...</td>\n",
       "      <td>...</td>\n",
       "      <td>...</td>\n",
       "      <td>...</td>\n",
       "      <td>...</td>\n",
       "      <td>...</td>\n",
       "      <td>...</td>\n",
       "      <td>...</td>\n",
       "      <td>...</td>\n",
       "      <td>...</td>\n",
       "      <td>...</td>\n",
       "      <td>...</td>\n",
       "    </tr>\n",
       "    <tr>\n",
       "      <th>274230</th>\n",
       "      <td>7.000000</td>\n",
       "      <td>13.52</td>\n",
       "      <td>10551.22</td>\n",
       "      <td>0.0</td>\n",
       "      <td>0.0</td>\n",
       "      <td>2020-12-29</td>\n",
       "      <td>0.0</td>\n",
       "      <td>0</td>\n",
       "      <td>4</td>\n",
       "      <td>3</td>\n",
       "      <td>20</td>\n",
       "      <td>0</td>\n",
       "    </tr>\n",
       "    <tr>\n",
       "      <th>1206587</th>\n",
       "      <td>7.000000</td>\n",
       "      <td>59.92</td>\n",
       "      <td>26574.43</td>\n",
       "      <td>0.0</td>\n",
       "      <td>0.0</td>\n",
       "      <td>2020-12-29</td>\n",
       "      <td>0.0</td>\n",
       "      <td>0</td>\n",
       "      <td>4</td>\n",
       "      <td>15</td>\n",
       "      <td>20</td>\n",
       "      <td>0</td>\n",
       "    </tr>\n",
       "    <tr>\n",
       "      <th>395</th>\n",
       "      <td>14.176699</td>\n",
       "      <td>76.18</td>\n",
       "      <td>1351.90</td>\n",
       "      <td>0.0</td>\n",
       "      <td>0.0</td>\n",
       "      <td>NaT</td>\n",
       "      <td>0.0</td>\n",
       "      <td>2</td>\n",
       "      <td>5</td>\n",
       "      <td>15</td>\n",
       "      <td>20</td>\n",
       "      <td>1</td>\n",
       "    </tr>\n",
       "    <tr>\n",
       "      <th>396</th>\n",
       "      <td>14.176699</td>\n",
       "      <td>620.85</td>\n",
       "      <td>40.93</td>\n",
       "      <td>0.0</td>\n",
       "      <td>0.0</td>\n",
       "      <td>NaT</td>\n",
       "      <td>0.0</td>\n",
       "      <td>2</td>\n",
       "      <td>5</td>\n",
       "      <td>49</td>\n",
       "      <td>20</td>\n",
       "      <td>1</td>\n",
       "    </tr>\n",
       "    <tr>\n",
       "      <th>397</th>\n",
       "      <td>14.176699</td>\n",
       "      <td>176.40</td>\n",
       "      <td>92.64</td>\n",
       "      <td>0.0</td>\n",
       "      <td>0.0</td>\n",
       "      <td>NaT</td>\n",
       "      <td>0.0</td>\n",
       "      <td>2</td>\n",
       "      <td>5</td>\n",
       "      <td>3</td>\n",
       "      <td>20</td>\n",
       "      <td>1</td>\n",
       "    </tr>\n",
       "  </tbody>\n",
       "</table>\n",
       "<p>7977 rows × 12 columns</p>\n",
       "</div>"
      ],
      "text/plain": [
       "         transaction_risk_score  cc_amount  ledger_balance  \\\n",
       "904811                32.000000      10.00           14.66   \n",
       "904680                18.000000       7.19            0.00   \n",
       "1383059               26.000000     225.36          152.58   \n",
       "904802                16.000000      60.98          332.72   \n",
       "1704339               26.000000      31.33           49.95   \n",
       "...                         ...        ...             ...   \n",
       "274230                 7.000000      13.52        10551.22   \n",
       "1206587                7.000000      59.92        26574.43   \n",
       "395                   14.176699      76.18         1351.90   \n",
       "396                   14.176699     620.85           40.93   \n",
       "397                   14.176699     176.40           92.64   \n",
       "\n",
       "         cardholder_presence  card_presence        date  \\\n",
       "904811                   1.0            1.0  2018-12-25   \n",
       "904680                   0.0            0.0  2018-12-25   \n",
       "1383059                  0.0            0.0  2018-12-25   \n",
       "904802                   0.0            0.0  2018-12-25   \n",
       "1704339                  1.0            1.0  2018-12-25   \n",
       "...                      ...            ...         ...   \n",
       "274230                   0.0            0.0  2020-12-29   \n",
       "1206587                  0.0            0.0  2020-12-29   \n",
       "395                      0.0            0.0         NaT   \n",
       "396                      0.0            0.0         NaT   \n",
       "397                      0.0            0.0         NaT   \n",
       "\n",
       "         partial_approval_capable  channel  processing_type  \\\n",
       "904811                        1.0        2                1   \n",
       "904680                        0.0        0                4   \n",
       "1383059                       0.0        0                4   \n",
       "904802                        0.0        0                4   \n",
       "1704339                       1.0        2                3   \n",
       "...                           ...      ...              ...   \n",
       "274230                        0.0        0                4   \n",
       "1206587                       0.0        0                4   \n",
       "395                           0.0        2                5   \n",
       "396                           0.0        2                5   \n",
       "397                           0.0        2                5   \n",
       "\n",
       "         cc_acceptor_state  cc_acceptor_country  is_fraud  \n",
       "904811                   6                   20         0  \n",
       "904680                   6                   20         0  \n",
       "1383059                 24                   20         0  \n",
       "904802                   6                   20         0  \n",
       "1704339                 47                   20         0  \n",
       "...                    ...                  ...       ...  \n",
       "274230                   3                   20         0  \n",
       "1206587                 15                   20         0  \n",
       "395                     15                   20         1  \n",
       "396                     49                   20         1  \n",
       "397                      3                   20         1  \n",
       "\n",
       "[7977 rows x 12 columns]"
      ]
     },
     "execution_count": 14,
     "metadata": {},
     "output_type": "execute_result"
    }
   ],
   "source": [
    "df2"
   ]
  },
  {
   "cell_type": "code",
   "execution_count": 409,
   "metadata": {},
   "outputs": [
    {
     "data": {
      "text/plain": [
       "<AxesSubplot:xlabel='date', ylabel='transactions_cnt'>"
      ]
     },
     "execution_count": 409,
     "metadata": {},
     "output_type": "execute_result"
    },
    {
     "data": {
      "image/png": "[encoded data removed]",
      "text/plain": [
       "<Figure size 1080x360 with 1 Axes>"
      ]
     },
     "metadata": {
      "needs_background": "light"
     },
     "output_type": "display_data"
    }
   ],
   "source": [
    "vc = df['user_transaction_time'].dt.date.value_counts().reset_index()\n",
    "vc.columns = ['date','transactions_cnt']\n",
    "vc.sort_values(by='date',inplace=True)\n",
    "plt.figure(figsize=(15, 5))\n",
    "sns.barplot(x='date',y='transactions_cnt',data=vc)"
   ]
  },
  {
   "cell_type": "markdown",
   "metadata": {},
   "source": [
    "# Train-test split and standard scaling"
   ]
  },
  {
   "cell_type": "code",
   "execution_count": 279,
   "metadata": {},
   "outputs": [],
   "source": [
    "training_set, test_set = np.split(df2, [int(.8 *len(df2))])\n",
    "\n",
    "X_train = training_set.drop(\"is_fraud\",axis=1)\n",
    "y_train = training_set[['is_fraud']].values.flatten()\n",
    "\n",
    "X_test = test_set.drop(\"is_fraud\",axis=1)\n",
    "y_test = test_set[['is_fraud']].values.flatten()\n",
    "\n",
    "scalar = StandardScaler()\n",
    "x_train_scale = scalar.fit_transform(X_train)\n",
    "x_test_scale = scalar.transform(X_test)"
   ]
  },
  {
   "cell_type": "code",
   "execution_count": 324,
   "metadata": {},
   "outputs": [
    {
     "data": {
      "text/html": [
       "<div>\n",
       "<style scoped>\n",
       "    .dataframe tbody tr th:only-of-type {\n",
       "        vertical-align: middle;\n",
       "    }\n",
       "\n",
       "    .dataframe tbody tr th {\n",
       "        vertical-align: top;\n",
       "    }\n",
       "\n",
       "    .dataframe thead th {\n",
       "        text-align: right;\n",
       "    }\n",
       "</style>\n",
       "<table border=\"1\" class=\"dataframe\">\n",
       "  <thead>\n",
       "    <tr style=\"text-align: right;\">\n",
       "      <th></th>\n",
       "      <th>transaction_risk_score</th>\n",
       "      <th>cc_amount</th>\n",
       "      <th>ledger_balance</th>\n",
       "      <th>cardholder_presence</th>\n",
       "      <th>card_presence</th>\n",
       "      <th>partial_approval_capable</th>\n",
       "      <th>channel</th>\n",
       "      <th>processing_type</th>\n",
       "      <th>cc_acceptor_state</th>\n",
       "      <th>cc_acceptor_country</th>\n",
       "    </tr>\n",
       "  </thead>\n",
       "  <tbody>\n",
       "    <tr>\n",
       "      <th>571074</th>\n",
       "      <td>33.0</td>\n",
       "      <td>39.00</td>\n",
       "      <td>3964.94</td>\n",
       "      <td>0.0</td>\n",
       "      <td>0.0</td>\n",
       "      <td>0.0</td>\n",
       "      <td>0</td>\n",
       "      <td>4</td>\n",
       "      <td>3</td>\n",
       "      <td>20</td>\n",
       "    </tr>\n",
       "    <tr>\n",
       "      <th>1383059</th>\n",
       "      <td>26.0</td>\n",
       "      <td>225.36</td>\n",
       "      <td>152.58</td>\n",
       "      <td>0.0</td>\n",
       "      <td>0.0</td>\n",
       "      <td>0.0</td>\n",
       "      <td>0</td>\n",
       "      <td>4</td>\n",
       "      <td>24</td>\n",
       "      <td>20</td>\n",
       "    </tr>\n",
       "    <tr>\n",
       "      <th>904802</th>\n",
       "      <td>16.0</td>\n",
       "      <td>60.98</td>\n",
       "      <td>332.72</td>\n",
       "      <td>0.0</td>\n",
       "      <td>0.0</td>\n",
       "      <td>0.0</td>\n",
       "      <td>0</td>\n",
       "      <td>4</td>\n",
       "      <td>6</td>\n",
       "      <td>20</td>\n",
       "    </tr>\n",
       "    <tr>\n",
       "      <th>1704339</th>\n",
       "      <td>26.0</td>\n",
       "      <td>31.33</td>\n",
       "      <td>49.95</td>\n",
       "      <td>1.0</td>\n",
       "      <td>1.0</td>\n",
       "      <td>1.0</td>\n",
       "      <td>2</td>\n",
       "      <td>3</td>\n",
       "      <td>47</td>\n",
       "      <td>20</td>\n",
       "    </tr>\n",
       "    <tr>\n",
       "      <th>904811</th>\n",
       "      <td>32.0</td>\n",
       "      <td>10.00</td>\n",
       "      <td>14.66</td>\n",
       "      <td>1.0</td>\n",
       "      <td>1.0</td>\n",
       "      <td>1.0</td>\n",
       "      <td>2</td>\n",
       "      <td>1</td>\n",
       "      <td>6</td>\n",
       "      <td>20</td>\n",
       "    </tr>\n",
       "    <tr>\n",
       "      <th>...</th>\n",
       "      <td>...</td>\n",
       "      <td>...</td>\n",
       "      <td>...</td>\n",
       "      <td>...</td>\n",
       "      <td>...</td>\n",
       "      <td>...</td>\n",
       "      <td>...</td>\n",
       "      <td>...</td>\n",
       "      <td>...</td>\n",
       "      <td>...</td>\n",
       "    </tr>\n",
       "    <tr>\n",
       "      <th>1276138</th>\n",
       "      <td>2.0</td>\n",
       "      <td>11.47</td>\n",
       "      <td>42324.11</td>\n",
       "      <td>0.0</td>\n",
       "      <td>0.0</td>\n",
       "      <td>0.0</td>\n",
       "      <td>0</td>\n",
       "      <td>4</td>\n",
       "      <td>15</td>\n",
       "      <td>20</td>\n",
       "    </tr>\n",
       "    <tr>\n",
       "      <th>1818266</th>\n",
       "      <td>17.0</td>\n",
       "      <td>28.99</td>\n",
       "      <td>2608.89</td>\n",
       "      <td>0.0</td>\n",
       "      <td>0.0</td>\n",
       "      <td>0.0</td>\n",
       "      <td>0</td>\n",
       "      <td>4</td>\n",
       "      <td>51</td>\n",
       "      <td>20</td>\n",
       "    </tr>\n",
       "    <tr>\n",
       "      <th>1149029</th>\n",
       "      <td>2.0</td>\n",
       "      <td>9.96</td>\n",
       "      <td>1771.04</td>\n",
       "      <td>0.0</td>\n",
       "      <td>0.0</td>\n",
       "      <td>0.0</td>\n",
       "      <td>0</td>\n",
       "      <td>0</td>\n",
       "      <td>12</td>\n",
       "      <td>20</td>\n",
       "    </tr>\n",
       "    <tr>\n",
       "      <th>807739</th>\n",
       "      <td>2.0</td>\n",
       "      <td>17.01</td>\n",
       "      <td>2052.49</td>\n",
       "      <td>0.0</td>\n",
       "      <td>0.0</td>\n",
       "      <td>0.0</td>\n",
       "      <td>0</td>\n",
       "      <td>4</td>\n",
       "      <td>6</td>\n",
       "      <td>20</td>\n",
       "    </tr>\n",
       "    <tr>\n",
       "      <th>1545906</th>\n",
       "      <td>18.0</td>\n",
       "      <td>49.35</td>\n",
       "      <td>40189.83</td>\n",
       "      <td>0.0</td>\n",
       "      <td>0.0</td>\n",
       "      <td>0.0</td>\n",
       "      <td>0</td>\n",
       "      <td>4</td>\n",
       "      <td>28</td>\n",
       "      <td>20</td>\n",
       "    </tr>\n",
       "  </tbody>\n",
       "</table>\n",
       "<p>6381 rows × 10 columns</p>\n",
       "</div>"
      ],
      "text/plain": [
       "         transaction_risk_score  cc_amount  ledger_balance  \\\n",
       "571074                     33.0      39.00         3964.94   \n",
       "1383059                    26.0     225.36          152.58   \n",
       "904802                     16.0      60.98          332.72   \n",
       "1704339                    26.0      31.33           49.95   \n",
       "904811                     32.0      10.00           14.66   \n",
       "...                         ...        ...             ...   \n",
       "1276138                     2.0      11.47        42324.11   \n",
       "1818266                    17.0      28.99         2608.89   \n",
       "1149029                     2.0       9.96         1771.04   \n",
       "807739                      2.0      17.01         2052.49   \n",
       "1545906                    18.0      49.35        40189.83   \n",
       "\n",
       "         cardholder_presence  card_presence  partial_approval_capable  \\\n",
       "571074                   0.0            0.0                       0.0   \n",
       "1383059                  0.0            0.0                       0.0   \n",
       "904802                   0.0            0.0                       0.0   \n",
       "1704339                  1.0            1.0                       1.0   \n",
       "904811                   1.0            1.0                       1.0   \n",
       "...                      ...            ...                       ...   \n",
       "1276138                  0.0            0.0                       0.0   \n",
       "1818266                  0.0            0.0                       0.0   \n",
       "1149029                  0.0            0.0                       0.0   \n",
       "807739                   0.0            0.0                       0.0   \n",
       "1545906                  0.0            0.0                       0.0   \n",
       "\n",
       "         channel  processing_type  cc_acceptor_state  cc_acceptor_country  \n",
       "571074         0                4                  3                   20  \n",
       "1383059        0                4                 24                   20  \n",
       "904802         0                4                  6                   20  \n",
       "1704339        2                3                 47                   20  \n",
       "904811         2                1                  6                   20  \n",
       "...          ...              ...                ...                  ...  \n",
       "1276138        0                4                 15                   20  \n",
       "1818266        0                4                 51                   20  \n",
       "1149029        0                0                 12                   20  \n",
       "807739         0                4                  6                   20  \n",
       "1545906        0                4                 28                   20  \n",
       "\n",
       "[6381 rows x 10 columns]"
      ]
     },
     "execution_count": 324,
     "metadata": {},
     "output_type": "execute_result"
    }
   ],
   "source": [
    "X_train"
   ]
  },
  {
   "cell_type": "markdown",
   "metadata": {},
   "source": [
    "# Random Forest Classifier"
   ]
  },
  {
   "cell_type": "code",
   "execution_count": 353,
   "metadata": {},
   "outputs": [
    {
     "name": "stdout",
     "output_type": "stream",
     "text": [
      "              precision    recall  f1-score   support\n",
      "\n",
      "           0       0.99      1.00      0.99      1473\n",
      "           1       0.99      0.89      0.94       123\n",
      "\n",
      "    accuracy                           0.99      1596\n",
      "   macro avg       0.99      0.94      0.97      1596\n",
      "weighted avg       0.99      0.99      0.99      1596\n",
      "\n",
      "CPU times: user 2.44 s, sys: 46.6 ms, total: 2.49 s\n",
      "Wall time: 2.53 s\n"
     ]
    }
   ],
   "source": [
    "%%time\n",
    "\n",
    "clf = RandomForestClassifier(n_estimators=500, max_depth=25, random_state=0)\n",
    "clf.fit(x_train_scale,y_train)\n",
    "pred = clf.predict(x_test_scale)\n",
    "print(classification_report(y_test,pred))"
   ]
  },
  {
   "cell_type": "markdown",
   "metadata": {},
   "source": [
    "# LightGBM"
   ]
  },
  {
   "cell_type": "code",
   "execution_count": 347,
   "metadata": {},
   "outputs": [
    {
     "name": "stderr",
     "output_type": "stream",
     "text": [
      "/opt/anaconda3/lib/python3.8/site-packages/lightgbm/sklearn.py:726: UserWarning: 'early_stopping_rounds' argument is deprecated and will be removed in a future release of LightGBM. Pass 'early_stopping()' callback via 'callbacks' argument instead.\n",
      "  _log_warning(\"'early_stopping_rounds' argument is deprecated and will be removed in a future release of LightGBM. \"\n",
      "/opt/anaconda3/lib/python3.8/site-packages/lightgbm/sklearn.py:736: UserWarning: 'verbose' argument is deprecated and will be removed in a future release of LightGBM. Pass 'log_evaluation()' callback via 'callbacks' argument instead.\n",
      "  _log_warning(\"'verbose' argument is deprecated and will be removed in a future release of LightGBM. \"\n"
     ]
    },
    {
     "name": "stdout",
     "output_type": "stream",
     "text": [
      "              precision    recall  f1-score   support\n",
      "\n",
      "           0       0.99      1.00      0.99      1473\n",
      "           1       0.96      0.90      0.93       123\n",
      "\n",
      "    accuracy                           0.99      1596\n",
      "   macro avg       0.97      0.95      0.96      1596\n",
      "weighted avg       0.99      0.99      0.99      1596\n",
      "\n",
      "CPU times: user 694 ms, sys: 25.9 ms, total: 720 ms\n",
      "Wall time: 410 ms\n"
     ]
    }
   ],
   "source": [
    "%%time\n",
    "\n",
    "lgbm_clf = lgbm.LGBMClassifier(\n",
    "    objective=\"binary\",\n",
    "    n_estimators=10000,\n",
    ")\n",
    "eval_set = [(x_test_scale,y_test)]\n",
    "\n",
    "lgbm_clf.fit(\n",
    "    x_train_scale,\n",
    "    y_train,\n",
    "    eval_set=eval_set,\n",
    "    early_stopping_rounds=100,\n",
    "    eval_metric=\"binary_logloss\",\n",
    "    verbose=-1\n",
    ")\n",
    "\n",
    "preds = lgbm_clf.predict(x_test_scale)\n",
    "preds\n",
    "print(classification_report(y_test,preds))"
   ]
  },
  {
   "cell_type": "code",
   "execution_count": 354,
   "metadata": {},
   "outputs": [
    {
     "name": "stderr",
     "output_type": "stream",
     "text": [
      "<ipython-input-354-038b3aa1bdaa>:7: UserWarning: Matplotlib is currently using agg, which is a non-GUI backend, so cannot show the figure.\n",
      "  plt.show()\n"
     ]
    },
    {
     "data": {
      "image/png": "[encoded data removed]",
      "text/plain": [
       "<Figure size 720x360 with 1 Axes>"
      ]
     },
     "metadata": {
      "needs_background": "light"
     },
     "output_type": "display_data"
    }
   ],
   "source": [
    "feature_imp = pd.DataFrame(sorted(zip(lgbm_clf.feature_importances_,X.columns)), columns=['Value','Feature'])\n",
    "\n",
    "plt.figure(figsize=(10, 5))\n",
    "sns.barplot(x=\"Value\", y=\"Feature\", data=feature_imp.sort_values(by=\"Value\", ascending=False))\n",
    "plt.title('LightGBM Features Importance')\n",
    "plt.tight_layout()\n",
    "plt.show()"
   ]
  },
  {
   "cell_type": "code",
   "execution_count": 355,
   "metadata": {},
   "outputs": [
    {
     "name": "stderr",
     "output_type": "stream",
     "text": [
      "<ipython-input-355-b10a005b1a87>:9: UserWarning: Matplotlib is currently using agg, which is a non-GUI backend, so cannot show the figure.\n",
      "  plt.show()\n"
     ]
    },
    {
     "data": {
      "image/png": "[encoded data removed]",
      "text/plain": [
       "<Figure size 720x360 with 1 Axes>"
      ]
     },
     "metadata": {
      "needs_background": "light"
     },
     "output_type": "display_data"
    }
   ],
   "source": [
    "predictors = ['transaction_risk_score','cc_amount','ledger_balance','cardholder_presence','card_presence',\n",
    "          'partial_approval_capable','channel','processing_type','cc_acceptor_state','cc_acceptor_country']\n",
    "tmp = pd.DataFrame({'Feature': predictors, 'Feature importance': clf.feature_importances_})\n",
    "tmp = tmp.sort_values(by='Feature importance',ascending=False)\n",
    "plt.figure(figsize = (10,5))\n",
    "plt.title('Random Forest Classifier Features importance',fontsize=14)\n",
    "s = sns.barplot(x='Feature',y='Feature importance',data=tmp)\n",
    "s.set_xticklabels(s.get_xticklabels(),rotation=90)\n",
    "plt.show()"
   ]
  },
  {
   "cell_type": "markdown",
   "metadata": {},
   "source": [
    "# ANN"
   ]
  },
  {
   "cell_type": "code",
   "execution_count": 385,
   "metadata": {},
   "outputs": [],
   "source": [
    "from tensorflow.keras.optimizers import SGD\n",
    "\n",
    "metrics = [\n",
    "    'accuracy',\n",
    "    keras.metrics.Precision(),\n",
    "    keras.metrics.Recall()\n",
    "]\n",
    "\n",
    "epochs=100\n",
    "learning_rate = 0.1\n",
    "decay_rate = learning_rate / epochs\n",
    "momentum = 0.8\n",
    "input_dim = x_train_scale.shape[1]\n",
    "\n",
    "sgd = SGD(learning_rate=learning_rate, momentum=momentum, decay=decay_rate, nesterov=False)\n",
    "\n",
    "def NN():\n",
    "    model = keras.Sequential()\n",
    "    model.add(Dense(64, activation='relu', input_dim=input_dim))\n",
    "    model.add(Dropout(0.2))\n",
    "    model.add(Dense(32, activation='relu'))\n",
    "    model.add(Dropout(0.2))\n",
    "    model.add(Dense(16, activation='relu'))\n",
    "    model.add(Dropout(0.2))\n",
    "    model.add(Dense(1, activation='sigmoid'))\n",
    "\n",
    "    model.compile(optimizer = sgd, loss = 'binary_crossentropy', metrics = metrics)\n",
    "    \n",
    "    return model"
   ]
  },
  {
   "cell_type": "code",
   "execution_count": 397,
   "metadata": {},
   "outputs": [
    {
     "name": "stdout",
     "output_type": "stream",
     "text": [
      "Epoch 1/100\n",
      "200/200 [==============================] - 1s 3ms/step - loss: 0.2629 - accuracy: 0.9455 - precision_4: 0.5907 - recall_4: 0.2864 - val_loss: 0.2321 - val_accuracy: 0.9229 - val_precision_4: 0.0000e+00 - val_recall_4: 0.0000e+00\n",
      "Epoch 2/100\n",
      "200/200 [==============================] - 0s 2ms/step - loss: 0.1297 - accuracy: 0.9572 - precision_4: 0.7500 - recall_4: 0.0109 - val_loss: 0.1225 - val_accuracy: 0.9267 - val_precision_4: 1.0000 - val_recall_4: 0.0488\n",
      "Epoch 3/100\n",
      "200/200 [==============================] - 0s 2ms/step - loss: 0.1110 - accuracy: 0.9588 - precision_4: 0.7727 - recall_4: 0.0618 - val_loss: 0.0885 - val_accuracy: 0.9348 - val_precision_4: 0.9130 - val_recall_4: 0.1707\n",
      "Epoch 4/100\n",
      "200/200 [==============================] - 0s 2ms/step - loss: 0.1034 - accuracy: 0.9635 - precision_4: 0.8281 - recall_4: 0.1927 - val_loss: 0.0698 - val_accuracy: 0.9825 - val_precision_4: 0.9612 - val_recall_4: 0.8049\n",
      "Epoch 5/100\n",
      "200/200 [==============================] - 0s 2ms/step - loss: 0.0974 - accuracy: 0.9665 - precision_4: 0.8081 - recall_4: 0.2909 - val_loss: 0.0620 - val_accuracy: 0.9875 - val_precision_4: 0.9725 - val_recall_4: 0.8618\n",
      "Epoch 6/100\n",
      "200/200 [==============================] - 0s 2ms/step - loss: 0.0944 - accuracy: 0.9694 - precision_4: 0.8077 - recall_4: 0.3818 - val_loss: 0.0518 - val_accuracy: 0.9900 - val_precision_4: 0.9908 - val_recall_4: 0.8780\n",
      "Epoch 7/100\n",
      "200/200 [==============================] - 0s 2ms/step - loss: 0.0927 - accuracy: 0.9679 - precision_4: 0.8070 - recall_4: 0.3345 - val_loss: 0.0461 - val_accuracy: 0.9906 - val_precision_4: 0.9737 - val_recall_4: 0.9024\n",
      "Epoch 8/100\n",
      "200/200 [==============================] - 0s 2ms/step - loss: 0.0872 - accuracy: 0.9713 - precision_4: 0.8382 - recall_4: 0.4145 - val_loss: 0.0446 - val_accuracy: 0.9906 - val_precision_4: 0.9737 - val_recall_4: 0.9024\n",
      "Epoch 9/100\n",
      "200/200 [==============================] - 0s 2ms/step - loss: 0.0840 - accuracy: 0.9715 - precision_4: 0.8121 - recall_4: 0.4400 - val_loss: 0.0441 - val_accuracy: 0.9900 - val_precision_4: 0.9820 - val_recall_4: 0.8862\n",
      "Epoch 10/100\n",
      "200/200 [==============================] - 0s 2ms/step - loss: 0.0824 - accuracy: 0.9734 - precision_4: 0.8302 - recall_4: 0.4800 - val_loss: 0.0411 - val_accuracy: 0.9906 - val_precision_4: 0.9821 - val_recall_4: 0.8943\n",
      "Epoch 11/100\n",
      "200/200 [==============================] - 0s 2ms/step - loss: 0.0840 - accuracy: 0.9734 - precision_4: 0.8261 - recall_4: 0.4836 - val_loss: 0.0402 - val_accuracy: 0.9925 - val_precision_4: 0.9826 - val_recall_4: 0.9187\n",
      "Epoch 12/100\n",
      "200/200 [==============================] - 0s 2ms/step - loss: 0.0818 - accuracy: 0.9723 - precision_4: 0.8101 - recall_4: 0.4655 - val_loss: 0.0396 - val_accuracy: 0.9925 - val_precision_4: 0.9826 - val_recall_4: 0.9187\n",
      "Epoch 13/100\n",
      "200/200 [==============================] - 0s 2ms/step - loss: 0.0810 - accuracy: 0.9727 - precision_4: 0.7988 - recall_4: 0.4909 - val_loss: 0.0382 - val_accuracy: 0.9925 - val_precision_4: 0.9664 - val_recall_4: 0.9350\n",
      "Epoch 14/100\n",
      "200/200 [==============================] - 0s 2ms/step - loss: 0.0827 - accuracy: 0.9723 - precision_4: 0.8101 - recall_4: 0.4655 - val_loss: 0.0367 - val_accuracy: 0.9931 - val_precision_4: 0.9746 - val_recall_4: 0.9350\n",
      "Epoch 15/100\n",
      "200/200 [==============================] - 1s 3ms/step - loss: 0.0774 - accuracy: 0.9724 - precision_4: 0.8000 - recall_4: 0.4800 - val_loss: 0.0359 - val_accuracy: 0.9925 - val_precision_4: 0.9664 - val_recall_4: 0.9350\n",
      "Epoch 16/100\n",
      "200/200 [==============================] - 0s 2ms/step - loss: 0.0806 - accuracy: 0.9737 - precision_4: 0.8242 - recall_4: 0.4945 - val_loss: 0.0375 - val_accuracy: 0.9931 - val_precision_4: 0.9746 - val_recall_4: 0.9350\n",
      "Epoch 17/100\n",
      "200/200 [==============================] - 1s 3ms/step - loss: 0.0760 - accuracy: 0.9732 - precision_4: 0.8095 - recall_4: 0.4945 - val_loss: 0.0353 - val_accuracy: 0.9931 - val_precision_4: 0.9746 - val_recall_4: 0.9350\n",
      "Epoch 18/100\n",
      "200/200 [==============================] - 0s 2ms/step - loss: 0.0788 - accuracy: 0.9737 - precision_4: 0.8242 - recall_4: 0.4945 - val_loss: 0.0352 - val_accuracy: 0.9931 - val_precision_4: 0.9746 - val_recall_4: 0.9350\n",
      "Epoch 19/100\n",
      "200/200 [==============================] - 0s 2ms/step - loss: 0.0753 - accuracy: 0.9766 - precision_4: 0.8462 - recall_4: 0.5600 - val_loss: 0.0344 - val_accuracy: 0.9931 - val_precision_4: 0.9746 - val_recall_4: 0.9350\n",
      "Epoch 20/100\n",
      "200/200 [==============================] - 0s 2ms/step - loss: 0.0749 - accuracy: 0.9763 - precision_4: 0.8605 - recall_4: 0.5382 - val_loss: 0.0350 - val_accuracy: 0.9931 - val_precision_4: 0.9746 - val_recall_4: 0.9350\n",
      "Epoch 21/100\n",
      "200/200 [==============================] - 0s 2ms/step - loss: 0.0746 - accuracy: 0.9746 - precision_4: 0.8192 - recall_4: 0.5273 - val_loss: 0.0346 - val_accuracy: 0.9925 - val_precision_4: 0.9744 - val_recall_4: 0.9268\n",
      "Epoch 22/100\n",
      "200/200 [==============================] - 0s 2ms/step - loss: 0.0759 - accuracy: 0.9763 - precision_4: 0.8523 - recall_4: 0.5455 - val_loss: 0.0350 - val_accuracy: 0.9919 - val_precision_4: 0.9741 - val_recall_4: 0.9187\n",
      "Epoch 23/100\n",
      "200/200 [==============================] - 0s 2ms/step - loss: 0.0745 - accuracy: 0.9749 - precision_4: 0.8142 - recall_4: 0.5418 - val_loss: 0.0351 - val_accuracy: 0.9919 - val_precision_4: 0.9741 - val_recall_4: 0.9187\n",
      "Epoch 24/100\n",
      "200/200 [==============================] - 0s 2ms/step - loss: 0.0721 - accuracy: 0.9756 - precision_4: 0.8251 - recall_4: 0.5491 - val_loss: 0.0338 - val_accuracy: 0.9931 - val_precision_4: 0.9746 - val_recall_4: 0.9350\n",
      "Epoch 25/100\n",
      "200/200 [==============================] - 0s 2ms/step - loss: 0.0731 - accuracy: 0.9762 - precision_4: 0.8289 - recall_4: 0.5636 - val_loss: 0.0333 - val_accuracy: 0.9931 - val_precision_4: 0.9746 - val_recall_4: 0.9350\n",
      "Epoch 26/100\n",
      "200/200 [==============================] - 0s 2ms/step - loss: 0.0735 - accuracy: 0.9738 - precision_4: 0.8214 - recall_4: 0.5018 - val_loss: 0.0331 - val_accuracy: 0.9931 - val_precision_4: 0.9746 - val_recall_4: 0.9350\n",
      "Epoch 27/100\n",
      "200/200 [==============================] - 0s 2ms/step - loss: 0.0764 - accuracy: 0.9754 - precision_4: 0.8242 - recall_4: 0.5455 - val_loss: 0.0348 - val_accuracy: 0.9925 - val_precision_4: 0.9744 - val_recall_4: 0.9268\n",
      "Epoch 28/100\n",
      "200/200 [==============================] - 0s 2ms/step - loss: 0.0710 - accuracy: 0.9770 - precision_4: 0.8516 - recall_4: 0.5636 - val_loss: 0.0338 - val_accuracy: 0.9931 - val_precision_4: 0.9746 - val_recall_4: 0.9350\n",
      "Epoch 29/100\n",
      "200/200 [==============================] - 0s 2ms/step - loss: 0.0714 - accuracy: 0.9759 - precision_4: 0.8235 - recall_4: 0.5600 - val_loss: 0.0352 - val_accuracy: 0.9925 - val_precision_4: 0.9744 - val_recall_4: 0.9268\n",
      "Epoch 30/100\n",
      "200/200 [==============================] - 0s 2ms/step - loss: 0.0716 - accuracy: 0.9774 - precision_4: 0.8503 - recall_4: 0.5782 - val_loss: 0.0404 - val_accuracy: 0.9881 - val_precision_4: 0.9727 - val_recall_4: 0.8699\n",
      "Epoch 31/100\n",
      "200/200 [==============================] - 0s 2ms/step - loss: 0.0736 - accuracy: 0.9766 - precision_4: 0.8247 - recall_4: 0.5818 - val_loss: 0.0384 - val_accuracy: 0.9887 - val_precision_4: 0.9730 - val_recall_4: 0.8780\n",
      "Epoch 32/100\n",
      "200/200 [==============================] - 0s 2ms/step - loss: 0.0708 - accuracy: 0.9766 - precision_4: 0.8424 - recall_4: 0.5636 - val_loss: 0.0386 - val_accuracy: 0.9887 - val_precision_4: 0.9730 - val_recall_4: 0.8780\n",
      "Epoch 33/100\n",
      "200/200 [==============================] - 0s 2ms/step - loss: 0.0678 - accuracy: 0.9785 - precision_4: 0.8670 - recall_4: 0.5927 - val_loss: 0.0344 - val_accuracy: 0.9912 - val_precision_4: 0.9739 - val_recall_4: 0.9106\n",
      "Epoch 34/100\n",
      "200/200 [==============================] - 0s 2ms/step - loss: 0.0699 - accuracy: 0.9787 - precision_4: 0.8424 - recall_4: 0.6218 - val_loss: 0.0328 - val_accuracy: 0.9931 - val_precision_4: 0.9746 - val_recall_4: 0.9350\n",
      "Epoch 35/100\n",
      "200/200 [==============================] - 0s 2ms/step - loss: 0.0690 - accuracy: 0.9774 - precision_4: 0.8359 - recall_4: 0.5927 - val_loss: 0.0340 - val_accuracy: 0.9925 - val_precision_4: 0.9744 - val_recall_4: 0.9268\n",
      "Epoch 36/100\n"
     ]
    },
    {
     "name": "stdout",
     "output_type": "stream",
     "text": [
      "200/200 [==============================] - 0s 2ms/step - loss: 0.0707 - accuracy: 0.9770 - precision_4: 0.8200 - recall_4: 0.5964 - val_loss: 0.0343 - val_accuracy: 0.9912 - val_precision_4: 0.9739 - val_recall_4: 0.9106\n",
      "Epoch 37/100\n",
      "200/200 [==============================] - 0s 2ms/step - loss: 0.0689 - accuracy: 0.9787 - precision_4: 0.8677 - recall_4: 0.5964 - val_loss: 0.0354 - val_accuracy: 0.9912 - val_precision_4: 0.9739 - val_recall_4: 0.9106\n",
      "Epoch 38/100\n",
      "200/200 [==============================] - 0s 2ms/step - loss: 0.0700 - accuracy: 0.9776 - precision_4: 0.8587 - recall_4: 0.5745 - val_loss: 0.0350 - val_accuracy: 0.9912 - val_precision_4: 0.9739 - val_recall_4: 0.9106\n",
      "Epoch 39/100\n",
      "200/200 [==============================] - 0s 2ms/step - loss: 0.0688 - accuracy: 0.9792 - precision_4: 0.8550 - recall_4: 0.6218 - val_loss: 0.0340 - val_accuracy: 0.9912 - val_precision_4: 0.9739 - val_recall_4: 0.9106\n",
      "Epoch 40/100\n",
      "200/200 [==============================] - 0s 2ms/step - loss: 0.0678 - accuracy: 0.9795 - precision_4: 0.8429 - recall_4: 0.6436 - val_loss: 0.0347 - val_accuracy: 0.9912 - val_precision_4: 0.9739 - val_recall_4: 0.9106\n",
      "Epoch 41/100\n",
      "200/200 [==============================] - 0s 2ms/step - loss: 0.0660 - accuracy: 0.9785 - precision_4: 0.8632 - recall_4: 0.5964 - val_loss: 0.0344 - val_accuracy: 0.9912 - val_precision_4: 0.9739 - val_recall_4: 0.9106\n",
      "Epoch 42/100\n",
      "200/200 [==============================] - 0s 2ms/step - loss: 0.0674 - accuracy: 0.9806 - precision_4: 0.8953 - recall_4: 0.6218 - val_loss: 0.0349 - val_accuracy: 0.9906 - val_precision_4: 0.9737 - val_recall_4: 0.9024\n",
      "Epoch 43/100\n",
      "200/200 [==============================] - 0s 2ms/step - loss: 0.0683 - accuracy: 0.9768 - precision_4: 0.8068 - recall_4: 0.6073 - val_loss: 0.0348 - val_accuracy: 0.9912 - val_precision_4: 0.9739 - val_recall_4: 0.9106\n",
      "Epoch 44/100\n",
      "200/200 [==============================] - 0s 2ms/step - loss: 0.0662 - accuracy: 0.9807 - precision_4: 0.8838 - recall_4: 0.6364 - val_loss: 0.0330 - val_accuracy: 0.9912 - val_precision_4: 0.9739 - val_recall_4: 0.9106\n"
     ]
    }
   ],
   "source": [
    "from keras.callbacks import EarlyStopping\n",
    "model = NN()\n",
    "lr_model_history = model.fit(x_train_scale, y_train, validation_data = (x_test_scale, y_test), \n",
    "                             batch_size = 32, epochs = epochs, verbose = 1,\n",
    "                             callbacks=EarlyStopping(monitor='val_loss',patience=10))"
   ]
  },
  {
   "cell_type": "code",
   "execution_count": 398,
   "metadata": {},
   "outputs": [
    {
     "name": "stdout",
     "output_type": "stream",
     "text": [
      "new\n",
      "accuracy: 0.9912280440330505\n",
      "precision: 0.9739130139350891\n",
      "recall: 0.9105691313743591\n"
     ]
    }
   ],
   "source": [
    "print(\"new\")\n",
    "print('accuracy: ' + str(model.evaluate(x_test_scale,y_test, verbose=0)[1]))\n",
    "print('precision: ' + str(model.evaluate(x_test_scale,y_test, verbose=0)[2]))\n",
    "print('recall: ' + str(model.evaluate(x_test_scale,y_test, verbose=0)[3]))"
   ]
  },
  {
   "cell_type": "code",
   "execution_count": 326,
   "metadata": {},
   "outputs": [
    {
     "name": "stdout",
     "output_type": "stream",
     "text": [
      "accuracy: 0.9959642291069031\n",
      "precision: 0.9638554453849792\n",
      "recall: 0.6722689270973206\n"
     ]
    }
   ],
   "source": [
    "print('accuracy: ' + str(model.evaluate(x_test_scale,y_test, verbose=0)[1]))\n",
    "print('precision: ' + str(model.evaluate(x_test_scale,y_test, verbose=0)[2]))\n",
    "print('recall: ' + str(model.evaluate(x_test_scale,y_test, verbose=0)[3]))"
   ]
  },
  {
   "cell_type": "code",
   "execution_count": 399,
   "metadata": {},
   "outputs": [
    {
     "data": {
      "image/png": "[encoded data removed]",
      "text/plain": [
       "<Figure size 720x432 with 1 Axes>"
      ]
     },
     "metadata": {
      "needs_background": "light"
     },
     "output_type": "display_data"
    }
   ],
   "source": [
    "# Plot the loss function\n",
    "fig, ax = plt.subplots(1, 1, figsize=(10,6))\n",
    "ax.plot(np.sqrt(lr_model_history.history['loss']), 'r', label='train')\n",
    "ax.plot(np.sqrt(lr_model_history.history['val_loss']), 'b' ,label='val')\n",
    "ax.set_xlabel(r'Epoch', fontsize=20)\n",
    "ax.set_ylabel(r'Loss', fontsize=20)\n",
    "ax.legend()\n",
    "ax.tick_params(labelsize=20)"
   ]
  },
  {
   "cell_type": "code",
   "execution_count": 400,
   "metadata": {},
   "outputs": [
    {
     "data": {
      "image/png": "[encoded data removed]",
      "text/plain": [
       "<Figure size 720x432 with 1 Axes>"
      ]
     },
     "metadata": {
      "needs_background": "light"
     },
     "output_type": "display_data"
    }
   ],
   "source": [
    "# Plot the loss function\n",
    "fig, ax = plt.subplots(1, 1, figsize=(10,6))\n",
    "ax.plot(np.sqrt(lr_model_history.history['accuracy']), 'r', label='train')\n",
    "ax.plot(np.sqrt(lr_model_history.history['val_accuracy']), 'b' ,label='val')\n",
    "ax.set_xlabel(r'Epoch', fontsize=20)\n",
    "ax.set_ylabel(r'Accuracy', fontsize=20)\n",
    "ax.legend()\n",
    "ax.tick_params(labelsize=20)"
   ]
  },
  {
   "cell_type": "code",
   "execution_count": null,
   "metadata": {},
   "outputs": [],
   "source": []
  }
 ],
 "metadata": {
  "kernelspec": {
   "display_name": "Python 3",
   "language": "python",
   "name": "python3"
  },
  "language_info": {
   "codemirror_mode": {
    "name": "ipython",
    "version": 3
   },
   "file_extension": ".py",
   "mimetype": "text/x-python",
   "name": "python",
   "nbconvert_exporter": "python",
   "pygments_lexer": "ipython3",
   "version": "3.8.5"
  }
 },
 "nbformat": 4,
 "nbformat_minor": 4
}
