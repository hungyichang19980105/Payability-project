{
 "cells": [
  {
   "cell_type": "markdown",
   "metadata": {},
   "source": [
    "# Imort libraries"
   ]
  },
  {
   "cell_type": "code",
   "execution_count": 285,
   "metadata": {},
   "outputs": [
    {
     "name": "stdout",
     "output_type": "stream",
     "text": [
      "\u001b[34m==>\u001b[0m \u001b[1mDownloading https://ghcr.io/v2/homebrew/core/libomp/manifests/12.0.0\u001b[0m\n",
      "######################################################################## 100.0%\n",
      "\u001b[34m==>\u001b[0m \u001b[1mDownloading https://ghcr.io/v2/homebrew/core/libomp/blobs/sha256:fe1e5c0fa8f\u001b[0m\n",
      "\u001b[34m==>\u001b[0m \u001b[1mDownloading from https://pkg-containers.githubusercontent.com/ghcr1/blobs/sh\u001b[0m\n",
      "######################################################################## 100.0%\n",
      "\u001b[34m==>\u001b[0m \u001b[1mPouring libomp--12.0.0.big_sur.bottle.tar.gz\u001b[0m\n",
      "🍺  /usr/local/Cellar/libomp/12.0.0: 9 files, 1.5MB\n"
     ]
    }
   ],
   "source": [
    "!brew install libomp"
   ]
  },
  {
   "cell_type": "code",
   "execution_count": 1,
   "metadata": {},
   "outputs": [],
   "source": [
    "import pandas as pd\n",
    "import numpy as np\n",
    "from sklearn.ensemble import RandomForestClassifier\n",
    "import keras\n",
    "import tensorflow\n",
    "from sklearn.preprocessing import StandardScaler\n",
    "from sklearn import preprocessing\n",
    "from sklearn.model_selection import train_test_split\n",
    "from sklearn.metrics import accuracy_score, classification_report\n",
    "import matplotlib.pyplot as plt\n",
    "import seaborn as sns\n",
    "from keras import Sequential\n",
    "from keras.layers import Dense, Dropout, BatchNormalization, Flatten, Conv1D, Input\n",
    "from tensorflow.python.keras import regularizers\n",
    "from keras.models import Model\n",
    "import lightgbm as lgbm"
   ]
  },
  {
   "cell_type": "markdown",
   "metadata": {},
   "source": [
    "# Import data & label data"
   ]
  },
  {
   "cell_type": "code",
   "execution_count": 46,
   "metadata": {},
   "outputs": [
    {
     "name": "stderr",
     "output_type": "stream",
     "text": [
      "/opt/anaconda3/lib/python3.8/site-packages/IPython/core/interactiveshell.py:3146: DtypeWarning: Columns (8,12) have mixed types.Specify dtype option on import or set low_memory=False.\n",
      "  has_raised = await self.run_ast_nodes(code_ast.body, cell_name,\n"
     ]
    }
   ],
   "source": [
    "#Import data and label data\n",
    "frauds = pd.read_csv('data/frauds.csv')\n",
    "nonfrauds = pd.read_csv('data/nonfrauds.csv')\n",
    "\n",
    "frauds['user_transaction_time'] = pd.to_datetime(frauds['user_transaction_time'])\n",
    "frauds['date'] = frauds['user_transaction_time'].dt.date\n",
    "\n",
    "nonfrauds['user_transaction_time'] = pd.to_datetime(nonfrauds['user_transaction_time'])\n",
    "nonfrauds['date'] = nonfrauds['user_transaction_time'].dt.date\n",
    "\n",
    "frauds['is_fraud'] = 1\n",
    "nonfrauds['is_fraud'] = 0"
   ]
  },
  {
   "cell_type": "code",
   "execution_count": 47,
   "metadata": {},
   "outputs": [],
   "source": [
    "# Sampling for each day by taking 1% of good transactions and 100% of frauds\n",
    "\n",
    "frauds_date = sorted(list(set(frauds['date'])))\n",
    "nonfraud = pd.DataFrame()\n",
    "\n",
    "for date in frauds_date:\n",
    "    dftemp = nonfrauds.loc[nonfrauds['date'] == date]\n",
    "    dftemp = dftemp.sample(frac = 0.02, random_state = 0)\n",
    "    nonfraud = nonfraud.append(dftemp)\n",
    "\n",
    "df = frauds.append(nonfraud)"
   ]
  },
  {
   "cell_type": "code",
   "execution_count": 48,
   "metadata": {},
   "outputs": [
    {
     "data": {
      "text/html": [
       "<div>\n",
       "<style scoped>\n",
       "    .dataframe tbody tr th:only-of-type {\n",
       "        vertical-align: middle;\n",
       "    }\n",
       "\n",
       "    .dataframe tbody tr th {\n",
       "        vertical-align: top;\n",
       "    }\n",
       "\n",
       "    .dataframe thead th {\n",
       "        text-align: right;\n",
       "    }\n",
       "</style>\n",
       "<table border=\"1\" class=\"dataframe\">\n",
       "  <thead>\n",
       "    <tr style=\"text-align: right;\">\n",
       "      <th></th>\n",
       "      <th>key</th>\n",
       "      <th>user_transaction_time</th>\n",
       "      <th>channel</th>\n",
       "      <th>transaction_risk_score</th>\n",
       "      <th>processing_type</th>\n",
       "      <th>cc_amount</th>\n",
       "      <th>ledger_balance</th>\n",
       "      <th>cc_acceptor_state</th>\n",
       "      <th>acceptor_state</th>\n",
       "      <th>cc_acceptor_country</th>\n",
       "      <th>cardholder_presence</th>\n",
       "      <th>card_presence</th>\n",
       "      <th>partial_approval_capable</th>\n",
       "      <th>pin_present</th>\n",
       "      <th>date</th>\n",
       "      <th>is_fraud</th>\n",
       "    </tr>\n",
       "  </thead>\n",
       "  <tbody>\n",
       "    <tr>\n",
       "      <th>0</th>\n",
       "      <td>9d851f1b-00b3-4b02-9494-beda8866d6f7</td>\n",
       "      <td>2020-12-29 16:13:49+00:00</td>\n",
       "      <td>ECOMMERCE</td>\n",
       "      <td>82.0</td>\n",
       "      <td>MANUAL</td>\n",
       "      <td>14.99</td>\n",
       "      <td>134.91</td>\n",
       "      <td>NaN</td>\n",
       "      <td>NaN</td>\n",
       "      <td>HK</td>\n",
       "      <td>0.0</td>\n",
       "      <td>0.0</td>\n",
       "      <td>0.0</td>\n",
       "      <td>False</td>\n",
       "      <td>2020-12-29</td>\n",
       "      <td>1</td>\n",
       "    </tr>\n",
       "    <tr>\n",
       "      <th>1</th>\n",
       "      <td>dc13ebc6-a527-46d0-b424-6642d47c8a11</td>\n",
       "      <td>2020-12-29 16:13:32+00:00</td>\n",
       "      <td>ECOMMERCE</td>\n",
       "      <td>82.0</td>\n",
       "      <td>MANUAL</td>\n",
       "      <td>14.99</td>\n",
       "      <td>359.76</td>\n",
       "      <td>NaN</td>\n",
       "      <td>NaN</td>\n",
       "      <td>HK</td>\n",
       "      <td>0.0</td>\n",
       "      <td>0.0</td>\n",
       "      <td>0.0</td>\n",
       "      <td>False</td>\n",
       "      <td>2020-12-29</td>\n",
       "      <td>1</td>\n",
       "    </tr>\n",
       "    <tr>\n",
       "      <th>2</th>\n",
       "      <td>5e8f4d8f-a720-4a3d-ac55-f8953db3b527</td>\n",
       "      <td>2020-12-29 16:13:13+00:00</td>\n",
       "      <td>ECOMMERCE</td>\n",
       "      <td>82.0</td>\n",
       "      <td>MANUAL</td>\n",
       "      <td>14.99</td>\n",
       "      <td>419.72</td>\n",
       "      <td>NaN</td>\n",
       "      <td>NaN</td>\n",
       "      <td>HK</td>\n",
       "      <td>0.0</td>\n",
       "      <td>0.0</td>\n",
       "      <td>0.0</td>\n",
       "      <td>False</td>\n",
       "      <td>2020-12-29</td>\n",
       "      <td>1</td>\n",
       "    </tr>\n",
       "    <tr>\n",
       "      <th>3</th>\n",
       "      <td>74e6ff6d-f341-4300-8cac-30ab9e5ed5cf</td>\n",
       "      <td>2020-12-29 16:12:56+00:00</td>\n",
       "      <td>ECOMMERCE</td>\n",
       "      <td>82.0</td>\n",
       "      <td>MANUAL</td>\n",
       "      <td>14.99</td>\n",
       "      <td>149.90</td>\n",
       "      <td>NaN</td>\n",
       "      <td>NaN</td>\n",
       "      <td>HK</td>\n",
       "      <td>0.0</td>\n",
       "      <td>0.0</td>\n",
       "      <td>0.0</td>\n",
       "      <td>False</td>\n",
       "      <td>2020-12-29</td>\n",
       "      <td>1</td>\n",
       "    </tr>\n",
       "    <tr>\n",
       "      <th>4</th>\n",
       "      <td>c63d2508-f935-4092-bde1-434e1acbd0ef</td>\n",
       "      <td>2020-12-29 16:12:38+00:00</td>\n",
       "      <td>ECOMMERCE</td>\n",
       "      <td>82.0</td>\n",
       "      <td>MANUAL</td>\n",
       "      <td>14.99</td>\n",
       "      <td>164.89</td>\n",
       "      <td>NaN</td>\n",
       "      <td>NaN</td>\n",
       "      <td>HK</td>\n",
       "      <td>0.0</td>\n",
       "      <td>0.0</td>\n",
       "      <td>0.0</td>\n",
       "      <td>False</td>\n",
       "      <td>2020-12-29</td>\n",
       "      <td>1</td>\n",
       "    </tr>\n",
       "    <tr>\n",
       "      <th>...</th>\n",
       "      <td>...</td>\n",
       "      <td>...</td>\n",
       "      <td>...</td>\n",
       "      <td>...</td>\n",
       "      <td>...</td>\n",
       "      <td>...</td>\n",
       "      <td>...</td>\n",
       "      <td>...</td>\n",
       "      <td>...</td>\n",
       "      <td>...</td>\n",
       "      <td>...</td>\n",
       "      <td>...</td>\n",
       "      <td>...</td>\n",
       "      <td>...</td>\n",
       "      <td>...</td>\n",
       "      <td>...</td>\n",
       "    </tr>\n",
       "    <tr>\n",
       "      <th>1674704</th>\n",
       "      <td>358ab4c9-ddd8-4522-a3cd-fe4879241c79</td>\n",
       "      <td>2020-12-29 22:37:51+00:00</td>\n",
       "      <td>ECOMMERCE</td>\n",
       "      <td>9.0</td>\n",
       "      <td>MANUAL</td>\n",
       "      <td>13.23</td>\n",
       "      <td>10482.07</td>\n",
       "      <td>FL</td>\n",
       "      <td>12</td>\n",
       "      <td>US</td>\n",
       "      <td>0.0</td>\n",
       "      <td>0.0</td>\n",
       "      <td>0.0</td>\n",
       "      <td>False</td>\n",
       "      <td>2020-12-29</td>\n",
       "      <td>0</td>\n",
       "    </tr>\n",
       "    <tr>\n",
       "      <th>1191861</th>\n",
       "      <td>c6676b24-5a23-4179-b473-aca3b6a43afb</td>\n",
       "      <td>2020-12-29 23:45:48+00:00</td>\n",
       "      <td>ECOMMERCE</td>\n",
       "      <td>1.0</td>\n",
       "      <td>CARD_ON_FILE</td>\n",
       "      <td>15.94</td>\n",
       "      <td>502.73</td>\n",
       "      <td>CA</td>\n",
       "      <td>6</td>\n",
       "      <td>US</td>\n",
       "      <td>0.0</td>\n",
       "      <td>0.0</td>\n",
       "      <td>0.0</td>\n",
       "      <td>False</td>\n",
       "      <td>2020-12-29</td>\n",
       "      <td>0</td>\n",
       "    </tr>\n",
       "    <tr>\n",
       "      <th>1192100</th>\n",
       "      <td>f4451c3a-e8b6-4518-98c7-fa92524713e7</td>\n",
       "      <td>2020-12-29 13:12:18+00:00</td>\n",
       "      <td>ECOMMERCE</td>\n",
       "      <td>1.0</td>\n",
       "      <td>CARD_ON_FILE</td>\n",
       "      <td>19.60</td>\n",
       "      <td>1284.85</td>\n",
       "      <td>CA</td>\n",
       "      <td>6</td>\n",
       "      <td>US</td>\n",
       "      <td>0.0</td>\n",
       "      <td>0.0</td>\n",
       "      <td>0.0</td>\n",
       "      <td>False</td>\n",
       "      <td>2020-12-29</td>\n",
       "      <td>0</td>\n",
       "    </tr>\n",
       "    <tr>\n",
       "      <th>568068</th>\n",
       "      <td>df9290eb-2501-4e8f-8f72-5aced1075561</td>\n",
       "      <td>2020-12-29 07:19:46+00:00</td>\n",
       "      <td>ECOMMERCE</td>\n",
       "      <td>5.0</td>\n",
       "      <td>CARD_ON_FILE</td>\n",
       "      <td>14.80</td>\n",
       "      <td>4695.56</td>\n",
       "      <td>AR</td>\n",
       "      <td>5</td>\n",
       "      <td>US</td>\n",
       "      <td>0.0</td>\n",
       "      <td>0.0</td>\n",
       "      <td>0.0</td>\n",
       "      <td>False</td>\n",
       "      <td>2020-12-29</td>\n",
       "      <td>0</td>\n",
       "    </tr>\n",
       "    <tr>\n",
       "      <th>2201638</th>\n",
       "      <td>2323a57b-e007-4c75-9772-dd370f0dbb87</td>\n",
       "      <td>2020-12-29 17:38:03+00:00</td>\n",
       "      <td>ECOMMERCE</td>\n",
       "      <td>2.0</td>\n",
       "      <td>MANUAL</td>\n",
       "      <td>14.49</td>\n",
       "      <td>28801.78</td>\n",
       "      <td>IL</td>\n",
       "      <td>17</td>\n",
       "      <td>US</td>\n",
       "      <td>0.0</td>\n",
       "      <td>0.0</td>\n",
       "      <td>0.0</td>\n",
       "      <td>False</td>\n",
       "      <td>2020-12-29</td>\n",
       "      <td>0</td>\n",
       "    </tr>\n",
       "  </tbody>\n",
       "</table>\n",
       "<p>7977 rows × 16 columns</p>\n",
       "</div>"
      ],
      "text/plain": [
       "                                          key     user_transaction_time  \\\n",
       "0        9d851f1b-00b3-4b02-9494-beda8866d6f7 2020-12-29 16:13:49+00:00   \n",
       "1        dc13ebc6-a527-46d0-b424-6642d47c8a11 2020-12-29 16:13:32+00:00   \n",
       "2        5e8f4d8f-a720-4a3d-ac55-f8953db3b527 2020-12-29 16:13:13+00:00   \n",
       "3        74e6ff6d-f341-4300-8cac-30ab9e5ed5cf 2020-12-29 16:12:56+00:00   \n",
       "4        c63d2508-f935-4092-bde1-434e1acbd0ef 2020-12-29 16:12:38+00:00   \n",
       "...                                       ...                       ...   \n",
       "1674704  358ab4c9-ddd8-4522-a3cd-fe4879241c79 2020-12-29 22:37:51+00:00   \n",
       "1191861  c6676b24-5a23-4179-b473-aca3b6a43afb 2020-12-29 23:45:48+00:00   \n",
       "1192100  f4451c3a-e8b6-4518-98c7-fa92524713e7 2020-12-29 13:12:18+00:00   \n",
       "568068   df9290eb-2501-4e8f-8f72-5aced1075561 2020-12-29 07:19:46+00:00   \n",
       "2201638  2323a57b-e007-4c75-9772-dd370f0dbb87 2020-12-29 17:38:03+00:00   \n",
       "\n",
       "           channel  transaction_risk_score processing_type  cc_amount  \\\n",
       "0        ECOMMERCE                    82.0          MANUAL      14.99   \n",
       "1        ECOMMERCE                    82.0          MANUAL      14.99   \n",
       "2        ECOMMERCE                    82.0          MANUAL      14.99   \n",
       "3        ECOMMERCE                    82.0          MANUAL      14.99   \n",
       "4        ECOMMERCE                    82.0          MANUAL      14.99   \n",
       "...            ...                     ...             ...        ...   \n",
       "1674704  ECOMMERCE                     9.0          MANUAL      13.23   \n",
       "1191861  ECOMMERCE                     1.0    CARD_ON_FILE      15.94   \n",
       "1192100  ECOMMERCE                     1.0    CARD_ON_FILE      19.60   \n",
       "568068   ECOMMERCE                     5.0    CARD_ON_FILE      14.80   \n",
       "2201638  ECOMMERCE                     2.0          MANUAL      14.49   \n",
       "\n",
       "         ledger_balance cc_acceptor_state acceptor_state cc_acceptor_country  \\\n",
       "0                134.91               NaN            NaN                  HK   \n",
       "1                359.76               NaN            NaN                  HK   \n",
       "2                419.72               NaN            NaN                  HK   \n",
       "3                149.90               NaN            NaN                  HK   \n",
       "4                164.89               NaN            NaN                  HK   \n",
       "...                 ...               ...            ...                 ...   \n",
       "1674704        10482.07                FL             12                  US   \n",
       "1191861          502.73                CA              6                  US   \n",
       "1192100         1284.85                CA              6                  US   \n",
       "568068          4695.56                AR              5                  US   \n",
       "2201638        28801.78                IL             17                  US   \n",
       "\n",
       "         cardholder_presence  card_presence  partial_approval_capable  \\\n",
       "0                        0.0            0.0                       0.0   \n",
       "1                        0.0            0.0                       0.0   \n",
       "2                        0.0            0.0                       0.0   \n",
       "3                        0.0            0.0                       0.0   \n",
       "4                        0.0            0.0                       0.0   \n",
       "...                      ...            ...                       ...   \n",
       "1674704                  0.0            0.0                       0.0   \n",
       "1191861                  0.0            0.0                       0.0   \n",
       "1192100                  0.0            0.0                       0.0   \n",
       "568068                   0.0            0.0                       0.0   \n",
       "2201638                  0.0            0.0                       0.0   \n",
       "\n",
       "        pin_present        date  is_fraud  \n",
       "0             False  2020-12-29         1  \n",
       "1             False  2020-12-29         1  \n",
       "2             False  2020-12-29         1  \n",
       "3             False  2020-12-29         1  \n",
       "4             False  2020-12-29         1  \n",
       "...             ...         ...       ...  \n",
       "1674704       False  2020-12-29         0  \n",
       "1191861       False  2020-12-29         0  \n",
       "1192100       False  2020-12-29         0  \n",
       "568068        False  2020-12-29         0  \n",
       "2201638       False  2020-12-29         0  \n",
       "\n",
       "[7977 rows x 16 columns]"
      ]
     },
     "execution_count": 48,
     "metadata": {},
     "output_type": "execute_result"
    }
   ],
   "source": [
    "df"
   ]
  },
  {
   "cell_type": "markdown",
   "metadata": {},
   "source": [
    "# Data Exploration"
   ]
  },
  {
   "cell_type": "code",
   "execution_count": 49,
   "metadata": {},
   "outputs": [
    {
     "name": "stdout",
     "output_type": "stream",
     "text": [
      "Percentage of non frauds: 4.989344365049518%\n"
     ]
    },
    {
     "data": {
      "image/png": "[encoded data removed]",
      "text/plain": [
       "<Figure size 720x360 with 1 Axes>"
      ]
     },
     "metadata": {
      "needs_background": "light"
     },
     "output_type": "display_data"
    }
   ],
   "source": [
    "xaxis = ['Non Frauds', 'Frauds']\n",
    "yaxis = list(df.is_fraud.value_counts())\n",
    "plt.figure(figsize=(10,5))\n",
    "plt.bar(xaxis,yaxis,color='skyblue')\n",
    "plt.title(\"Frauds vs Non frauds\", fontsize = 20)\n",
    "plt.ylabel('Count', fontsize = 15)\n",
    "print(\"Percentage of non frauds: \" + str(df.is_fraud.value_counts(1)[1]*100) + \"%\")"
   ]
  },
  {
   "cell_type": "code",
   "execution_count": 50,
   "metadata": {},
   "outputs": [
    {
     "data": {
      "text/plain": [
       "Text(0, 0.5, 'Count of Non Frauds')"
      ]
     },
     "execution_count": 50,
     "metadata": {},
     "output_type": "execute_result"
    },
    {
     "data": {
      "image/png": "[encoded data removed]",
      "text/plain": [
       "<Figure size 720x360 with 1 Axes>"
      ]
     },
     "metadata": {
      "needs_background": "light"
     },
     "output_type": "display_data"
    }
   ],
   "source": [
    "grpby_df = nonfraud.groupby(['transaction_risk_score']).count()\n",
    "xaxis = list(grpby_df.index)\n",
    "yaxis = list(grpby_df['key'])\n",
    "plt.figure(figsize=(10,5))\n",
    "plt.bar(xaxis,yaxis,color='skyblue')\n",
    "plt.title('Distribution of Non frauds', fontsize=20)\n",
    "plt.xlabel(r'Transaction risk score',fontsize=15)\n",
    "plt.ylabel(r'Count of Non Frauds', fontsize=15)"
   ]
  },
  {
   "cell_type": "code",
   "execution_count": 51,
   "metadata": {},
   "outputs": [
    {
     "data": {
      "text/plain": [
       "Text(0, 0.5, 'Count of Frauds')"
      ]
     },
     "execution_count": 51,
     "metadata": {},
     "output_type": "execute_result"
    },
    {
     "data": {
      "image/png": "[encoded data removed]",
      "text/plain": [
       "<Figure size 720x360 with 1 Axes>"
      ]
     },
     "metadata": {
      "needs_background": "light"
     },
     "output_type": "display_data"
    }
   ],
   "source": [
    "grpby_df = frauds.groupby(['transaction_risk_score']).count()\n",
    "xaxis = list(grpby_df.index)\n",
    "yaxis = list(grpby_df['key'])\n",
    "plt.figure(figsize=(10,5))\n",
    "plt.bar(xaxis,yaxis,color='lightcoral')\n",
    "plt.title('Distribution of Frauds', fontsize=20)\n",
    "plt.xlabel(r'Transaction_risk_score',fontsize=15)\n",
    "plt.ylabel(r'Count of Frauds', fontsize=15)"
   ]
  },
  {
   "cell_type": "code",
   "execution_count": 52,
   "metadata": {},
   "outputs": [
    {
     "data": {
      "image/png": "[encoded data removed]",
      "text/plain": [
       "<Figure size 720x360 with 1 Axes>"
      ]
     },
     "metadata": {
      "needs_background": "light"
     },
     "output_type": "display_data"
    }
   ],
   "source": [
    "p0 = df[df['is_fraud'] == 0]['transaction_risk_score']\n",
    "p1 = df[df['is_fraud'] == 1]['transaction_risk_score']\n",
    "\n",
    "plt.figure(figsize=(10,5))\n",
    "sns.histplot(p0, kde=False, bins=50, color='skyblue')\n",
    "sns.histplot(p1, kde=False, bins=50, color='lightcoral')\n",
    "\n",
    "plt.title(\"Distribution of transaction risk score per true class\", fontsize=20)\n",
    "plt.legend([\"class: 0\", \"class: 1\"], fontsize = 15)\n",
    "plt.show()"
   ]
  },
  {
   "cell_type": "markdown",
   "metadata": {},
   "source": [
    "# Preprocessing"
   ]
  },
  {
   "cell_type": "markdown",
   "metadata": {},
   "source": [
    "## Fill in NA's"
   ]
  },
  {
   "cell_type": "code",
   "execution_count": 53,
   "metadata": {},
   "outputs": [],
   "source": [
    "df['transaction_risk_score'] = df['transaction_risk_score'].fillna(df['transaction_risk_score'].mean())\n",
    "df['channel'] = df['channel'].fillna('OTHER')\n",
    "df['processing_type'] = df['processing_type'].fillna('UNKNOWN')\n",
    "df[['cc_amount','ledger_balance','cardholder_presence','card_presence',\n",
    "    'partial_approval_capable']] = df[['cc_amount','ledger_balance','cardholder_presence','card_presence',\n",
    "                                       'partial_approval_capable']].fillna(0)\n",
    "df['cc_acceptor_state'] = df['cc_acceptor_state'].fillna('UNKNOWN')"
   ]
  },
  {
   "cell_type": "markdown",
   "metadata": {},
   "source": [
    "## Encode categorical variables and create new data frame from those"
   ]
  },
  {
   "cell_type": "code",
   "execution_count": 54,
   "metadata": {},
   "outputs": [],
   "source": [
    "cat_cols = ['channel','processing_type','cc_acceptor_state','cc_acceptor_country']\n",
    "for c in cat_cols:\n",
    "    df[c] = df[c].astype('category').cat.codes"
   ]
  },
  {
   "cell_type": "code",
   "execution_count": 68,
   "metadata": {},
   "outputs": [],
   "source": [
    "df = pd.read_csv('data/input.csv')"
   ]
  },
  {
   "cell_type": "code",
   "execution_count": 69,
   "metadata": {},
   "outputs": [],
   "source": [
    "df2 = df[['transaction_risk_score','cc_amount','ledger_balance','cardholder_presence','card_presence',\n",
    "          'partial_approval_capable','channel','processing_type','date','cc_acceptor_state','cc_acceptor_country','is_fraud']]\n",
    "df2 = df2.sort_values(by='date')\n",
    "df2 = df2.drop(\"date\",axis=1)"
   ]
  },
  {
   "cell_type": "code",
   "execution_count": 70,
   "metadata": {},
   "outputs": [
    {
     "data": {
      "text/html": [
       "<div>\n",
       "<style scoped>\n",
       "    .dataframe tbody tr th:only-of-type {\n",
       "        vertical-align: middle;\n",
       "    }\n",
       "\n",
       "    .dataframe tbody tr th {\n",
       "        vertical-align: top;\n",
       "    }\n",
       "\n",
       "    .dataframe thead th {\n",
       "        text-align: right;\n",
       "    }\n",
       "</style>\n",
       "<table border=\"1\" class=\"dataframe\">\n",
       "  <thead>\n",
       "    <tr style=\"text-align: right;\">\n",
       "      <th></th>\n",
       "      <th>transaction_risk_score</th>\n",
       "      <th>cc_amount</th>\n",
       "      <th>ledger_balance</th>\n",
       "      <th>cardholder_presence</th>\n",
       "      <th>card_presence</th>\n",
       "      <th>partial_approval_capable</th>\n",
       "      <th>channel</th>\n",
       "      <th>processing_type</th>\n",
       "      <th>cc_acceptor_state</th>\n",
       "      <th>cc_acceptor_country</th>\n",
       "      <th>is_fraud</th>\n",
       "    </tr>\n",
       "  </thead>\n",
       "  <tbody>\n",
       "    <tr>\n",
       "      <th>0</th>\n",
       "      <td>54.0</td>\n",
       "      <td>52.79</td>\n",
       "      <td>0.00</td>\n",
       "      <td>0</td>\n",
       "      <td>0</td>\n",
       "      <td>0</td>\n",
       "      <td>2</td>\n",
       "      <td>5</td>\n",
       "      <td>52</td>\n",
       "      <td>32</td>\n",
       "      <td>1</td>\n",
       "    </tr>\n",
       "    <tr>\n",
       "      <th>24</th>\n",
       "      <td>31.0</td>\n",
       "      <td>14.70</td>\n",
       "      <td>1333.74</td>\n",
       "      <td>0</td>\n",
       "      <td>0</td>\n",
       "      <td>0</td>\n",
       "      <td>0</td>\n",
       "      <td>4</td>\n",
       "      <td>10</td>\n",
       "      <td>33</td>\n",
       "      <td>0</td>\n",
       "    </tr>\n",
       "    <tr>\n",
       "      <th>25</th>\n",
       "      <td>28.0</td>\n",
       "      <td>23.95</td>\n",
       "      <td>3889.14</td>\n",
       "      <td>0</td>\n",
       "      <td>0</td>\n",
       "      <td>0</td>\n",
       "      <td>0</td>\n",
       "      <td>4</td>\n",
       "      <td>10</td>\n",
       "      <td>33</td>\n",
       "      <td>0</td>\n",
       "    </tr>\n",
       "    <tr>\n",
       "      <th>26</th>\n",
       "      <td>35.0</td>\n",
       "      <td>20.15</td>\n",
       "      <td>3323.75</td>\n",
       "      <td>0</td>\n",
       "      <td>0</td>\n",
       "      <td>0</td>\n",
       "      <td>0</td>\n",
       "      <td>4</td>\n",
       "      <td>57</td>\n",
       "      <td>33</td>\n",
       "      <td>0</td>\n",
       "    </tr>\n",
       "    <tr>\n",
       "      <th>27</th>\n",
       "      <td>18.0</td>\n",
       "      <td>26.08</td>\n",
       "      <td>1224.32</td>\n",
       "      <td>1</td>\n",
       "      <td>1</td>\n",
       "      <td>1</td>\n",
       "      <td>2</td>\n",
       "      <td>3</td>\n",
       "      <td>51</td>\n",
       "      <td>33</td>\n",
       "      <td>0</td>\n",
       "    </tr>\n",
       "    <tr>\n",
       "      <th>...</th>\n",
       "      <td>...</td>\n",
       "      <td>...</td>\n",
       "      <td>...</td>\n",
       "      <td>...</td>\n",
       "      <td>...</td>\n",
       "      <td>...</td>\n",
       "      <td>...</td>\n",
       "      <td>...</td>\n",
       "      <td>...</td>\n",
       "      <td>...</td>\n",
       "      <td>...</td>\n",
       "    </tr>\n",
       "    <tr>\n",
       "      <th>35651</th>\n",
       "      <td>11.0</td>\n",
       "      <td>1000.00</td>\n",
       "      <td>6441.18</td>\n",
       "      <td>0</td>\n",
       "      <td>0</td>\n",
       "      <td>0</td>\n",
       "      <td>1</td>\n",
       "      <td>4</td>\n",
       "      <td>28</td>\n",
       "      <td>33</td>\n",
       "      <td>0</td>\n",
       "    </tr>\n",
       "    <tr>\n",
       "      <th>35650</th>\n",
       "      <td>2.0</td>\n",
       "      <td>26.43</td>\n",
       "      <td>916.11</td>\n",
       "      <td>0</td>\n",
       "      <td>0</td>\n",
       "      <td>0</td>\n",
       "      <td>0</td>\n",
       "      <td>0</td>\n",
       "      <td>26</td>\n",
       "      <td>33</td>\n",
       "      <td>0</td>\n",
       "    </tr>\n",
       "    <tr>\n",
       "      <th>35649</th>\n",
       "      <td>1.0</td>\n",
       "      <td>21.78</td>\n",
       "      <td>18107.36</td>\n",
       "      <td>0</td>\n",
       "      <td>0</td>\n",
       "      <td>0</td>\n",
       "      <td>0</td>\n",
       "      <td>4</td>\n",
       "      <td>15</td>\n",
       "      <td>33</td>\n",
       "      <td>0</td>\n",
       "    </tr>\n",
       "    <tr>\n",
       "      <th>35657</th>\n",
       "      <td>16.0</td>\n",
       "      <td>21.35</td>\n",
       "      <td>163.44</td>\n",
       "      <td>0</td>\n",
       "      <td>0</td>\n",
       "      <td>0</td>\n",
       "      <td>0</td>\n",
       "      <td>4</td>\n",
       "      <td>52</td>\n",
       "      <td>6</td>\n",
       "      <td>0</td>\n",
       "    </tr>\n",
       "    <tr>\n",
       "      <th>35706</th>\n",
       "      <td>3.0</td>\n",
       "      <td>35.46</td>\n",
       "      <td>1756.74</td>\n",
       "      <td>0</td>\n",
       "      <td>0</td>\n",
       "      <td>0</td>\n",
       "      <td>0</td>\n",
       "      <td>4</td>\n",
       "      <td>56</td>\n",
       "      <td>33</td>\n",
       "      <td>0</td>\n",
       "    </tr>\n",
       "  </tbody>\n",
       "</table>\n",
       "<p>35707 rows × 11 columns</p>\n",
       "</div>"
      ],
      "text/plain": [
       "       transaction_risk_score  cc_amount  ledger_balance  cardholder_presence  \\\n",
       "0                        54.0      52.79            0.00                    0   \n",
       "24                       31.0      14.70         1333.74                    0   \n",
       "25                       28.0      23.95         3889.14                    0   \n",
       "26                       35.0      20.15         3323.75                    0   \n",
       "27                       18.0      26.08         1224.32                    1   \n",
       "...                       ...        ...             ...                  ...   \n",
       "35651                    11.0    1000.00         6441.18                    0   \n",
       "35650                     2.0      26.43          916.11                    0   \n",
       "35649                     1.0      21.78        18107.36                    0   \n",
       "35657                    16.0      21.35          163.44                    0   \n",
       "35706                     3.0      35.46         1756.74                    0   \n",
       "\n",
       "       card_presence  partial_approval_capable  channel  processing_type  \\\n",
       "0                  0                         0        2                5   \n",
       "24                 0                         0        0                4   \n",
       "25                 0                         0        0                4   \n",
       "26                 0                         0        0                4   \n",
       "27                 1                         1        2                3   \n",
       "...              ...                       ...      ...              ...   \n",
       "35651              0                         0        1                4   \n",
       "35650              0                         0        0                0   \n",
       "35649              0                         0        0                4   \n",
       "35657              0                         0        0                4   \n",
       "35706              0                         0        0                4   \n",
       "\n",
       "       cc_acceptor_state  cc_acceptor_country  is_fraud  \n",
       "0                     52                   32         1  \n",
       "24                    10                   33         0  \n",
       "25                    10                   33         0  \n",
       "26                    57                   33         0  \n",
       "27                    51                   33         0  \n",
       "...                  ...                  ...       ...  \n",
       "35651                 28                   33         0  \n",
       "35650                 26                   33         0  \n",
       "35649                 15                   33         0  \n",
       "35657                 52                    6         0  \n",
       "35706                 56                   33         0  \n",
       "\n",
       "[35707 rows x 11 columns]"
      ]
     },
     "execution_count": 70,
     "metadata": {},
     "output_type": "execute_result"
    }
   ],
   "source": [
    "df2"
   ]
  },
  {
   "cell_type": "markdown",
   "metadata": {},
   "source": [
    "# Train-test split and standard scaling"
   ]
  },
  {
   "cell_type": "code",
   "execution_count": 110,
   "metadata": {},
   "outputs": [],
   "source": [
    "training_set, test_set = np.split(df2, [int(.6 *len(df2))])\n",
    "\n",
    "X_train = training_set.drop(\"is_fraud\",axis=1)\n",
    "y_train = training_set[['is_fraud']].values.flatten()\n",
    "\n",
    "X_test = test_set.drop(\"is_fraud\",axis=1)\n",
    "y_test = test_set[['is_fraud']].values.flatten()\n",
    "\n",
    "scalar = StandardScaler()\n",
    "x_train_scale = scalar.fit_transform(X_train)\n",
    "x_test_scale = scalar.transform(X_test)"
   ]
  },
  {
   "cell_type": "markdown",
   "metadata": {},
   "source": [
    "# Random Forest Classifier"
   ]
  },
  {
   "cell_type": "code",
   "execution_count": 111,
   "metadata": {},
   "outputs": [
    {
     "name": "stdout",
     "output_type": "stream",
     "text": [
      "              precision    recall  f1-score   support\n",
      "\n",
      "           0       1.00      1.00      1.00     13548\n",
      "           1       1.00      0.97      0.98       735\n",
      "\n",
      "    accuracy                           1.00     14283\n",
      "   macro avg       1.00      0.98      0.99     14283\n",
      "weighted avg       1.00      1.00      1.00     14283\n",
      "\n",
      "CPU times: user 7.29 s, sys: 92.7 ms, total: 7.38 s\n",
      "Wall time: 7.94 s\n"
     ]
    }
   ],
   "source": [
    "%%time\n",
    "\n",
    "clf = RandomForestClassifier(n_estimators=500, max_depth=15, random_state=0)\n",
    "clf.fit(x_train_scale,y_train)\n",
    "pred = clf.predict(x_test_scale)\n",
    "print(classification_report(y_test,pred))"
   ]
  },
  {
   "cell_type": "markdown",
   "metadata": {},
   "source": [
    "# LightGBM"
   ]
  },
  {
   "cell_type": "code",
   "execution_count": 112,
   "metadata": {},
   "outputs": [
    {
     "name": "stderr",
     "output_type": "stream",
     "text": [
      "/opt/anaconda3/lib/python3.8/site-packages/lightgbm/sklearn.py:726: UserWarning: 'early_stopping_rounds' argument is deprecated and will be removed in a future release of LightGBM. Pass 'early_stopping()' callback via 'callbacks' argument instead.\n",
      "  _log_warning(\"'early_stopping_rounds' argument is deprecated and will be removed in a future release of LightGBM. \"\n",
      "/opt/anaconda3/lib/python3.8/site-packages/lightgbm/sklearn.py:736: UserWarning: 'verbose' argument is deprecated and will be removed in a future release of LightGBM. Pass 'log_evaluation()' callback via 'callbacks' argument instead.\n",
      "  _log_warning(\"'verbose' argument is deprecated and will be removed in a future release of LightGBM. \"\n"
     ]
    },
    {
     "name": "stdout",
     "output_type": "stream",
     "text": [
      "              precision    recall  f1-score   support\n",
      "\n",
      "           0       1.00      1.00      1.00     13548\n",
      "           1       0.98      0.98      0.98       735\n",
      "\n",
      "    accuracy                           1.00     14283\n",
      "   macro avg       0.99      0.99      0.99     14283\n",
      "weighted avg       1.00      1.00      1.00     14283\n",
      "\n",
      "CPU times: user 3.77 s, sys: 300 ms, total: 4.07 s\n",
      "Wall time: 2.59 s\n"
     ]
    }
   ],
   "source": [
    "%%time\n",
    "\n",
    "lgbm_clf = lgbm.LGBMClassifier(\n",
    "    objective=\"binary\",\n",
    "    n_estimators=10000,\n",
    ")\n",
    "eval_set = [(x_test_scale,y_test)]\n",
    "\n",
    "lgbm_clf.fit(\n",
    "    x_train_scale,\n",
    "    y_train,\n",
    "    eval_set=eval_set,\n",
    "    early_stopping_rounds=100,\n",
    "    eval_metric=\"binary_logloss\",\n",
    "    verbose=-1\n",
    ")\n",
    "\n",
    "preds = lgbm_clf.predict(x_test_scale)\n",
    "preds\n",
    "print(classification_report(y_test,preds))"
   ]
  },
  {
   "cell_type": "code",
   "execution_count": 62,
   "metadata": {},
   "outputs": [
    {
     "data": {
      "image/png": "[encoded data removed]",
      "text/plain": [
       "<Figure size 720x360 with 1 Axes>"
      ]
     },
     "metadata": {
      "needs_background": "light"
     },
     "output_type": "display_data"
    }
   ],
   "source": [
    "predictors = ['transaction_risk_score','cc_amount','ledger_balance','cardholder_presence','card_presence',\n",
    "          'partial_approval_capable','channel','processing_type','cc_acceptor_state','cc_acceptor_country']\n",
    "tmp = pd.DataFrame({'Feature': predictors, 'Feature importance': clf.feature_importances_})\n",
    "tmp = tmp.sort_values(by='Feature importance',ascending=False)\n",
    "plt.figure(figsize = (10,5))\n",
    "plt.title('Random Forest Classifier Features importance',fontsize=14)\n",
    "s = sns.barplot(x='Feature',y='Feature importance',data=tmp)\n",
    "s.set_xticklabels(s.get_xticklabels(),rotation=90)\n",
    "plt.show()"
   ]
  },
  {
   "cell_type": "markdown",
   "metadata": {},
   "source": [
    "# ANN"
   ]
  },
  {
   "cell_type": "code",
   "execution_count": 63,
   "metadata": {},
   "outputs": [],
   "source": [
    "from tensorflow.keras.optimizers import SGD\n",
    "\n",
    "metrics = [\n",
    "    'accuracy',\n",
    "    keras.metrics.Precision(),\n",
    "    keras.metrics.Recall()\n",
    "]\n",
    "\n",
    "epochs=100\n",
    "learning_rate = 0.1\n",
    "decay_rate = learning_rate / epochs\n",
    "momentum = 0.8\n",
    "input_dim = x_train_scale.shape[1]\n",
    "\n",
    "sgd = SGD(learning_rate=learning_rate, momentum=momentum, decay=decay_rate, nesterov=False)\n",
    "\n",
    "def NN():\n",
    "    model = keras.Sequential()\n",
    "    model.add(Dense(64, activation='relu', input_dim=input_dim))\n",
    "    model.add(Dropout(0.2))\n",
    "    model.add(Dense(32, activation='relu'))\n",
    "    model.add(Dropout(0.2))\n",
    "    model.add(Dense(16, activation='relu'))\n",
    "    model.add(Dropout(0.2))\n",
    "    model.add(Dense(1, activation='sigmoid'))\n",
    "\n",
    "    model.compile(optimizer = sgd, loss = 'binary_crossentropy', metrics = metrics)\n",
    "    \n",
    "    return model"
   ]
  },
  {
   "cell_type": "code",
   "execution_count": 64,
   "metadata": {},
   "outputs": [
    {
     "name": "stdout",
     "output_type": "stream",
     "text": [
      "Epoch 1/100\n",
      "200/200 [==============================] - 2s 4ms/step - loss: 0.1125 - accuracy: 0.9672 - precision_1: 0.7426 - recall_1: 0.3673 - val_loss: 0.0547 - val_accuracy: 0.9843 - val_precision_1: 0.9537 - val_recall_1: 0.8374\n",
      "Epoch 2/100\n",
      "200/200 [==============================] - 0s 2ms/step - loss: 0.0798 - accuracy: 0.9735 - precision_1: 0.7760 - recall_1: 0.5418 - val_loss: 0.0490 - val_accuracy: 0.9818 - val_precision_1: 0.9700 - val_recall_1: 0.7886\n",
      "Epoch 3/100\n",
      "200/200 [==============================] - 0s 2ms/step - loss: 0.0779 - accuracy: 0.9759 - precision_1: 0.8343 - recall_1: 0.5491 - val_loss: 0.0468 - val_accuracy: 0.9850 - val_precision_1: 0.9304 - val_recall_1: 0.8699\n",
      "Epoch 4/100\n",
      "200/200 [==============================] - 0s 2ms/step - loss: 0.0763 - accuracy: 0.9771 - precision_1: 0.8241 - recall_1: 0.5964 - val_loss: 0.0477 - val_accuracy: 0.9887 - val_precision_1: 0.9565 - val_recall_1: 0.8943\n",
      "Epoch 5/100\n",
      "200/200 [==============================] - 0s 2ms/step - loss: 0.0722 - accuracy: 0.9782 - precision_1: 0.8579 - recall_1: 0.5927 - val_loss: 0.0401 - val_accuracy: 0.9906 - val_precision_1: 0.9500 - val_recall_1: 0.9268\n",
      "Epoch 6/100\n",
      "200/200 [==============================] - 0s 2ms/step - loss: 0.0712 - accuracy: 0.9782 - precision_1: 0.8333 - recall_1: 0.6182 - val_loss: 0.0434 - val_accuracy: 0.9919 - val_precision_1: 0.9661 - val_recall_1: 0.9268\n",
      "Epoch 7/100\n",
      "200/200 [==============================] - 0s 2ms/step - loss: 0.0670 - accuracy: 0.9795 - precision_1: 0.8636 - recall_1: 0.6218 - val_loss: 0.0520 - val_accuracy: 0.9831 - val_precision_1: 0.9615 - val_recall_1: 0.8130\n",
      "Epoch 8/100\n",
      "200/200 [==============================] - 1s 3ms/step - loss: 0.0698 - accuracy: 0.9792 - precision_1: 0.8550 - recall_1: 0.6218 - val_loss: 0.0452 - val_accuracy: 0.9887 - val_precision_1: 0.9565 - val_recall_1: 0.8943\n",
      "Epoch 9/100\n",
      "200/200 [==============================] - 0s 2ms/step - loss: 0.0652 - accuracy: 0.9803 - precision_1: 0.8433 - recall_1: 0.6655 - val_loss: 0.0605 - val_accuracy: 0.9818 - val_precision_1: 0.9700 - val_recall_1: 0.7886\n",
      "Epoch 10/100\n",
      "200/200 [==============================] - 0s 2ms/step - loss: 0.0650 - accuracy: 0.9815 - precision_1: 0.8867 - recall_1: 0.6545 - val_loss: 0.0393 - val_accuracy: 0.9900 - val_precision_1: 0.9421 - val_recall_1: 0.9268\n",
      "Epoch 11/100\n",
      "200/200 [==============================] - 0s 2ms/step - loss: 0.0628 - accuracy: 0.9839 - precision_1: 0.8945 - recall_1: 0.7091 - val_loss: 0.0713 - val_accuracy: 0.9737 - val_precision_1: 0.9655 - val_recall_1: 0.6829\n",
      "Epoch 12/100\n",
      "200/200 [==============================] - 0s 2ms/step - loss: 0.0651 - accuracy: 0.9804 - precision_1: 0.8472 - recall_1: 0.6655 - val_loss: 0.0473 - val_accuracy: 0.9900 - val_precision_1: 0.9652 - val_recall_1: 0.9024\n",
      "Epoch 13/100\n",
      "200/200 [==============================] - 0s 2ms/step - loss: 0.0626 - accuracy: 0.9820 - precision_1: 0.8604 - recall_1: 0.6945 - val_loss: 0.0508 - val_accuracy: 0.9862 - val_precision_1: 0.9174 - val_recall_1: 0.9024\n",
      "Epoch 14/100\n",
      "200/200 [==============================] - 0s 2ms/step - loss: 0.0633 - accuracy: 0.9824 - precision_1: 0.8655 - recall_1: 0.7018 - val_loss: 0.0499 - val_accuracy: 0.9856 - val_precision_1: 0.9386 - val_recall_1: 0.8699\n",
      "Epoch 15/100\n",
      "200/200 [==============================] - 0s 2ms/step - loss: 0.0609 - accuracy: 0.9831 - precision_1: 0.8848 - recall_1: 0.6982 - val_loss: 0.0646 - val_accuracy: 0.9781 - val_precision_1: 0.9490 - val_recall_1: 0.7561\n",
      "Epoch 16/100\n",
      "200/200 [==============================] - 0s 2ms/step - loss: 0.0609 - accuracy: 0.9824 - precision_1: 0.8791 - recall_1: 0.6873 - val_loss: 0.0502 - val_accuracy: 0.9881 - val_precision_1: 0.9483 - val_recall_1: 0.8943\n",
      "Epoch 17/100\n",
      "200/200 [==============================] - 0s 2ms/step - loss: 0.0606 - accuracy: 0.9829 - precision_1: 0.8773 - recall_1: 0.7018 - val_loss: 0.0515 - val_accuracy: 0.9881 - val_precision_1: 0.9483 - val_recall_1: 0.8943\n",
      "Epoch 18/100\n",
      "200/200 [==============================] - 0s 2ms/step - loss: 0.0572 - accuracy: 0.9826 - precision_1: 0.8694 - recall_1: 0.7018 - val_loss: 0.0549 - val_accuracy: 0.9868 - val_precision_1: 0.9397 - val_recall_1: 0.8862\n",
      "Epoch 19/100\n",
      "200/200 [==============================] - 0s 2ms/step - loss: 0.0576 - accuracy: 0.9831 - precision_1: 0.8957 - recall_1: 0.6873 - val_loss: 0.0434 - val_accuracy: 0.9887 - val_precision_1: 0.9339 - val_recall_1: 0.9187\n",
      "Epoch 20/100\n",
      "200/200 [==============================] - 0s 2ms/step - loss: 0.0588 - accuracy: 0.9840 - precision_1: 0.8777 - recall_1: 0.7309 - val_loss: 0.0472 - val_accuracy: 0.9900 - val_precision_1: 0.9652 - val_recall_1: 0.9024\n"
     ]
    }
   ],
   "source": [
    "from keras.callbacks import EarlyStopping\n",
    "model = NN()\n",
    "lr_model_history = model.fit(x_train_scale, y_train, validation_data = (x_test_scale, y_test), \n",
    "                             batch_size = 32, epochs = epochs, verbose = 1,\n",
    "                             callbacks=EarlyStopping(monitor='val_loss',patience=10))"
   ]
  },
  {
   "cell_type": "code",
   "execution_count": 65,
   "metadata": {},
   "outputs": [
    {
     "name": "stdout",
     "output_type": "stream",
     "text": [
      "new\n",
      "accuracy: 0.9899749159812927\n",
      "precision: 0.9652174115180969\n",
      "recall: 0.9024389982223511\n"
     ]
    }
   ],
   "source": [
    "print(\"new\")\n",
    "print('accuracy: ' + str(model.evaluate(x_test_scale,y_test, verbose=0)[1]))\n",
    "print('precision: ' + str(model.evaluate(x_test_scale,y_test, verbose=0)[2]))\n",
    "print('recall: ' + str(model.evaluate(x_test_scale,y_test, verbose=0)[3]))"
   ]
  },
  {
   "cell_type": "code",
   "execution_count": 326,
   "metadata": {},
   "outputs": [
    {
     "name": "stdout",
     "output_type": "stream",
     "text": [
      "accuracy: 0.9959642291069031\n",
      "precision: 0.9638554453849792\n",
      "recall: 0.6722689270973206\n"
     ]
    }
   ],
   "source": [
    "print('accuracy: ' + str(model.evaluate(x_test_scale,y_test, verbose=0)[1]))\n",
    "print('precision: ' + str(model.evaluate(x_test_scale,y_test, verbose=0)[2]))\n",
    "print('recall: ' + str(model.evaluate(x_test_scale,y_test, verbose=0)[3]))"
   ]
  },
  {
   "cell_type": "code",
   "execution_count": 66,
   "metadata": {},
   "outputs": [
    {
     "data": {
      "image/png": "[encoded data removed]",
      "text/plain": [
       "<Figure size 720x432 with 1 Axes>"
      ]
     },
     "metadata": {
      "needs_background": "light"
     },
     "output_type": "display_data"
    }
   ],
   "source": [
    "# Plot the loss function\n",
    "fig, ax = plt.subplots(1, 1, figsize=(10,6))\n",
    "ax.plot(np.sqrt(lr_model_history.history['loss']), 'r', label='train')\n",
    "ax.plot(np.sqrt(lr_model_history.history['val_loss']), 'b' ,label='val')\n",
    "ax.set_xlabel(r'Epoch', fontsize=20)\n",
    "ax.set_ylabel(r'Loss', fontsize=20)\n",
    "ax.legend()\n",
    "ax.tick_params(labelsize=20)"
   ]
  },
  {
   "cell_type": "code",
   "execution_count": 67,
   "metadata": {},
   "outputs": [
    {
     "data": {
      "image/png": "[encoded data removed]",
      "text/plain": [
       "<Figure size 720x432 with 1 Axes>"
      ]
     },
     "metadata": {
      "needs_background": "light"
     },
     "output_type": "display_data"
    }
   ],
   "source": [
    "# Plot the loss function\n",
    "fig, ax = plt.subplots(1, 1, figsize=(10,6))\n",
    "ax.plot(np.sqrt(lr_model_history.history['accuracy']), 'r', label='train')\n",
    "ax.plot(np.sqrt(lr_model_history.history['val_accuracy']), 'b' ,label='val')\n",
    "ax.set_xlabel(r'Epoch', fontsize=20)\n",
    "ax.set_ylabel(r'Accuracy', fontsize=20)\n",
    "ax.legend()\n",
    "ax.tick_params(labelsize=20)"
   ]
  },
  {
   "cell_type": "code",
   "execution_count": null,
   "metadata": {},
   "outputs": [],
   "source": []
  }
 ],
 "metadata": {
  "kernelspec": {
   "display_name": "Python 3",
   "language": "python",
   "name": "python3"
  },
  "language_info": {
   "codemirror_mode": {
    "name": "ipython",
    "version": 3
   },
   "file_extension": ".py",
   "mimetype": "text/x-python",
   "name": "python",
   "nbconvert_exporter": "python",
   "pygments_lexer": "ipython3",
   "version": "3.8.5"
  }
 },
 "nbformat": 4,
 "nbformat_minor": 4
}
