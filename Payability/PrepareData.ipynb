{
 "cells": [
  {
   "cell_type": "code",
   "execution_count": 113,
   "metadata": {},
   "outputs": [
    {
     "name": "stderr",
     "output_type": "stream",
     "text": [
      "/opt/anaconda3/lib/python3.8/site-packages/IPython/core/interactiveshell.py:3146: DtypeWarning: Columns (8) have mixed types.Specify dtype option on import or set low_memory=False.\n",
      "  has_raised = await self.run_ast_nodes(code_ast.body, cell_name,\n"
     ]
    }
   ],
   "source": [
    "# Import libraries\n",
    "import numpy as np\n",
    "import pandas as pd\n",
    "\n",
    "# Import data\n",
    "frauds = pd.read_csv('data/frauds.csv')\n",
    "nonfrauds = pd.read_csv('data/nonfrauds.csv')"
   ]
  },
  {
   "cell_type": "code",
   "execution_count": 137,
   "metadata": {},
   "outputs": [],
   "source": [
    "Freshfrauds = pd.read_csv('data/FreshFrauds.csv')\n",
    "\n",
    "def ToDate(date):\n",
    "    s = str(date[-4:] + \"/\" + date[:-5])\n",
    "    return s\n",
    "\n",
    "def ToAmount(n):\n",
    "    return n[1:]\n",
    "\n",
    "# Remove Na date\n",
    "Freshfrauds = Freshfrauds[Freshfrauds['Date of Txn'].notna()]\n",
    "\n",
    "# Remove all inappropriate dates\n",
    "for date in Freshfrauds['Date of Txn']:\n",
    "    if type(date) == str:\n",
    "        if date[-5] != \"/\":\n",
    "            Freshfrauds = Freshfrauds[Freshfrauds['Date of Txn'] != date]\n",
    "            \n",
    "# Change date to appropriate format and comvert it to datetime format\n",
    "Freshfrauds['Date of Txn'] = Freshfrauds['Date of Txn'].apply(ToDate)\n",
    "Freshfrauds['cc_amount'] = Freshfrauds['Amount'].apply(ToAmount)\n",
    "Freshfrauds['user_transaction_time'] = pd.to_datetime(Freshfrauds['Date of Txn'])\n",
    "\n",
    "# Modify Columns\n",
    "Freshfrauds['key'] = Freshfrauds['Supplier Key']\n",
    "Freshfrauds['transaction_risk_score'] = Freshfrauds['Risk Score']\n",
    "Freshfrauds = Freshfrauds.drop(['Supplier Name','Customer First Name','Customer Last Name','Merchant','Month of Disputed Txns',\n",
    "                 'Date Dispute Initated','Comment','Marqeta Dispute Decision','Auth ID','MID','Temporary Credit Amount',\n",
    "                 'Temporary credit reversed','Logged by','Supplier Key','Amount','Risk Score'], axis=1)\n",
    "\n",
    "unadded_columns = ['channel','processing_type','ledger_balance','cc_acceptor_state','acceptor_state','cc_acceptor_country',\n",
    "                   'cardholder_presence','card_presence','partial_approval_capable','pin_present']\n",
    "\n",
    "for col in unadded_columns:\n",
    "    Freshfrauds[col] = np.nan\n",
    "    \n",
    "\n",
    "    \n",
    "Freshfrauds = Freshfrauds[['key','user_transaction_time','channel','transaction_risk_score','processing_type','cc_amount',\n",
    "                          'ledger_balance','cc_acceptor_state','acceptor_state','cc_acceptor_country','cardholder_presence',\n",
    "                          'card_presence','partial_approval_capable','pin_present']]\n",
    "\n",
    "# Combine the frauds\n",
    "df = frauds.append(Freshfrauds)\n",
    "\n",
    "# Export data\n",
    "df.to_csv('data/updatedfrauds.csv')"
   ]
  },
  {
   "cell_type": "code",
   "execution_count": 146,
   "metadata": {},
   "outputs": [],
   "source": [
    "# Import data\n",
    "frauds = pd.read_csv('data/updatedfrauds.csv')\n",
    "frauds = frauds.drop(frauds.columns[[0]], axis = 1)\n",
    "frauds = frauds[frauds['user_transaction_time'].notna()]\n",
    "nonfrauds = pd.read_csv('data/nonfrauds.csv')\n",
    "\n",
    "# Convert datetime and label data \n",
    "frauds['user_transaction_time'] = pd.to_datetime(frauds['user_transaction_time'], errors='coerce', utc=True)\n",
    "frauds['date'] = frauds['user_transaction_time'].dt.date\n",
    "\n",
    "nonfrauds['user_transaction_time'] = pd.to_datetime(nonfrauds['user_transaction_time'])\n",
    "nonfrauds['date'] = nonfrauds['user_transaction_time'].dt.date\n",
    "\n",
    "frauds['is_fraud'] = 1\n",
    "nonfrauds['is_fraud'] = 0\n",
    "\n",
    "# Sampling for each day by taking 4% of good transactions and 100% of frauds\n",
    "frauds_date = sorted(list(set(frauds['date'])))[4:]\n",
    "nonfraud = pd.DataFrame()\n",
    "\n",
    "for date in frauds_date:\n",
    "    dftemp = nonfrauds.loc[nonfrauds['date'] == date]\n",
    "    dftemp = dftemp.sample(frac = 0.04, random_state = 0)\n",
    "    nonfraud = nonfraud.append(dftemp)\n",
    "\n",
    "df2 = frauds.append(nonfraud)\n",
    "df2 = df2.sort_values(by='date')\n",
    "df2 = df2[df2['date'] >= pd.Timestamp(2018,1,1)]\n",
    "df2 = df2.drop(['key'], axis=1)\n",
    "df2.to_csv('data/LabeledTransactions.csv')"
   ]
  },
  {
   "cell_type": "code",
   "execution_count": null,
   "metadata": {},
   "outputs": [],
   "source": [
    "df2"
   ]
  }
 ],
 "metadata": {
  "kernelspec": {
   "display_name": "Python 3",
   "language": "python",
   "name": "python3"
  },
  "language_info": {
   "codemirror_mode": {
    "name": "ipython",
    "version": 3
   },
   "file_extension": ".py",
   "mimetype": "text/x-python",
   "name": "python",
   "nbconvert_exporter": "python",
   "pygments_lexer": "ipython3",
   "version": "3.8.5"
  }
 },
 "nbformat": 4,
 "nbformat_minor": 4
}
