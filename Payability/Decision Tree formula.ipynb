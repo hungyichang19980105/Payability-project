{
 "cells": [
  {
   "cell_type": "code",
   "execution_count": 58,
   "metadata": {},
   "outputs": [],
   "source": [
    "from sklearn.tree import DecisionTreeClassifier\n",
    "from sklearn.tree import export_text\n",
    "from sklearn.preprocessing import StandardScaler\n",
    "import lightgbm as lgbm\n",
    "import pandas as pd\n",
    "import numpy as np\n",
    "from sklearn.metrics import classification_report"
   ]
  },
  {
   "cell_type": "code",
   "execution_count": 59,
   "metadata": {},
   "outputs": [],
   "source": [
    "df = pd.read_csv('data/New_input.csv')\n",
    "df2 = df[['transaction_risk_score','cc_amount','ledger_balance','cardholder_presence','card_presence',\n",
    "          'partial_approval_capable','channel','processing_type','date','cc_acceptor_state','cc_acceptor_country','is_fraud']]\n",
    "df2 = df2.sort_values(by='date')\n",
    "df2 = df2.drop(\"date\",axis=1)"
   ]
  },
  {
   "cell_type": "code",
   "execution_count": 60,
   "metadata": {},
   "outputs": [],
   "source": [
    "training_set, test_set = np.split(df2, [int(.8 *len(df))])\n",
    "\n",
    "X_train = training_set.drop(\"is_fraud\",axis=1)\n",
    "y_train = training_set[['is_fraud']].values.flatten()\n",
    "\n",
    "X_test = test_set.drop(\"is_fraud\",axis=1)\n",
    "y_test = test_set[['is_fraud']].values.flatten()\n",
    "\n",
    "scalar = StandardScaler()\n",
    "x_train_scale = scalar.fit_transform(X_train)\n",
    "x_test_scale = scalar.transform(X_test)"
   ]
  },
  {
   "cell_type": "code",
   "execution_count": 61,
   "metadata": {},
   "outputs": [],
   "source": [
    "clf = lgbm.LGBMClassifier(objective=\"binary\", n_estimators=10000)"
   ]
  },
  {
   "cell_type": "code",
   "execution_count": 62,
   "metadata": {},
   "outputs": [],
   "source": [
    "clf.fit(x_train_scale,y_train)\n",
    "pred = clf.predict(x_test_scale)"
   ]
  },
  {
   "cell_type": "code",
   "execution_count": 63,
   "metadata": {},
   "outputs": [
    {
     "name": "stdout",
     "output_type": "stream",
     "text": [
      "              precision    recall  f1-score   support\n",
      "\n",
      "           0       1.00      0.96      0.98      2983\n",
      "           1       0.70      0.99      0.82       251\n",
      "\n",
      "    accuracy                           0.97      3234\n",
      "   macro avg       0.85      0.98      0.90      3234\n",
      "weighted avg       0.98      0.97      0.97      3234\n",
      "\n"
     ]
    }
   ],
   "source": [
    "print(classification_report(pred,y_test))"
   ]
  },
  {
   "cell_type": "code",
   "execution_count": null,
   "metadata": {},
   "outputs": [],
   "source": []
  }
 ],
 "metadata": {
  "kernelspec": {
   "display_name": "Python 3",
   "language": "python",
   "name": "python3"
  },
  "language_info": {
   "codemirror_mode": {
    "name": "ipython",
    "version": 3
   },
   "file_extension": ".py",
   "mimetype": "text/x-python",
   "name": "python",
   "nbconvert_exporter": "python",
   "pygments_lexer": "ipython3",
   "version": "3.8.5"
  }
 },
 "nbformat": 4,
 "nbformat_minor": 4
}
