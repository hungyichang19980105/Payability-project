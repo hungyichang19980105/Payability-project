{
 "cells": [
  {
   "cell_type": "code",
   "execution_count": 28,
   "metadata": {},
   "outputs": [],
   "source": [
    "#Import Libraries\n",
    "from sklearn.preprocessing import StandardScaler, OrdinalEncoder, OneHotEncoder\n",
    "from sklearn.impute import SimpleImputer\n",
    "from sklearn.compose import ColumnTransformer\n",
    "from sklearn.pipeline import Pipeline\n",
    "from sklearn.ensemble import RandomForestClassifier\n",
    "from sklearn.metrics import classification_report\n",
    "import numpy as np\n",
    "import pandas as pd"
   ]
  },
  {
   "cell_type": "code",
   "execution_count": 81,
   "metadata": {},
   "outputs": [
    {
     "name": "stderr",
     "output_type": "stream",
     "text": [
      "/opt/anaconda3/lib/python3.8/site-packages/IPython/core/interactiveshell.py:3146: DtypeWarning: Columns (5,8) have mixed types.Specify dtype option on import or set low_memory=False.\n",
      "  has_raised = await self.run_ast_nodes(code_ast.body, cell_name,\n"
     ]
    },
    {
     "data": {
      "text/plain": [
       "channel                      object\n",
       "transaction_risk_score      float64\n",
       "processing_type              object\n",
       "cc_amount                   float64\n",
       "ledger_balance              float64\n",
       "cc_acceptor_state            object\n",
       "cc_acceptor_country          object\n",
       "cardholder_presence          object\n",
       "card_presence                object\n",
       "partial_approval_capable     object\n",
       "is_fraud                      int64\n",
       "hour                         object\n",
       "month                        object\n",
       "dayofweek                    object\n",
       "year                         object\n",
       "dtype: object"
      ]
     },
     "execution_count": 81,
     "metadata": {},
     "output_type": "execute_result"
    }
   ],
   "source": [
    "# Import data\n",
    "df = pd.read_csv('data/LabeledTransactions.csv')\n",
    "df = df.drop(df.columns[[0]], axis = 1)\n",
    "df = df.drop('acceptor_state', axis = 1)\n",
    "df = df.drop('pin_present', axis = 1)\n",
    "\n",
    "# Convert amount to float\n",
    "def s2f(s):\n",
    "    return float(str(s).replace(\",\",\"\"))\n",
    "df['cc_amount'] = df['cc_amount'].apply(s2f)\n",
    "\n",
    "# Add new features of time derived variables\n",
    "df['user_transaction_time'] = pd.to_datetime(df['user_transaction_time'], errors='coerce', utc=True)\n",
    "df['hour'] = df['user_transaction_time'].dt.hour\n",
    "df['month'] = df['user_transaction_time'].dt.month\n",
    "df['dayofweek'] = df['user_transaction_time'].dt.dayofweek\n",
    "df['year'] = df['user_transaction_time'].dt.year\n",
    "\n",
    "# Remove user_transaction time and date\n",
    "df = df.drop(['user_transaction_time','date'], axis = 1)\n",
    "\n",
    "# Convert categorical variable's type to category\n",
    "cat_var = ['cardholder_presence','card_presence','partial_approval_capable','hour','month','dayofweek','year']\n",
    "for col in cat_var:\n",
    "    df[col] = df[col].fillna(-1)\n",
    "    df[col] = df[col].astype(int)\n",
    "    df[col] = df[col].astype(str)\n",
    "    df[col] = df[col].replace('-1', np.nan)\n",
    "df.dtypes"
   ]
  },
  {
   "cell_type": "code",
   "execution_count": 77,
   "metadata": {},
   "outputs": [],
   "source": [
    "training_set, test_set = np.split(df, [int(.5 *len(df))])\n",
    "\n",
    "X_train = training_set.drop(\"is_fraud\",axis=1)\n",
    "y_train = training_set[['is_fraud']].values.flatten()\n",
    "\n",
    "X_test = test_set.drop(\"is_fraud\",axis=1)\n",
    "y_test = test_set[['is_fraud']].values.flatten()"
   ]
  },
  {
   "cell_type": "code",
   "execution_count": 78,
   "metadata": {},
   "outputs": [],
   "source": [
    "numeric_features = ['transaction_risk_score','cc_amount','ledger_balance']\n",
    "categorical_features = ['channel','processing_type','cc_acceptor_state','cc_acceptor_country','cardholder_presence',\n",
    "                       'card_presence','partial_approval_capable','hour','month','dayofweek','year']\n",
    "\n",
    "numeric_transformer = Pipeline(steps=[\n",
    "       ('imputer', SimpleImputer(strategy='mean'))\n",
    "      ,('scaler', StandardScaler())\n",
    "])\n",
    "categorical_transformer = Pipeline(steps=[\n",
    "       ('imputer', SimpleImputer(strategy='constant'))\n",
    "      ,('encoder', OneHotEncoder(handle_unknown='ignore'))\n",
    "])\n",
    "\n",
    "preprocessor = ColumnTransformer(\n",
    "   transformers=[\n",
    "    ('numeric', numeric_transformer, numeric_features)\n",
    "   ,('categorical', categorical_transformer, categorical_features)\n",
    "]) \n",
    "\n",
    "pipeline = Pipeline(steps = [\n",
    "               ('preprocessor', preprocessor)\n",
    "              ,('classifier',RandomForestClassifier(n_estimators=500, max_depth=15))\n",
    "           ])"
   ]
  },
  {
   "cell_type": "code",
   "execution_count": 79,
   "metadata": {},
   "outputs": [],
   "source": [
    "model = pipeline.fit(X_train, y_train)\n",
    "predictions = model.predict(X_test)"
   ]
  },
  {
   "cell_type": "code",
   "execution_count": 80,
   "metadata": {},
   "outputs": [
    {
     "name": "stdout",
     "output_type": "stream",
     "text": [
      "              precision    recall  f1-score   support\n",
      "\n",
      "           0       1.00      1.00      1.00     17029\n",
      "           1       0.90      1.00      0.94       430\n",
      "\n",
      "    accuracy                           1.00     17459\n",
      "   macro avg       0.95      1.00      0.97     17459\n",
      "weighted avg       1.00      1.00      1.00     17459\n",
      "\n"
     ]
    }
   ],
   "source": [
    "print(classification_report(predictions,y_test))"
   ]
  }
 ],
 "metadata": {
  "kernelspec": {
   "display_name": "Python 3",
   "language": "python",
   "name": "python3"
  },
  "language_info": {
   "codemirror_mode": {
    "name": "ipython",
    "version": 3
   },
   "file_extension": ".py",
   "mimetype": "text/x-python",
   "name": "python",
   "nbconvert_exporter": "python",
   "pygments_lexer": "ipython3",
   "version": "3.8.5"
  }
 },
 "nbformat": 4,
 "nbformat_minor": 4
}
