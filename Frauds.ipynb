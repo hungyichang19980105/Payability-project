{
 "cells": [
  {
   "cell_type": "code",
   "execution_count": 1,
   "metadata": {},
   "outputs": [],
   "source": [
    "import pandas as pd\n",
    "import numpy as np\n",
    "import keras\n",
    "import tensorflow\n",
    "from sklearn.preprocessing import StandardScaler\n",
    "from sklearn.model_selection import train_test_split\n",
    "from sklearn.ensemble import RandomForestClassifier\n",
    "from sklearn.linear_model import LogisticRegression\n",
    "from sklearn.neighbors import KNeighborsClassifier\n",
    "from sklearn.metrics import accuracy_score, classification_report\n",
    "import matplotlib.pyplot as plt\n",
    "import seaborn as sns\n",
    "from sklearn.manifold import TSNE\n",
    "from keras import Sequential\n",
    "from keras.layers import Dense, Dropout, BatchNormalization, Flatten, Conv1D, Input\n",
    "from tensorflow.python.keras import regularizers\n",
    "from keras.models import Model"
   ]
  },
  {
   "cell_type": "code",
   "execution_count": 2,
   "metadata": {},
   "outputs": [],
   "source": [
    "frauds = pd.read_csv('data/frauds.csv')\n",
    "nonfrauds = pd.read_csv('data/nonfrauds.csv')"
   ]
  },
  {
   "cell_type": "code",
   "execution_count": 6,
   "metadata": {},
   "outputs": [],
   "source": [
    "frauds['is_fraud'] = 1\n",
    "nonfrauds['is_fraud'] = 0"
   ]
  },
  {
   "cell_type": "code",
   "execution_count": 7,
   "metadata": {},
   "outputs": [],
   "source": [
    "df = frauds.append([nonfrauds])"
   ]
  },
  {
   "cell_type": "code",
   "execution_count": 17,
   "metadata": {},
   "outputs": [
    {
     "data": {
      "text/html": [
       "<div>\n",
       "<style scoped>\n",
       "    .dataframe tbody tr th:only-of-type {\n",
       "        vertical-align: middle;\n",
       "    }\n",
       "\n",
       "    .dataframe tbody tr th {\n",
       "        vertical-align: top;\n",
       "    }\n",
       "\n",
       "    .dataframe thead th {\n",
       "        text-align: right;\n",
       "    }\n",
       "</style>\n",
       "<table border=\"1\" class=\"dataframe\">\n",
       "  <thead>\n",
       "    <tr style=\"text-align: right;\">\n",
       "      <th></th>\n",
       "      <th>key</th>\n",
       "      <th>user_transaction_time</th>\n",
       "      <th>channel</th>\n",
       "      <th>transaction_risk_score</th>\n",
       "      <th>processing_type</th>\n",
       "      <th>cc_amount</th>\n",
       "      <th>ledger_balance</th>\n",
       "      <th>cc_acceptor_state</th>\n",
       "      <th>acceptor_state</th>\n",
       "      <th>cardholder_presence</th>\n",
       "      <th>card_presence</th>\n",
       "      <th>is_fraud</th>\n",
       "    </tr>\n",
       "  </thead>\n",
       "  <tbody>\n",
       "    <tr>\n",
       "      <th>0</th>\n",
       "      <td>9d851f1b-00b3-4b02-9494-beda8866d6f7</td>\n",
       "      <td>2020-12-29T16:13:49Z</td>\n",
       "      <td>ECOMMERCE</td>\n",
       "      <td>82.0</td>\n",
       "      <td>MANUAL</td>\n",
       "      <td>14.99</td>\n",
       "      <td>134.91</td>\n",
       "      <td>NaN</td>\n",
       "      <td>NaN</td>\n",
       "      <td>0.0</td>\n",
       "      <td>0.0</td>\n",
       "      <td>1</td>\n",
       "    </tr>\n",
       "    <tr>\n",
       "      <th>1</th>\n",
       "      <td>dc13ebc6-a527-46d0-b424-6642d47c8a11</td>\n",
       "      <td>2020-12-29T16:13:32Z</td>\n",
       "      <td>ECOMMERCE</td>\n",
       "      <td>82.0</td>\n",
       "      <td>MANUAL</td>\n",
       "      <td>14.99</td>\n",
       "      <td>359.76</td>\n",
       "      <td>NaN</td>\n",
       "      <td>NaN</td>\n",
       "      <td>0.0</td>\n",
       "      <td>0.0</td>\n",
       "      <td>1</td>\n",
       "    </tr>\n",
       "    <tr>\n",
       "      <th>2</th>\n",
       "      <td>5e8f4d8f-a720-4a3d-ac55-f8953db3b527</td>\n",
       "      <td>2020-12-29T16:13:13Z</td>\n",
       "      <td>ECOMMERCE</td>\n",
       "      <td>82.0</td>\n",
       "      <td>MANUAL</td>\n",
       "      <td>14.99</td>\n",
       "      <td>419.72</td>\n",
       "      <td>NaN</td>\n",
       "      <td>NaN</td>\n",
       "      <td>0.0</td>\n",
       "      <td>0.0</td>\n",
       "      <td>1</td>\n",
       "    </tr>\n",
       "    <tr>\n",
       "      <th>3</th>\n",
       "      <td>74e6ff6d-f341-4300-8cac-30ab9e5ed5cf</td>\n",
       "      <td>2020-12-29T16:12:56Z</td>\n",
       "      <td>ECOMMERCE</td>\n",
       "      <td>82.0</td>\n",
       "      <td>MANUAL</td>\n",
       "      <td>14.99</td>\n",
       "      <td>149.90</td>\n",
       "      <td>NaN</td>\n",
       "      <td>NaN</td>\n",
       "      <td>0.0</td>\n",
       "      <td>0.0</td>\n",
       "      <td>1</td>\n",
       "    </tr>\n",
       "    <tr>\n",
       "      <th>4</th>\n",
       "      <td>c63d2508-f935-4092-bde1-434e1acbd0ef</td>\n",
       "      <td>2020-12-29T16:12:38Z</td>\n",
       "      <td>ECOMMERCE</td>\n",
       "      <td>82.0</td>\n",
       "      <td>MANUAL</td>\n",
       "      <td>14.99</td>\n",
       "      <td>164.89</td>\n",
       "      <td>NaN</td>\n",
       "      <td>NaN</td>\n",
       "      <td>0.0</td>\n",
       "      <td>0.0</td>\n",
       "      <td>1</td>\n",
       "    </tr>\n",
       "    <tr>\n",
       "      <th>...</th>\n",
       "      <td>...</td>\n",
       "      <td>...</td>\n",
       "      <td>...</td>\n",
       "      <td>...</td>\n",
       "      <td>...</td>\n",
       "      <td>...</td>\n",
       "      <td>...</td>\n",
       "      <td>...</td>\n",
       "      <td>...</td>\n",
       "      <td>...</td>\n",
       "      <td>...</td>\n",
       "      <td>...</td>\n",
       "    </tr>\n",
       "    <tr>\n",
       "      <th>40889</th>\n",
       "      <td>e50cadff-4009-4fd4-ae84-b59f8b831c19</td>\n",
       "      <td>2022-02-22T20:29:29Z</td>\n",
       "      <td>OTHER</td>\n",
       "      <td>8.0</td>\n",
       "      <td>CHIP</td>\n",
       "      <td>19.70</td>\n",
       "      <td>52.00</td>\n",
       "      <td>FL</td>\n",
       "      <td>12.0</td>\n",
       "      <td>1.0</td>\n",
       "      <td>1.0</td>\n",
       "      <td>0</td>\n",
       "    </tr>\n",
       "    <tr>\n",
       "      <th>40890</th>\n",
       "      <td>69152019-8359-4484-a30a-bc9219050fa8</td>\n",
       "      <td>2022-02-22T20:29:08Z</td>\n",
       "      <td>MOTO</td>\n",
       "      <td>4.0</td>\n",
       "      <td>CARD_ON_FILE</td>\n",
       "      <td>422.43</td>\n",
       "      <td>1552.61</td>\n",
       "      <td>CA</td>\n",
       "      <td>6.0</td>\n",
       "      <td>0.0</td>\n",
       "      <td>0.0</td>\n",
       "      <td>0</td>\n",
       "    </tr>\n",
       "    <tr>\n",
       "      <th>40891</th>\n",
       "      <td>fd7902a2-50bc-4698-9c95-9b7a1be10ef4</td>\n",
       "      <td>2022-02-22T20:28:22Z</td>\n",
       "      <td>ECOMMERCE</td>\n",
       "      <td>2.0</td>\n",
       "      <td>MANUAL</td>\n",
       "      <td>5.57</td>\n",
       "      <td>57.98</td>\n",
       "      <td>WY</td>\n",
       "      <td>56.0</td>\n",
       "      <td>0.0</td>\n",
       "      <td>0.0</td>\n",
       "      <td>0</td>\n",
       "    </tr>\n",
       "    <tr>\n",
       "      <th>40892</th>\n",
       "      <td>7e876176-d505-45a3-8537-caa30c5f2909</td>\n",
       "      <td>2022-02-22T20:28:18Z</td>\n",
       "      <td>ECOMMERCE</td>\n",
       "      <td>4.0</td>\n",
       "      <td>MANUAL</td>\n",
       "      <td>18.83</td>\n",
       "      <td>1954.10</td>\n",
       "      <td>WA</td>\n",
       "      <td>53.0</td>\n",
       "      <td>0.0</td>\n",
       "      <td>0.0</td>\n",
       "      <td>0</td>\n",
       "    </tr>\n",
       "    <tr>\n",
       "      <th>40893</th>\n",
       "      <td>78d3c1d7-d707-49f3-b77e-7453d41cfc7d</td>\n",
       "      <td>2022-02-22T20:27:59Z</td>\n",
       "      <td>ECOMMERCE</td>\n",
       "      <td>5.0</td>\n",
       "      <td>MANUAL</td>\n",
       "      <td>14.57</td>\n",
       "      <td>2223.28</td>\n",
       "      <td>WA</td>\n",
       "      <td>53.0</td>\n",
       "      <td>0.0</td>\n",
       "      <td>0.0</td>\n",
       "      <td>0</td>\n",
       "    </tr>\n",
       "  </tbody>\n",
       "</table>\n",
       "<p>41292 rows × 12 columns</p>\n",
       "</div>"
      ],
      "text/plain": [
       "                                        key user_transaction_time    channel  \\\n",
       "0      9d851f1b-00b3-4b02-9494-beda8866d6f7  2020-12-29T16:13:49Z  ECOMMERCE   \n",
       "1      dc13ebc6-a527-46d0-b424-6642d47c8a11  2020-12-29T16:13:32Z  ECOMMERCE   \n",
       "2      5e8f4d8f-a720-4a3d-ac55-f8953db3b527  2020-12-29T16:13:13Z  ECOMMERCE   \n",
       "3      74e6ff6d-f341-4300-8cac-30ab9e5ed5cf  2020-12-29T16:12:56Z  ECOMMERCE   \n",
       "4      c63d2508-f935-4092-bde1-434e1acbd0ef  2020-12-29T16:12:38Z  ECOMMERCE   \n",
       "...                                     ...                   ...        ...   \n",
       "40889  e50cadff-4009-4fd4-ae84-b59f8b831c19  2022-02-22T20:29:29Z      OTHER   \n",
       "40890  69152019-8359-4484-a30a-bc9219050fa8  2022-02-22T20:29:08Z       MOTO   \n",
       "40891  fd7902a2-50bc-4698-9c95-9b7a1be10ef4  2022-02-22T20:28:22Z  ECOMMERCE   \n",
       "40892  7e876176-d505-45a3-8537-caa30c5f2909  2022-02-22T20:28:18Z  ECOMMERCE   \n",
       "40893  78d3c1d7-d707-49f3-b77e-7453d41cfc7d  2022-02-22T20:27:59Z  ECOMMERCE   \n",
       "\n",
       "       transaction_risk_score processing_type  cc_amount  ledger_balance  \\\n",
       "0                        82.0          MANUAL      14.99          134.91   \n",
       "1                        82.0          MANUAL      14.99          359.76   \n",
       "2                        82.0          MANUAL      14.99          419.72   \n",
       "3                        82.0          MANUAL      14.99          149.90   \n",
       "4                        82.0          MANUAL      14.99          164.89   \n",
       "...                       ...             ...        ...             ...   \n",
       "40889                     8.0            CHIP      19.70           52.00   \n",
       "40890                     4.0    CARD_ON_FILE     422.43         1552.61   \n",
       "40891                     2.0          MANUAL       5.57           57.98   \n",
       "40892                     4.0          MANUAL      18.83         1954.10   \n",
       "40893                     5.0          MANUAL      14.57         2223.28   \n",
       "\n",
       "      cc_acceptor_state  acceptor_state  cardholder_presence  card_presence  \\\n",
       "0                   NaN             NaN                  0.0            0.0   \n",
       "1                   NaN             NaN                  0.0            0.0   \n",
       "2                   NaN             NaN                  0.0            0.0   \n",
       "3                   NaN             NaN                  0.0            0.0   \n",
       "4                   NaN             NaN                  0.0            0.0   \n",
       "...                 ...             ...                  ...            ...   \n",
       "40889                FL            12.0                  1.0            1.0   \n",
       "40890                CA             6.0                  0.0            0.0   \n",
       "40891                WY            56.0                  0.0            0.0   \n",
       "40892                WA            53.0                  0.0            0.0   \n",
       "40893                WA            53.0                  0.0            0.0   \n",
       "\n",
       "       is_fraud  \n",
       "0             1  \n",
       "1             1  \n",
       "2             1  \n",
       "3             1  \n",
       "4             1  \n",
       "...         ...  \n",
       "40889         0  \n",
       "40890         0  \n",
       "40891         0  \n",
       "40892         0  \n",
       "40893         0  \n",
       "\n",
       "[41292 rows x 12 columns]"
      ]
     },
     "execution_count": 17,
     "metadata": {},
     "output_type": "execute_result"
    }
   ],
   "source": [
    "df"
   ]
  },
  {
   "cell_type": "code",
   "execution_count": 16,
   "metadata": {},
   "outputs": [
    {
     "data": {
      "text/plain": [
       "0    40894\n",
       "1      398\n",
       "Name: is_fraud, dtype: int64"
      ]
     },
     "execution_count": 16,
     "metadata": {},
     "output_type": "execute_result"
    }
   ],
   "source": [
    "df.is_fraud.value_counts()"
   ]
  },
  {
   "cell_type": "code",
   "execution_count": 326,
   "metadata": {},
   "outputs": [
    {
     "data": {
      "text/plain": [
       "99.03613290710065"
      ]
     },
     "execution_count": 326,
     "metadata": {},
     "output_type": "execute_result"
    }
   ],
   "source": [
    "40894/41292 * 100"
   ]
  },
  {
   "cell_type": "code",
   "execution_count": 20,
   "metadata": {},
   "outputs": [],
   "source": [
    "df['transaction_risk_score'] = df['transaction_risk_score'].fillna('0')"
   ]
  },
  {
   "cell_type": "code",
   "execution_count": 31,
   "metadata": {},
   "outputs": [],
   "source": [
    "df2 = df[['transaction_risk_score','cc_amount','is_fraud']]"
   ]
  },
  {
   "cell_type": "code",
   "execution_count": 165,
   "metadata": {},
   "outputs": [],
   "source": [
    "X = df2[['transaction_risk_score','cc_amount']]\n",
    "x = df2['transaction_risk_score']\n",
    "Y = df2['is_fraud']\n",
    "\n",
    "X_train, X_test, y_train, y_test = train_test_split(X,Y, test_size = 0.3, random_state = 42)\n",
    "\n",
    "scalar = StandardScaler()\n",
    "x_train_scale = scalar.fit_transform(X_train)\n",
    "x_test_scale = scalar.transform(X_test)\n",
    "\n",
    "x_norm_test, x_fraud_test = x_test_scale[y_test == 0], x_test_scale[y_test == 1]"
   ]
  },
  {
   "cell_type": "code",
   "execution_count": 305,
   "metadata": {},
   "outputs": [
    {
     "data": {
      "text/plain": [
       "Text(0, 0.5, 'is_fraud')"
      ]
     },
     "execution_count": 305,
     "metadata": {},
     "output_type": "execute_result"
    },
    {
     "data": {
      "image/png": "[encoded data removed]",
      "text/plain": [
       "<Figure size 864x576 with 1 Axes>"
      ]
     },
     "metadata": {
      "needs_background": "light"
     },
     "output_type": "display_data"
    }
   ],
   "source": [
    "plt.figure(figsize=(12,8))\n",
    "plt.plot(x,Y)\n",
    "plt.xlabel(r'transaction_risk_score', fontsize=16)\n",
    "plt.ylabel(r'is_fraud', fontsize=16)"
   ]
  },
  {
   "cell_type": "code",
   "execution_count": 167,
   "metadata": {},
   "outputs": [
    {
     "name": "stdout",
     "output_type": "stream",
     "text": [
      "              precision    recall  f1-score   support\n",
      "\n",
      "           0       1.00      1.00      1.00     12257\n",
      "           1       0.96      0.61      0.75       131\n",
      "\n",
      "    accuracy                           1.00     12388\n",
      "   macro avg       0.98      0.81      0.87     12388\n",
      "weighted avg       1.00      1.00      1.00     12388\n",
      "\n"
     ]
    }
   ],
   "source": [
    "reg = LogisticRegression()\n",
    "reg.fit(x_train_scale,y_train)\n",
    "reg_pred = reg.predict(x_test_scale)\n",
    "print(classification_report(y_test,reg_pred))"
   ]
  },
  {
   "cell_type": "code",
   "execution_count": 168,
   "metadata": {},
   "outputs": [
    {
     "name": "stdout",
     "output_type": "stream",
     "text": [
      "              precision    recall  f1-score   support\n",
      "\n",
      "           0       1.00      1.00      1.00     12257\n",
      "           1       0.98      0.62      0.76       131\n",
      "\n",
      "    accuracy                           1.00     12388\n",
      "   macro avg       0.99      0.81      0.88     12388\n",
      "weighted avg       1.00      1.00      1.00     12388\n",
      "\n"
     ]
    }
   ],
   "source": [
    "clf = RandomForestClassifier(max_depth=5, random_state=0)\n",
    "clf.fit(x_train_scale,y_train)\n",
    "pred = clf.predict(x_test_scale)\n",
    "print(classification_report(y_test,pred))"
   ]
  },
  {
   "cell_type": "code",
   "execution_count": 227,
   "metadata": {},
   "outputs": [],
   "source": [
    "from tensorflow.keras.optimizers import SGD\n",
    "\n",
    "metrics = [\n",
    "    'accuracy',\n",
    "    keras.metrics.Precision(),\n",
    "    keras.metrics.Recall()\n",
    "]\n",
    "\n",
    "epochs=50\n",
    "learning_rate = 0.1\n",
    "decay_rate = learning_rate / epochs\n",
    "momentum = 0.8\n",
    "input_dim = x_train_scale.shape[1]\n",
    "\n",
    "sgd = SGD(learning_rate=learning_rate, momentum=momentum, decay=decay_rate, nesterov=False)\n",
    "\n",
    "def NN(Xt):\n",
    "    model = keras.Sequential()\n",
    "    model.add(Dense(64, activation='relu', input_dim=input_dim))\n",
    "    model.add(Dropout(0.5))\n",
    "    model.add(Dense(32, activation='relu'))\n",
    "    model.add(Dropout(0.5))\n",
    "    model.add(Dense(16, activation='relu'))\n",
    "    model.add(Dense(1, activation='sigmoid'))\n",
    "\n",
    "    model.compile(optimizer = sgd, \n",
    "                  loss = 'binary_crossentropy', metrics = metrics)\n",
    "    \n",
    "    return model"
   ]
  },
  {
   "cell_type": "code",
   "execution_count": 229,
   "metadata": {},
   "outputs": [
    {
     "name": "stdout",
     "output_type": "stream",
     "text": [
      "Epoch 1/50\n",
      "904/904 [==============================] - 2s 2ms/step - loss: 0.0581 - accuracy: 0.9910 - precision_24: 0.7000 - recall_24: 0.2421 - val_loss: 0.0213 - val_accuracy: 0.9952 - val_precision_24: 0.9863 - val_recall_24: 0.5496\n",
      "Epoch 2/50\n",
      "904/904 [==============================] - 2s 2ms/step - loss: 0.0261 - accuracy: 0.9937 - precision_24: 0.8696 - recall_24: 0.3745 - val_loss: 0.0212 - val_accuracy: 0.9950 - val_precision_24: 0.9859 - val_recall_24: 0.5344\n",
      "Epoch 3/50\n",
      "904/904 [==============================] - 2s 3ms/step - loss: 0.0246 - accuracy: 0.9942 - precision_24: 0.9224 - recall_24: 0.4007 - val_loss: 0.0196 - val_accuracy: 0.9956 - val_precision_24: 0.9872 - val_recall_24: 0.5878\n",
      "Epoch 4/50\n",
      "904/904 [==============================] - 4s 5ms/step - loss: 0.0243 - accuracy: 0.9947 - precision_24: 0.9453 - recall_24: 0.4532 - val_loss: 0.0197 - val_accuracy: 0.9954 - val_precision_24: 0.9744 - val_recall_24: 0.5802\n",
      "Epoch 5/50\n",
      "904/904 [==============================] - 4s 5ms/step - loss: 0.0231 - accuracy: 0.9950 - precision_24: 0.9424 - recall_24: 0.4906 - val_loss: 0.0197 - val_accuracy: 0.9956 - val_precision_24: 0.9872 - val_recall_24: 0.5878\n",
      "Epoch 6/50\n",
      "904/904 [==============================] - 5s 6ms/step - loss: 0.0233 - accuracy: 0.9946 - precision_24: 0.9370 - recall_24: 0.4457 - val_loss: 0.0192 - val_accuracy: 0.9956 - val_precision_24: 0.9873 - val_recall_24: 0.5954\n",
      "Epoch 7/50\n",
      "904/904 [==============================] - 5s 6ms/step - loss: 0.0232 - accuracy: 0.9951 - precision_24: 0.9310 - recall_24: 0.5056 - val_loss: 0.0192 - val_accuracy: 0.9956 - val_precision_24: 0.9873 - val_recall_24: 0.5954\n",
      "Epoch 8/50\n",
      "904/904 [==============================] - 3s 3ms/step - loss: 0.0223 - accuracy: 0.9953 - precision_24: 0.9452 - recall_24: 0.5169 - val_loss: 0.0192 - val_accuracy: 0.9956 - val_precision_24: 0.9873 - val_recall_24: 0.5954\n",
      "Epoch 9/50\n",
      "904/904 [==============================] - 2s 2ms/step - loss: 0.0219 - accuracy: 0.9954 - precision_24: 0.9408 - recall_24: 0.5356 - val_loss: 0.0192 - val_accuracy: 0.9956 - val_precision_24: 0.9873 - val_recall_24: 0.5954\n",
      "Epoch 10/50\n",
      "904/904 [==============================] - 2s 2ms/step - loss: 0.0217 - accuracy: 0.9951 - precision_24: 0.9500 - recall_24: 0.4981 - val_loss: 0.0192 - val_accuracy: 0.9956 - val_precision_24: 0.9873 - val_recall_24: 0.5954s: 0.0215 - accuracy: 0.9951 - precision_24: 0.9515 - recall_24:\n",
      "Epoch 11/50\n",
      "904/904 [==============================] - 5s 6ms/step - loss: 0.0219 - accuracy: 0.9952 - precision_24: 0.9444 - recall_24: 0.5094 - val_loss: 0.0192 - val_accuracy: 0.9956 - val_precision_24: 0.9873 - val_recall_24: 0.5954\n",
      "Epoch 12/50\n",
      "904/904 [==============================] - 5s 5ms/step - loss: 0.0216 - accuracy: 0.9954 - precision_24: 0.9467 - recall_24: 0.5318 - val_loss: 0.0192 - val_accuracy: 0.9956 - val_precision_24: 0.9873 - val_recall_24: 0.5954\n",
      "Epoch 13/50\n",
      "904/904 [==============================] - 5s 5ms/step - loss: 0.0212 - accuracy: 0.9955 - precision_24: 0.9539 - recall_24: 0.5431 - val_loss: 0.0192 - val_accuracy: 0.9957 - val_precision_24: 0.9875 - val_recall_24: 0.6031\n",
      "Epoch 14/50\n",
      "904/904 [==============================] - 5s 6ms/step - loss: 0.0209 - accuracy: 0.9955 - precision_24: 0.9595 - recall_24: 0.5318 - val_loss: 0.0190 - val_accuracy: 0.9957 - val_precision_24: 0.9875 - val_recall_24: 0.6031\n",
      "Epoch 15/50\n",
      "904/904 [==============================] - 5s 6ms/step - loss: 0.0212 - accuracy: 0.9955 - precision_24: 0.9597 - recall_24: 0.5356 - val_loss: 0.0193 - val_accuracy: 0.9957 - val_precision_24: 0.9875 - val_recall_24: 0.6031\n",
      "Epoch 16/50\n",
      "904/904 [==============================] - 2s 2ms/step - loss: 0.0210 - accuracy: 0.9955 - precision_24: 0.9539 - recall_24: 0.5431 - val_loss: 0.0191 - val_accuracy: 0.9957 - val_precision_24: 0.9875 - val_recall_24: 0.6031\n",
      "Epoch 17/50\n",
      "904/904 [==============================] - 2s 2ms/step - loss: 0.0212 - accuracy: 0.9953 - precision_24: 0.9456 - recall_24: 0.5206 - val_loss: 0.0190 - val_accuracy: 0.9957 - val_precision_24: 0.9875 - val_recall_24: 0.6031\n",
      "Epoch 18/50\n",
      "904/904 [==============================] - 6s 6ms/step - loss: 0.0200 - accuracy: 0.9954 - precision_24: 0.9351 - recall_24: 0.5393 - val_loss: 0.0191 - val_accuracy: 0.9957 - val_precision_24: 0.9875 - val_recall_24: 0.6031\n",
      "Epoch 19/50\n",
      "904/904 [==============================] - 4s 5ms/step - loss: 0.0207 - accuracy: 0.9956 - precision_24: 0.9608 - recall_24: 0.5506 - val_loss: 0.0190 - val_accuracy: 0.9957 - val_precision_24: 0.9875 - val_recall_24: 0.6031\n",
      "Epoch 20/50\n",
      "904/904 [==============================] - 7s 8ms/step - loss: 0.0203 - accuracy: 0.9957 - precision_24: 0.9615 - recall_24: 0.5618 - val_loss: 0.0192 - val_accuracy: 0.9957 - val_precision_24: 0.9875 - val_recall_24: 0.6031\n",
      "Epoch 21/50\n",
      "904/904 [==============================] - 5s 6ms/step - loss: 0.0203 - accuracy: 0.9956 - precision_24: 0.9487 - recall_24: 0.5543 - val_loss: 0.0194 - val_accuracy: 0.9957 - val_precision_24: 0.9875 - val_recall_24: 0.6031\n",
      "Epoch 22/50\n",
      "904/904 [==============================] - 7s 8ms/step - loss: 0.0210 - accuracy: 0.9956 - precision_24: 0.9605 - recall_24: 0.5468 - val_loss: 0.0193 - val_accuracy: 0.9957 - val_precision_24: 0.9875 - val_recall_24: 0.6031\n",
      "Epoch 23/50\n",
      "904/904 [==============================] - 5s 5ms/step - loss: 0.0212 - accuracy: 0.9955 - precision_24: 0.9419 - recall_24: 0.5468 - val_loss: 0.0192 - val_accuracy: 0.9957 - val_precision_24: 0.9875 - val_recall_24: 0.6031\n",
      "Epoch 24/50\n",
      "904/904 [==============================] - 2s 3ms/step - loss: 0.0212 - accuracy: 0.9955 - precision_24: 0.9359 - recall_24: 0.5468 - val_loss: 0.0192 - val_accuracy: 0.9958 - val_precision_24: 0.9877 - val_recall_24: 0.6107\n",
      "Epoch 25/50\n",
      "904/904 [==============================] - 1s 2ms/step - loss: 0.0213 - accuracy: 0.9955 - precision_24: 0.9474 - recall_24: 0.5393 - val_loss: 0.0194 - val_accuracy: 0.9957 - val_precision_24: 0.9875 - val_recall_24: 0.6031\n",
      "Epoch 26/50\n",
      "904/904 [==============================] - 4s 5ms/step - loss: 0.0214 - accuracy: 0.9956 - precision_24: 0.9732 - recall_24: 0.5431 - val_loss: 0.0192 - val_accuracy: 0.9957 - val_precision_24: 0.9875 - val_recall_24: 0.6031\n",
      "Epoch 27/50\n",
      "904/904 [==============================] - 5s 5ms/step - loss: 0.0210 - accuracy: 0.9954 - precision_24: 0.9412 - recall_24: 0.5393 - val_loss: 0.0191 - val_accuracy: 0.9957 - val_precision_24: 0.9875 - val_recall_24: 0.6031\n",
      "Epoch 28/50\n",
      "904/904 [==============================] - 5s 6ms/step - loss: 0.0208 - accuracy: 0.9955 - precision_24: 0.9533 - recall_24: 0.5356 - val_loss: 0.0191 - val_accuracy: 0.9958 - val_precision_24: 0.9877 - val_recall_24: 0.6107\n",
      "Epoch 29/50\n",
      "904/904 [==============================] - 6s 6ms/step - loss: 0.0201 - accuracy: 0.9959 - precision_24: 0.9686 - recall_24: 0.5768 - val_loss: 0.0191 - val_accuracy: 0.9958 - val_precision_24: 0.9877 - val_recall_24: 0.6107\n",
      "Epoch 30/50\n",
      "904/904 [==============================] - 5s 6ms/step - loss: 0.0207 - accuracy: 0.9955 - precision_24: 0.9477 - recall_24: 0.5431 - val_loss: 0.0191 - val_accuracy: 0.9957 - val_precision_24: 0.9875 - val_recall_24: 0.6031\n",
      "Epoch 31/50\n",
      "904/904 [==============================] - 5s 6ms/step - loss: 0.0202 - accuracy: 0.9957 - precision_24: 0.9497 - recall_24: 0.5655 - val_loss: 0.0192 - val_accuracy: 0.9957 - val_precision_24: 0.9875 - val_recall_24: 0.6031\n",
      "Epoch 32/50\n",
      "904/904 [==============================] - 6s 7ms/step - loss: 0.0202 - accuracy: 0.9956 - precision_24: 0.9379 - recall_24: 0.5655 - val_loss: 0.0192 - val_accuracy: 0.9957 - val_precision_24: 0.9875 - val_recall_24: 0.6031\n",
      "Epoch 33/50\n",
      "904/904 [==============================] - 4s 4ms/step - loss: 0.0208 - accuracy: 0.9957 - precision_24: 0.9615 - recall_24: 0.5618 - val_loss: 0.0191 - val_accuracy: 0.9958 - val_precision_24: 0.9877 - val_recall_24: 0.6107\n",
      "Epoch 34/50\n",
      "904/904 [==============================] - 4s 4ms/step - loss: 0.0208 - accuracy: 0.9956 - precision_24: 0.9664 - recall_24: 0.5393 - val_loss: 0.0192 - val_accuracy: 0.9958 - val_precision_24: 0.9877 - val_recall_24: 0.6107\n",
      "Epoch 35/50\n"
     ]
    },
    {
     "name": "stdout",
     "output_type": "stream",
     "text": [
      "904/904 [==============================] - 6s 6ms/step - loss: 0.0209 - accuracy: 0.9956 - precision_24: 0.9669 - recall_24: 0.5468 - val_loss: 0.0191 - val_accuracy: 0.9958 - val_precision_24: 0.9877 - val_recall_24: 0.6107\n",
      "Epoch 36/50\n",
      "904/904 [==============================] - 6s 6ms/step - loss: 0.0206 - accuracy: 0.9955 - precision_24: 0.9419 - recall_24: 0.5468 - val_loss: 0.0191 - val_accuracy: 0.9958 - val_precision_24: 0.9877 - val_recall_24: 0.6107\n",
      "Epoch 37/50\n",
      "904/904 [==============================] - 5s 6ms/step - loss: 0.0204 - accuracy: 0.9956 - precision_24: 0.9603 - recall_24: 0.5431 - val_loss: 0.0191 - val_accuracy: 0.9958 - val_precision_24: 0.9877 - val_recall_24: 0.6107 loss: 0.0216 - accuracy: 0.9953 - precision\n",
      "Epoch 38/50\n",
      "904/904 [==============================] - 5s 5ms/step - loss: 0.0206 - accuracy: 0.9956 - precision_24: 0.9664 - recall_24: 0.5393 - val_loss: 0.0190 - val_accuracy: 0.9958 - val_precision_24: 0.9877 - val_recall_24: 0.6107\n",
      "Epoch 39/50\n",
      "904/904 [==============================] - 5s 6ms/step - loss: 0.0205 - accuracy: 0.9955 - precision_24: 0.9539 - recall_24: 0.5431 - val_loss: 0.0189 - val_accuracy: 0.9958 - val_precision_24: 0.9877 - val_recall_24: 0.6107\n",
      "Epoch 40/50\n",
      "904/904 [==============================] - 6s 7ms/step - loss: 0.0209 - accuracy: 0.9956 - precision_24: 0.9730 - recall_24: 0.5393 - val_loss: 0.0187 - val_accuracy: 0.9959 - val_precision_24: 0.9878 - val_recall_24: 0.6183\n",
      "Epoch 41/50\n",
      "904/904 [==============================] - 7s 7ms/step - loss: 0.0199 - accuracy: 0.9955 - precision_24: 0.9481 - recall_24: 0.5468 - val_loss: 0.0187 - val_accuracy: 0.9958 - val_precision_24: 0.9877 - val_recall_24: 0.6107\n",
      "Epoch 42/50\n",
      "904/904 [==============================] - 6s 6ms/step - loss: 0.0209 - accuracy: 0.9956 - precision_24: 0.9321 - recall_24: 0.5655 - val_loss: 0.0190 - val_accuracy: 0.9958 - val_precision_24: 0.9877 - val_recall_24: 0.6107\n",
      "Epoch 43/50\n",
      "904/904 [==============================] - 5s 5ms/step - loss: 0.0202 - accuracy: 0.9957 - precision_24: 0.9441 - recall_24: 0.5693 - val_loss: 0.0190 - val_accuracy: 0.9958 - val_precision_24: 0.9877 - val_recall_24: 0.6107\n",
      "Epoch 44/50\n",
      "904/904 [==============================] - 5s 6ms/step - loss: 0.0199 - accuracy: 0.9957 - precision_24: 0.9551 - recall_24: 0.5581 - val_loss: 0.0190 - val_accuracy: 0.9958 - val_precision_24: 0.9877 - val_recall_24: 0.6107\n",
      "Epoch 45/50\n",
      "904/904 [==============================] - 5s 6ms/step - loss: 0.0200 - accuracy: 0.9957 - precision_24: 0.9615 - recall_24: 0.5618 - val_loss: 0.0190 - val_accuracy: 0.9958 - val_precision_24: 0.9877 - val_recall_24: 0.6107\n",
      "Epoch 46/50\n",
      "904/904 [==============================] - 7s 7ms/step - loss: 0.0207 - accuracy: 0.9956 - precision_24: 0.9608 - recall_24: 0.5506 - val_loss: 0.0190 - val_accuracy: 0.9958 - val_precision_24: 0.9877 - val_recall_24: 0.610756 - precision_24: 0.9658 - recall_24: \n",
      "Epoch 47/50\n",
      "904/904 [==============================] - 5s 5ms/step - loss: 0.0204 - accuracy: 0.9959 - precision_24: 0.9515 - recall_24: 0.5880 - val_loss: 0.0189 - val_accuracy: 0.9958 - val_precision_24: 0.9877 - val_recall_24: 0.6107\n",
      "Epoch 48/50\n",
      "904/904 [==============================] - 5s 6ms/step - loss: 0.0206 - accuracy: 0.9957 - precision_24: 0.9557 - recall_24: 0.5655 - val_loss: 0.0188 - val_accuracy: 0.9958 - val_precision_24: 0.9877 - val_recall_24: 0.6107\n",
      "Epoch 49/50\n",
      "904/904 [==============================] - 5s 6ms/step - loss: 0.0202 - accuracy: 0.9957 - precision_24: 0.9610 - recall_24: 0.5543 - val_loss: 0.0189 - val_accuracy: 0.9958 - val_precision_24: 0.9877 - val_recall_24: 0.6107\n",
      "Epoch 50/50\n",
      "904/904 [==============================] - 6s 7ms/step - loss: 0.0198 - accuracy: 0.9956 - precision_24: 0.9430 - recall_24: 0.5581 - val_loss: 0.0189 - val_accuracy: 0.9958 - val_precision_24: 0.9877 - val_recall_24: 0.6107\n"
     ]
    }
   ],
   "source": [
    "model = NN(Xt = x_train_scale)\n",
    "lr_model_history = model.fit(x_train_scale, y_train, validation_data = (x_test_scale, y_test), \n",
    "                             batch_size = 32, epochs = epochs, verbose = 1)"
   ]
  },
  {
   "cell_type": "code",
   "execution_count": 230,
   "metadata": {},
   "outputs": [
    {
     "name": "stdout",
     "output_type": "stream",
     "text": [
      "accuracy: 0.9958024024963379\n",
      "precision: 0.9876543283462524\n",
      "recall: 0.6106870174407959\n"
     ]
    }
   ],
   "source": [
    "print('accuracy: ' + str(model.evaluate(x_test_scale,y_test, verbose=0)[1]))\n",
    "print('precision: ' + str(model.evaluate(x_test_scale,y_test, verbose=0)[2]))\n",
    "print('recall: ' + str(model.evaluate(x_test_scale,y_test, verbose=0)[3]))"
   ]
  },
  {
   "cell_type": "code",
   "execution_count": 231,
   "metadata": {},
   "outputs": [
    {
     "data": {
      "image/png": "[encoded data removed]",
      "text/plain": [
       "<Figure size 720x432 with 1 Axes>"
      ]
     },
     "metadata": {
      "needs_background": "light"
     },
     "output_type": "display_data"
    }
   ],
   "source": [
    "# Plot the loss function\n",
    "fig, ax = plt.subplots(1, 1, figsize=(10,6))\n",
    "ax.plot(np.sqrt(lr_model_history.history['loss']), 'r', label='train')\n",
    "ax.plot(np.sqrt(lr_model_history.history['val_loss']), 'b' ,label='val')\n",
    "ax.set_xlabel(r'Epoch', fontsize=20)\n",
    "ax.set_ylabel(r'Loss', fontsize=20)\n",
    "ax.legend()\n",
    "ax.tick_params(labelsize=20)"
   ]
  },
  {
   "cell_type": "code",
   "execution_count": 232,
   "metadata": {},
   "outputs": [
    {
     "data": {
      "image/png": "[encoded data removed]",
      "text/plain": [
       "<Figure size 720x432 with 1 Axes>"
      ]
     },
     "metadata": {
      "needs_background": "light"
     },
     "output_type": "display_data"
    }
   ],
   "source": [
    "# Plot the accuracy\n",
    "fig, ax = plt.subplots(1, 1, figsize=(10,6))\n",
    "ax.plot(np.sqrt(lr_model_history.history['accuracy']), 'r', label='train')\n",
    "ax.plot(np.sqrt(lr_model_history.history['val_accuracy']), 'b' ,label='val')\n",
    "ax.set_xlabel(r'Epoch', fontsize=20)\n",
    "ax.set_ylabel(r'Accuracy', fontsize=20)\n",
    "ax.legend()\n",
    "ax.tick_params(labelsize=20)"
   ]
  },
  {
   "cell_type": "code",
   "execution_count": 233,
   "metadata": {},
   "outputs": [],
   "source": [
    "from keras.callbacks import LearningRateScheduler\n",
    "from keras.callbacks import History\n",
    "\n",
    "epochs = 50\n",
    "learning_rate = 0.1 # initial learning rate\n",
    "decay_rate = 0.1\n",
    "momentum = 0.8\n",
    "\n",
    "sgd = SGD(learning_rate=learning_rate, momentum=momentum, decay=decay_rate, nesterov=False)\n",
    "\n",
    "def exp_decay(epoch):\n",
    "    lrate = learning_rate * np.exp(-decay_rate*epoch)\n",
    "    return lrate\n",
    "\n",
    "# learning schedule callback\n",
    "lr_rate = LearningRateScheduler(exp_decay)\n",
    "callbacks_list = [lr_rate]"
   ]
  },
  {
   "cell_type": "code",
   "execution_count": 241,
   "metadata": {},
   "outputs": [
    {
     "name": "stdout",
     "output_type": "stream",
     "text": [
      "Epoch 1/50\n",
      "452/452 [==============================] - 2s 2ms/step - loss: 0.8060 - accuracy: 0.1733 - precision_24: 0.0140 - recall_24: 0.6616 - val_loss: 0.7451 - val_accuracy: 0.3508 - val_precision_24: 0.0156 - val_recall_24: 0.9695 - lr: 0.1000\n",
      "Epoch 2/50\n",
      "452/452 [==============================] - 1s 2ms/step - loss: 0.7862 - accuracy: 0.2899 - precision_24: 0.0120 - recall_24: 0.9363 - val_loss: 0.7257 - val_accuracy: 0.7408 - val_precision_24: 0.0378 - val_recall_24: 0.9618 - lr: 0.0905\n",
      "Epoch 3/50\n",
      "452/452 [==============================] - 1s 2ms/step - loss: 0.7677 - accuracy: 0.4067 - precision_24: 0.0140 - recall_24: 0.9101 - val_loss: 0.7093 - val_accuracy: 0.7661 - val_precision_24: 0.0414 - val_recall_24: 0.9542 - lr: 0.0819\n",
      "Epoch 4/50\n",
      "452/452 [==============================] - 1s 2ms/step - loss: 0.7535 - accuracy: 0.5061 - precision_24: 0.0164 - recall_24: 0.8876 - val_loss: 0.6955 - val_accuracy: 0.7846 - val_precision_24: 0.0449 - val_recall_24: 0.9542 - lr: 0.0741\n",
      "Epoch 5/50\n",
      "452/452 [==============================] - 1s 2ms/step - loss: 0.7407 - accuracy: 0.5850 - precision_24: 0.0195 - recall_24: 0.8914 - val_loss: 0.6837 - val_accuracy: 0.7996 - val_precision_24: 0.0477 - val_recall_24: 0.9466 - lr: 0.0670\n",
      "Epoch 6/50\n",
      "452/452 [==============================] - 1s 2ms/step - loss: 0.7262 - accuracy: 0.6478 - precision_24: 0.0229 - recall_24: 0.8914 - val_loss: 0.6735 - val_accuracy: 0.8128 - val_precision_24: 0.0502 - val_recall_24: 0.9313 - lr: 0.0607\n",
      "Epoch 7/50\n",
      "452/452 [==============================] - 1s 2ms/step - loss: 0.7163 - accuracy: 0.6927 - precision_24: 0.0258 - recall_24: 0.8764 - val_loss: 0.6645 - val_accuracy: 0.8264 - val_precision_24: 0.0535 - val_recall_24: 0.9237 - lr: 0.0549\n",
      "Epoch 8/50\n",
      "452/452 [==============================] - 1s 2ms/step - loss: 0.7084 - accuracy: 0.7282 - precision_24: 0.0293 - recall_24: 0.8839 - val_loss: 0.6568 - val_accuracy: 0.8377 - val_precision_24: 0.0570 - val_recall_24: 0.9237 - lr: 0.0497\n",
      "Epoch 9/50\n",
      "452/452 [==============================] - 1s 2ms/step - loss: 0.7009 - accuracy: 0.7580 - precision_24: 0.0311 - recall_24: 0.8352 - val_loss: 0.6500 - val_accuracy: 0.8476 - val_precision_24: 0.0601 - val_recall_24: 0.9160 - lr: 0.0449\n",
      "Epoch 10/50\n",
      "452/452 [==============================] - 1s 2ms/step - loss: 0.6935 - accuracy: 0.7785 - precision_24: 0.0352 - recall_24: 0.8689 - val_loss: 0.6441 - val_accuracy: 0.8557 - val_precision_24: 0.0633 - val_recall_24: 0.9160 - lr: 0.0407\n",
      "Epoch 11/50\n",
      "452/452 [==============================] - 1s 2ms/step - loss: 0.6879 - accuracy: 0.7969 - precision_24: 0.0373 - recall_24: 0.8464 - val_loss: 0.6388 - val_accuracy: 0.8641 - val_precision_24: 0.0669 - val_recall_24: 0.9160 - lr: 0.0368\n",
      "Epoch 12/50\n",
      "452/452 [==============================] - 1s 2ms/step - loss: 0.6813 - accuracy: 0.8072 - precision_24: 0.0386 - recall_24: 0.8315 - val_loss: 0.6341 - val_accuracy: 0.8707 - val_precision_24: 0.0701 - val_recall_24: 0.9160 - lr: 0.0333\n",
      "Epoch 13/50\n",
      "452/452 [==============================] - 1s 2ms/step - loss: 0.6759 - accuracy: 0.8198 - precision_24: 0.0424 - recall_24: 0.8577 - val_loss: 0.6300 - val_accuracy: 0.8761 - val_precision_24: 0.0730 - val_recall_24: 0.9160 - lr: 0.0301\n",
      "Epoch 14/50\n",
      "452/452 [==============================] - 1s 2ms/step - loss: 0.6727 - accuracy: 0.8278 - precision_24: 0.0424 - recall_24: 0.8165 - val_loss: 0.6262 - val_accuracy: 0.8796 - val_precision_24: 0.0750 - val_recall_24: 0.9160 - lr: 0.0273\n",
      "Epoch 15/50\n",
      "452/452 [==============================] - 1s 2ms/step - loss: 0.6698 - accuracy: 0.8336 - precision_24: 0.0438 - recall_24: 0.8165 - val_loss: 0.6229 - val_accuracy: 0.8839 - val_precision_24: 0.0776 - val_recall_24: 0.9160 - lr: 0.0247\n",
      "Epoch 16/50\n",
      "452/452 [==============================] - 1s 2ms/step - loss: 0.6662 - accuracy: 0.8363 - precision_24: 0.0441 - recall_24: 0.8090 - val_loss: 0.6199 - val_accuracy: 0.8883 - val_precision_24: 0.0804 - val_recall_24: 0.9160 - lr: 0.0223\n",
      "Epoch 17/50\n",
      "452/452 [==============================] - 1s 2ms/step - loss: 0.6613 - accuracy: 0.8443 - precision_24: 0.0465 - recall_24: 0.8127 - val_loss: 0.6173 - val_accuracy: 0.8926 - val_precision_24: 0.0833 - val_recall_24: 0.9160 - lr: 0.0202\n",
      "Epoch 18/50\n",
      "452/452 [==============================] - 1s 2ms/step - loss: 0.6597 - accuracy: 0.8466 - precision_24: 0.0468 - recall_24: 0.8052 - val_loss: 0.6149 - val_accuracy: 0.8959 - val_precision_24: 0.0858 - val_recall_24: 0.9160 - lr: 0.0183\n",
      "Epoch 19/50\n",
      "452/452 [==============================] - 1s 2ms/step - loss: 0.6576 - accuracy: 0.8530 - precision_24: 0.0506 - recall_24: 0.8390 - val_loss: 0.6127 - val_accuracy: 0.8972 - val_precision_24: 0.0868 - val_recall_24: 0.9160 - lr: 0.0165\n",
      "Epoch 20/50\n",
      "452/452 [==============================] - 1s 2ms/step - loss: 0.6543 - accuracy: 0.8535 - precision_24: 0.0481 - recall_24: 0.7903 - val_loss: 0.6108 - val_accuracy: 0.8990 - val_precision_24: 0.0882 - val_recall_24: 0.9160 - lr: 0.0150\n",
      "Epoch 21/50\n",
      "452/452 [==============================] - 1s 2ms/step - loss: 0.6515 - accuracy: 0.8567 - precision_24: 0.0512 - recall_24: 0.8277 - val_loss: 0.6091 - val_accuracy: 0.9028 - val_precision_24: 0.0914 - val_recall_24: 0.9160 - lr: 0.0135\n",
      "Epoch 22/50\n",
      "452/452 [==============================] - 1s 2ms/step - loss: 0.6522 - accuracy: 0.8569 - precision_24: 0.0509 - recall_24: 0.8202 - val_loss: 0.6075 - val_accuracy: 0.9049 - val_precision_24: 0.0932 - val_recall_24: 0.9160 - lr: 0.0122\n",
      "Epoch 23/50\n",
      "452/452 [==============================] - 1s 2ms/step - loss: 0.6500 - accuracy: 0.8597 - precision_24: 0.0488 - recall_24: 0.7678 - val_loss: 0.6061 - val_accuracy: 0.9061 - val_precision_24: 0.0943 - val_recall_24: 0.9160 - lr: 0.0111\n",
      "Epoch 24/50\n",
      "452/452 [==============================] - 1s 2ms/step - loss: 0.6489 - accuracy: 0.8623 - precision_24: 0.0514 - recall_24: 0.7978 - val_loss: 0.6049 - val_accuracy: 0.9064 - val_precision_24: 0.0946 - val_recall_24: 0.9160 - lr: 0.0100\n",
      "Epoch 25/50\n",
      "452/452 [==============================] - 1s 2ms/step - loss: 0.6460 - accuracy: 0.8640 - precision_24: 0.0519 - recall_24: 0.7940 - val_loss: 0.6038 - val_accuracy: 0.9077 - val_precision_24: 0.0958 - val_recall_24: 0.9160 - lr: 0.0091\n",
      "Epoch 26/50\n",
      "452/452 [==============================] - 1s 2ms/step - loss: 0.6457 - accuracy: 0.8648 - precision_24: 0.0533 - recall_24: 0.8127 - val_loss: 0.6028 - val_accuracy: 0.9093 - val_precision_24: 0.0973 - val_recall_24: 0.9160 - lr: 0.0082\n",
      "Epoch 27/50\n",
      "452/452 [==============================] - 1s 2ms/step - loss: 0.6455 - accuracy: 0.8647 - precision_24: 0.0523 - recall_24: 0.7978 - val_loss: 0.6019 - val_accuracy: 0.9107 - val_precision_24: 0.0988 - val_recall_24: 0.9160 - lr: 0.0074\n",
      "Epoch 28/50\n",
      "452/452 [==============================] - 1s 2ms/step - loss: 0.6434 - accuracy: 0.8655 - precision_24: 0.0522 - recall_24: 0.7903 - val_loss: 0.6010 - val_accuracy: 0.9121 - val_precision_24: 0.1002 - val_recall_24: 0.9160 - lr: 0.0067\n",
      "Epoch 29/50\n",
      "452/452 [==============================] - 1s 2ms/step - loss: 0.6413 - accuracy: 0.8677 - precision_24: 0.0512 - recall_24: 0.7603 - val_loss: 0.6003 - val_accuracy: 0.9131 - val_precision_24: 0.1012 - val_recall_24: 0.9160 - lr: 0.0061\n",
      "Epoch 30/50\n",
      "452/452 [==============================] - 1s 2ms/step - loss: 0.6411 - accuracy: 0.8683 - precision_24: 0.0537 - recall_24: 0.7978 - val_loss: 0.5997 - val_accuracy: 0.9133 - val_precision_24: 0.1014 - val_recall_24: 0.9160 - lr: 0.0055\n",
      "Epoch 31/50\n",
      "452/452 [==============================] - 1s 2ms/step - loss: 0.6402 - accuracy: 0.8692 - precision_24: 0.0554 - recall_24: 0.8202 - val_loss: 0.5991 - val_accuracy: 0.9135 - val_precision_24: 0.1016 - val_recall_24: 0.9160 - lr: 0.0050\n",
      "Epoch 32/50\n",
      "452/452 [==============================] - 1s 3ms/step - loss: 0.6418 - accuracy: 0.8719 - precision_24: 0.0544 - recall_24: 0.7865 - val_loss: 0.5985 - val_accuracy: 0.9138 - val_precision_24: 0.1020 - val_recall_24: 0.9160 - lr: 0.0045\n",
      "Epoch 33/50\n"
     ]
    },
    {
     "name": "stdout",
     "output_type": "stream",
     "text": [
      "452/452 [==============================] - 1s 2ms/step - loss: 0.6411 - accuracy: 0.8715 - precision_24: 0.0554 - recall_24: 0.8052 - val_loss: 0.5981 - val_accuracy: 0.9140 - val_precision_24: 0.1022 - val_recall_24: 0.9160 - lr: 0.0041\n",
      "Epoch 34/50\n",
      "452/452 [==============================] - 1s 2ms/step - loss: 0.6417 - accuracy: 0.8708 - precision_24: 0.0536 - recall_24: 0.7790 - val_loss: 0.5976 - val_accuracy: 0.9143 - val_precision_24: 0.1025 - val_recall_24: 0.9160 - lr: 0.0037\n",
      "Epoch 35/50\n",
      "452/452 [==============================] - 1s 2ms/step - loss: 0.6390 - accuracy: 0.8705 - precision_24: 0.0548 - recall_24: 0.8015 - val_loss: 0.5972 - val_accuracy: 0.9144 - val_precision_24: 0.1027 - val_recall_24: 0.9160 - lr: 0.0033\n",
      "Epoch 36/50\n",
      "452/452 [==============================] - 1s 2ms/step - loss: 0.6410 - accuracy: 0.8713 - precision_24: 0.0542 - recall_24: 0.7865 - val_loss: 0.5969 - val_accuracy: 0.9146 - val_precision_24: 0.1028 - val_recall_24: 0.9160 - lr: 0.0030\n",
      "Epoch 37/50\n",
      "452/452 [==============================] - 1s 2ms/step - loss: 0.6391 - accuracy: 0.8745 - precision_24: 0.0560 - recall_24: 0.7940 - val_loss: 0.5966 - val_accuracy: 0.9149 - val_precision_24: 0.1032 - val_recall_24: 0.9160 - lr: 0.0027\n",
      "Epoch 38/50\n",
      "452/452 [==============================] - 1s 3ms/step - loss: 0.6387 - accuracy: 0.8729 - precision_24: 0.0576 - recall_24: 0.8315 - val_loss: 0.5963 - val_accuracy: 0.9152 - val_precision_24: 0.1035 - val_recall_24: 0.9160 - lr: 0.0025\n",
      "Epoch 39/50\n",
      "452/452 [==============================] - 1s 2ms/step - loss: 0.6371 - accuracy: 0.8741 - precision_24: 0.0547 - recall_24: 0.7753 - val_loss: 0.5961 - val_accuracy: 0.9159 - val_precision_24: 0.1043 - val_recall_24: 0.9160 - lr: 0.0022\n",
      "Epoch 40/50\n",
      "452/452 [==============================] - 2s 3ms/step - loss: 0.6386 - accuracy: 0.8720 - precision_24: 0.0547 - recall_24: 0.7903 - val_loss: 0.5958 - val_accuracy: 0.9164 - val_precision_24: 0.1048 - val_recall_24: 0.9160 - lr: 0.0020\n",
      "Epoch 41/50\n",
      "452/452 [==============================] - 1s 2ms/step - loss: 0.6381 - accuracy: 0.8720 - precision_24: 0.0554 - recall_24: 0.8015 - val_loss: 0.5956 - val_accuracy: 0.9169 - val_precision_24: 0.1054 - val_recall_24: 0.9160 - lr: 0.0018\n",
      "Epoch 42/50\n",
      "452/452 [==============================] - 1s 2ms/step - loss: 0.6383 - accuracy: 0.8757 - precision_24: 0.0549 - recall_24: 0.7678 - val_loss: 0.5954 - val_accuracy: 0.9176 - val_precision_24: 0.1055 - val_recall_24: 0.9084 - lr: 0.0017\n",
      "Epoch 43/50\n",
      "452/452 [==============================] - 1s 2ms/step - loss: 0.6367 - accuracy: 0.8735 - precision_24: 0.0561 - recall_24: 0.8015 - val_loss: 0.5953 - val_accuracy: 0.9181 - val_precision_24: 0.1062 - val_recall_24: 0.9084 - lr: 0.0015\n",
      "Epoch 44/50\n",
      "452/452 [==============================] - 1s 2ms/step - loss: 0.6368 - accuracy: 0.8728 - precision_24: 0.0551 - recall_24: 0.7903 - val_loss: 0.5951 - val_accuracy: 0.9183 - val_precision_24: 0.1063 - val_recall_24: 0.9084 - lr: 0.0014\n",
      "Epoch 45/50\n",
      "452/452 [==============================] - 1s 2ms/step - loss: 0.6369 - accuracy: 0.8730 - precision_24: 0.0547 - recall_24: 0.7828 - val_loss: 0.5950 - val_accuracy: 0.9189 - val_precision_24: 0.1070 - val_recall_24: 0.9084 - lr: 0.0012\n",
      "Epoch 46/50\n",
      "452/452 [==============================] - 1s 2ms/step - loss: 0.6362 - accuracy: 0.8710 - precision_24: 0.0527 - recall_24: 0.7640 - val_loss: 0.5949 - val_accuracy: 0.9190 - val_precision_24: 0.1072 - val_recall_24: 0.9084 - lr: 0.0011\n",
      "Epoch 47/50\n",
      "452/452 [==============================] - 1s 2ms/step - loss: 0.6352 - accuracy: 0.8739 - precision_24: 0.0548 - recall_24: 0.7790 - val_loss: 0.5948 - val_accuracy: 0.9193 - val_precision_24: 0.1075 - val_recall_24: 0.9084 - lr: 0.0010\n",
      "Epoch 48/50\n",
      "452/452 [==============================] - 1s 2ms/step - loss: 0.6381 - accuracy: 0.8728 - precision_24: 0.0555 - recall_24: 0.7978 - val_loss: 0.5947 - val_accuracy: 0.9196 - val_precision_24: 0.1079 - val_recall_24: 0.9084 - lr: 9.0953e-04\n",
      "Epoch 49/50\n",
      "452/452 [==============================] - 1s 2ms/step - loss: 0.6370 - accuracy: 0.8751 - precision_24: 0.0558 - recall_24: 0.7865 - val_loss: 0.5946 - val_accuracy: 0.9198 - val_precision_24: 0.1082 - val_recall_24: 0.9084 - lr: 8.2297e-04\n",
      "Epoch 50/50\n",
      "452/452 [==============================] - 1s 2ms/step - loss: 0.6370 - accuracy: 0.8755 - precision_24: 0.0560 - recall_24: 0.7865 - val_loss: 0.5945 - val_accuracy: 0.9198 - val_precision_24: 0.1082 - val_recall_24: 0.9084 - lr: 7.4466e-04\n"
     ]
    }
   ],
   "source": [
    "exp_model = NN(Xt = x_train_scale)\n",
    "exponential_decay_model_history = exp_model.fit(x_train_scale, y_train,\n",
    "                                    batch_size=64,\n",
    "                                    epochs=epochs,\n",
    "                                    callbacks=callbacks_list,\n",
    "                                    verbose=1,\n",
    "                                    validation_data=(x_test_scale, y_test))"
   ]
  },
  {
   "cell_type": "code",
   "execution_count": 312,
   "metadata": {},
   "outputs": [
    {
     "data": {
      "text/plain": [
       "Text(0, 0.5, 'Learning rate')"
      ]
     },
     "execution_count": 312,
     "metadata": {},
     "output_type": "execute_result"
    },
    {
     "data": {
      "image/png": "[encoded data removed]",
      "text/plain": [
       "<Figure size 720x432 with 1 Axes>"
      ]
     },
     "metadata": {
      "needs_background": "light"
     },
     "output_type": "display_data"
    }
   ],
   "source": [
    "# Plot the loss function\n",
    "fig, ax = plt.subplots(1, 1, figsize=(10,6))\n",
    "ax.plot(exponential_decay_model_history.history['lr'], 'r')\n",
    "ax.set_xlabel(r'Epoch', fontsize=20)zs\n",
    "ax.set_ylabel(r'Learning rate', fontsize=20)"
   ]
  },
  {
   "cell_type": "code",
   "execution_count": 242,
   "metadata": {},
   "outputs": [
    {
     "name": "stdout",
     "output_type": "stream",
     "text": [
      "accuracy: 0.9198417663574219\n",
      "precision: 0.10818181931972504\n",
      "recall: 0.9083969593048096\n"
     ]
    }
   ],
   "source": [
    "print('accuracy: ' + str(exp_model.evaluate(x_test_scale,y_test, verbose=0)[1]))\n",
    "print('precision: ' + str(exp_model.evaluate(x_test_scale,y_test, verbose=0)[2]))\n",
    "print('recall: ' + str(exp_model.evaluate(x_test_scale,y_test, verbose=0)[3]))"
   ]
  },
  {
   "cell_type": "code",
   "execution_count": 243,
   "metadata": {},
   "outputs": [
    {
     "data": {
      "image/png": "[encoded data removed]",
      "text/plain": [
       "<Figure size 720x432 with 1 Axes>"
      ]
     },
     "metadata": {
      "needs_background": "light"
     },
     "output_type": "display_data"
    }
   ],
   "source": [
    "# Plot the loss function\n",
    "fig, ax = plt.subplots(1, 1, figsize=(10,6))\n",
    "ax.plot(np.sqrt(exponential_decay_model_history.history['loss']), 'r', label='train')\n",
    "ax.plot(np.sqrt(exponential_decay_model_history.history['val_loss']), 'b' ,label='val')\n",
    "ax.set_xlabel(r'Epoch', fontsize=20)\n",
    "ax.set_ylabel(r'Loss', fontsize=20)\n",
    "ax.legend()\n",
    "ax.tick_params(labelsize=20)"
   ]
  },
  {
   "cell_type": "code",
   "execution_count": 314,
   "metadata": {},
   "outputs": [
    {
     "data": {
      "image/png": "[encoded data removed]",
      "text/plain": [
       "<Figure size 720x432 with 1 Axes>"
      ]
     },
     "metadata": {
      "needs_background": "light"
     },
     "output_type": "display_data"
    }
   ],
   "source": [
    "# Plot the accuracy\n",
    "fig, ax = plt.subplots(1, 1, figsize=(10,6))\n",
    "ax.plot(np.sqrt(exponential_decay_model_history.history['accuracy']), 'r', label='train')\n",
    "ax.plot(np.sqrt(exponential_decay_model_history.history['val_accuracy']), 'b' ,label='val')\n",
    "ax.set_xlabel(r'Epoch', fontsize=20)\n",
    "ax.set_ylabel(r'Accuracy', fontsize=20)\n",
    "ax.legend()\n",
    "ax.tick_params(labelsize=20)"
   ]
  },
  {
   "cell_type": "code",
   "execution_count": null,
   "metadata": {},
   "outputs": [],
   "source": []
  }
 ],
 "metadata": {
  "kernelspec": {
   "display_name": "Python 3",
   "language": "python",
   "name": "python3"
  },
  "language_info": {
   "codemirror_mode": {
    "name": "ipython",
    "version": 3
   },
   "file_extension": ".py",
   "mimetype": "text/x-python",
   "name": "python",
   "nbconvert_exporter": "python",
   "pygments_lexer": "ipython3",
   "version": "3.8.5"
  }
 },
 "nbformat": 4,
 "nbformat_minor": 4
}
